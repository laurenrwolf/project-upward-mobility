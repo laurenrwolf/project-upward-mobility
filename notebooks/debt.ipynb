{
 "cells": [
  {
   "cell_type": "code",
   "execution_count": 1,
   "metadata": {
    "id": "oUACv7uuxb7v"
   },
   "outputs": [],
   "source": [
    "import pandas as pd\n"
   ]
  },
  {
   "cell_type": "code",
   "execution_count": 2,
   "metadata": {
    "colab": {
     "base_uri": "https://localhost:8080/"
    },
    "executionInfo": {
     "elapsed": 1130,
     "status": "ok",
     "timestamp": 1660593181841,
     "user": {
      "displayName": "Rachell Calhoun",
      "userId": "09409976350648542629"
     },
     "user_tz": 240
    },
    "id": "jopK0Llpxg1V",
    "outputId": "0e25f9e1-7032-4865-aac1-89ee7edf9175"
   },
   "outputs": [],
   "source": [
    "import os\n",
    "if 'COLAB_GPU' in os.environ:\n",
    "    from google.colab import  drive\n",
    "    drive.mount('/drive')\n",
    "    data_path = '/drive/Shared drives/Capstone/notebooks/data'\n",
    "else:\n",
    "    data_path = 'data'"
   ]
  },
  {
   "cell_type": "markdown",
   "metadata": {
    "id": "4TZTbGkq7OjI"
   },
   "source": [
    "\n",
    "### Financial security\n",
    "Description: Share of households with debt in collections\n",
    "\n",
    "Source: https://datacatalog.urban.org/dataset/debt-america-2022 "
   ]
  },
  {
   "cell_type": "markdown",
   "metadata": {
    "id": "n7daM8z_1vhy"
   },
   "source": [
    "This dataset contains information derived from a random sample of deidentified, consumer-level records from a major credit bureau. The credit bureau data are from February 2022 and contain more than five million records. We also incorporate estimates from summary tables of the US Census Bureau’s American Community Survey (ACS). We use ACS one-year estimates (2019) where possible, but for areas with smaller populations and for metrics that incorporate zip code–level information, we use the ACS five-year estimates (2015–19).\n",
    "\n",
    "The credit bureau data do not include information about race, so the white and people of color metrics are based on the racial makeup of zip codes within the geographic area (nation, state, county). Specifically, the majority-white communities are based on credit records for people who live in zip codes where most residents are white (at least 60 percent of the population is white), and communities of color values are based on credit records for people who live in zip codes where most residents are people of color (at least 60 percent of the population is African American, Hispanic, Asian or Pacific Islander, American Indian or Alaska Native, another race other than white, or multiracial). The ACS data include information on people’s race, so the white and people of color values for ACS metrics are calculated directly for those populations.\n",
    "\n",
    "Data are reported at the national, state, and county levels for the 50 states and Washington, DC. Credit bureau metrics are not reported when they are based on fewer than 50 people. In the dataset, these values are labeled “n/a”. In some cases, values for white communities and communities of color are not reported because there are no zip codes with predominantly white populations or populations of color in the county or state. In the dataset, these values are also labeled “n/a”. The map breaks on the Debt in America Interactive Feature are determined using the Jenks Natural Breaks method.\n",
    "\n",
    "Please note that variable definitions may differ from our Credit Health during the COVID-19 Pandemic publication, which also released national, state, and county-level credit data from 2020-2021."
   ]
  },
  {
   "cell_type": "code",
   "execution_count": 3,
   "metadata": {
    "id": "GKgXKfN5xm68"
   },
   "outputs": [],
   "source": [
    "deliquent =  pd.read_excel(f'{data_path}/raw/county_dia_delinquency_ 7 Jun 2022.xlsx')"
   ]
  },
  {
   "cell_type": "code",
   "execution_count": 4,
   "metadata": {
    "id": "NkAH3fQYyWbz"
   },
   "outputs": [],
   "source": [
    "debt_df = deliquent.copy()\n",
    "debt_df.rename(columns={'GEOID': 'FIPS'}, inplace=True)"
   ]
  },
  {
   "cell_type": "code",
   "execution_count": 5,
   "metadata": {
    "id": "h8p-ntFIzZO7"
   },
   "outputs": [],
   "source": [
    "export_df = debt_df.copy()\n",
    "export_df = export_df[['Share with Any Debt in Collections, All', 'FIPS']].rename(columns={'Share with Any Debt in Collections, All': 'debt_all'})"
   ]
  },
  {
   "cell_type": "code",
   "execution_count": 6,
   "metadata": {
    "id": "omI2ijUh44np"
   },
   "outputs": [],
   "source": [
    "import numpy as np"
   ]
  },
  {
   "cell_type": "code",
   "execution_count": 7,
   "metadata": {
    "id": "h5szlaye2_dn"
   },
   "outputs": [],
   "source": [
    "export_df.replace('n/a*', np.nan, inplace=True)"
   ]
  },
  {
   "cell_type": "code",
   "execution_count": 8,
   "metadata": {
    "id": "356n3PPz24Fm"
   },
   "outputs": [],
   "source": [
    "export_df.to_csv(f'{data_path}/processed/household_debt.csv', index=False)"
   ]
  }
 ],
 "metadata": {
  "colab": {
   "authorship_tag": "ABX9TyNnNhhN04numr37sVYvIRFx",
   "collapsed_sections": [],
   "name": "debt.ipynb",
   "provenance": []
  },
  "kernelspec": {
   "display_name": "Python 3 (ipykernel)",
   "language": "python",
   "name": "python3"
  },
  "language_info": {
   "codemirror_mode": {
    "name": "ipython",
    "version": 3
   },
   "file_extension": ".py",
   "mimetype": "text/x-python",
   "name": "python",
   "nbconvert_exporter": "python",
   "pygments_lexer": "ipython3",
   "version": "3.9.13"
  }
 },
 "nbformat": 4,
 "nbformat_minor": 1
}
