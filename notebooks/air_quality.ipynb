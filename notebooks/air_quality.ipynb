{
 "cells": [
  {
   "cell_type": "code",
   "execution_count": 1,
   "metadata": {
    "id": "boQlAb1KsQRU"
   },
   "outputs": [],
   "source": [
    "import pandas as pd\n",
    "import warnings\n",
    "warnings.filterwarnings('ignore')"
   ]
  },
  {
   "cell_type": "code",
   "execution_count": 2,
   "metadata": {
    "colab": {
     "base_uri": "https://localhost:8080/"
    },
    "executionInfo": {
     "elapsed": 1152,
     "status": "ok",
     "timestamp": 1660593522461,
     "user": {
      "displayName": "Rachell Calhoun",
      "userId": "09409976350648542629"
     },
     "user_tz": 240
    },
    "id": "C6eBDfDtsi4R",
    "outputId": "56fbba4d-4e8b-4aa1-99a2-6eac6218f1af"
   },
   "outputs": [],
   "source": [
    "import os\n",
    "if 'COLAB_GPU' in os.environ:\n",
    "    from google.colab import  drive\n",
    "    drive.mount('/drive')\n",
    "    data_path = '/drive/Shared drives/Capstone/notebooks/data'\n",
    "else:\n",
    "    data_path = 'data'\n"
   ]
  },
  {
   "cell_type": "markdown",
   "metadata": {
    "id": "3gDW9VZi04Rr"
   },
   "source": [
    "### PREDICTOR: ENVIRONMENTAL QUALITY\n",
    "**Metric:** Air quality index\n",
    "\n",
    "The air quality index, or AQI, is an index for reporting daily air quality. It tells how clean or polluted the\n",
    "air is and what associated health effects might be a concern in the community. The AQI includes five\n",
    "major air pollutants regulated by the Clean Air Act: ground-level ozone, particle pollution (also known\n",
    "as particulate matter), carbon monoxide, sulfur dioxide, and nitrogen dioxide. For each of these\n",
    "pollutants, the Environmental Protection Agency has established national air quality standards to\n",
    "protect public health. Ground-level ozone and airborne particles are the two pollutants that pose the\n",
    "greatest threat to human health in the US. Values range from 0 to 500 and are categorized into a six-\n",
    "point scale: good, moderate, unhealthy for sensitive groups, unhealthy, very unhealthy, and hazardous."
   ]
  },
  {
   "cell_type": "markdown",
   "metadata": {
    "id": "9pu4W-E27dkq"
   },
   "source": [
    "**Source:** https://aqs.epa.gov/aqsweb/airdata/annual_aqi_by_county_2019.zip  from https://aqs.epa.gov/aqsweb/airdata/download_files.html \n",
    "\n",
    "**Documentation:** https://aqs.epa.gov/aqsweb/airdata/FileFormats.html#_daily_summary_files \n",
    "\n",
    "**Notes:** Calculated the average of scores across each county. \n"
   ]
  },
  {
   "cell_type": "code",
   "execution_count": 3,
   "metadata": {
    "id": "ZEXxTCrbs0ri"
   },
   "outputs": [],
   "source": [
    "aqi_df =  pd.read_csv(f'{data_path}/raw/annual_aqi_by_county_2019.csv')"
   ]
  },
  {
   "cell_type": "code",
   "execution_count": 4,
   "metadata": {
    "id": "JtbkW6f1vDET"
   },
   "outputs": [],
   "source": [
    "aqi_df = aqi_df.rename(columns={'Median AQI': 'AQI'})"
   ]
  },
  {
   "cell_type": "code",
   "execution_count": 5,
   "metadata": {
    "colab": {
     "base_uri": "https://localhost:8080/",
     "height": 206
    },
    "executionInfo": {
     "elapsed": 12,
     "status": "ok",
     "timestamp": 1660594820934,
     "user": {
      "displayName": "Rachell Calhoun",
      "userId": "09409976350648542629"
     },
     "user_tz": 240
    },
    "id": "S9AydqKoJpsi",
    "outputId": "93560b3f-2e44-4d7e-db1b-648dd290104d"
   },
   "outputs": [
    {
     "data": {
      "text/html": [
       "<div>\n",
       "<style scoped>\n",
       "    .dataframe tbody tr th:only-of-type {\n",
       "        vertical-align: middle;\n",
       "    }\n",
       "\n",
       "    .dataframe tbody tr th {\n",
       "        vertical-align: top;\n",
       "    }\n",
       "\n",
       "    .dataframe thead th {\n",
       "        text-align: right;\n",
       "    }\n",
       "</style>\n",
       "<table border=\"1\" class=\"dataframe\">\n",
       "  <thead>\n",
       "    <tr style=\"text-align: right;\">\n",
       "      <th></th>\n",
       "      <th>State</th>\n",
       "      <th>County</th>\n",
       "      <th>Year</th>\n",
       "      <th>Days with AQI</th>\n",
       "      <th>Good Days</th>\n",
       "      <th>Moderate Days</th>\n",
       "      <th>Unhealthy for Sensitive Groups Days</th>\n",
       "      <th>Unhealthy Days</th>\n",
       "      <th>Very Unhealthy Days</th>\n",
       "      <th>Hazardous Days</th>\n",
       "      <th>Max AQI</th>\n",
       "      <th>90th Percentile AQI</th>\n",
       "      <th>AQI</th>\n",
       "      <th>Days CO</th>\n",
       "      <th>Days NO2</th>\n",
       "      <th>Days Ozone</th>\n",
       "      <th>Days PM2.5</th>\n",
       "      <th>Days PM10</th>\n",
       "    </tr>\n",
       "  </thead>\n",
       "  <tbody>\n",
       "    <tr>\n",
       "      <th>0</th>\n",
       "      <td>Alabama</td>\n",
       "      <td>BALDWIN</td>\n",
       "      <td>2019</td>\n",
       "      <td>271</td>\n",
       "      <td>237</td>\n",
       "      <td>34</td>\n",
       "      <td>0</td>\n",
       "      <td>0</td>\n",
       "      <td>0</td>\n",
       "      <td>0</td>\n",
       "      <td>80</td>\n",
       "      <td>52</td>\n",
       "      <td>37</td>\n",
       "      <td>0</td>\n",
       "      <td>0</td>\n",
       "      <td>220</td>\n",
       "      <td>51</td>\n",
       "      <td>0</td>\n",
       "    </tr>\n",
       "    <tr>\n",
       "      <th>1</th>\n",
       "      <td>Alabama</td>\n",
       "      <td>CLAY</td>\n",
       "      <td>2019</td>\n",
       "      <td>107</td>\n",
       "      <td>97</td>\n",
       "      <td>10</td>\n",
       "      <td>0</td>\n",
       "      <td>0</td>\n",
       "      <td>0</td>\n",
       "      <td>0</td>\n",
       "      <td>67</td>\n",
       "      <td>50</td>\n",
       "      <td>30</td>\n",
       "      <td>0</td>\n",
       "      <td>0</td>\n",
       "      <td>0</td>\n",
       "      <td>107</td>\n",
       "      <td>0</td>\n",
       "    </tr>\n",
       "    <tr>\n",
       "      <th>2</th>\n",
       "      <td>Alabama</td>\n",
       "      <td>COLBERT</td>\n",
       "      <td>2019</td>\n",
       "      <td>263</td>\n",
       "      <td>252</td>\n",
       "      <td>11</td>\n",
       "      <td>0</td>\n",
       "      <td>0</td>\n",
       "      <td>0</td>\n",
       "      <td>0</td>\n",
       "      <td>61</td>\n",
       "      <td>47</td>\n",
       "      <td>37</td>\n",
       "      <td>0</td>\n",
       "      <td>0</td>\n",
       "      <td>228</td>\n",
       "      <td>35</td>\n",
       "      <td>0</td>\n",
       "    </tr>\n",
       "    <tr>\n",
       "      <th>3</th>\n",
       "      <td>Alabama</td>\n",
       "      <td>DEKALB</td>\n",
       "      <td>2019</td>\n",
       "      <td>361</td>\n",
       "      <td>324</td>\n",
       "      <td>37</td>\n",
       "      <td>0</td>\n",
       "      <td>0</td>\n",
       "      <td>0</td>\n",
       "      <td>0</td>\n",
       "      <td>90</td>\n",
       "      <td>51</td>\n",
       "      <td>39</td>\n",
       "      <td>0</td>\n",
       "      <td>0</td>\n",
       "      <td>331</td>\n",
       "      <td>30</td>\n",
       "      <td>0</td>\n",
       "    </tr>\n",
       "    <tr>\n",
       "      <th>4</th>\n",
       "      <td>Alabama</td>\n",
       "      <td>ELMORE</td>\n",
       "      <td>2019</td>\n",
       "      <td>228</td>\n",
       "      <td>208</td>\n",
       "      <td>20</td>\n",
       "      <td>0</td>\n",
       "      <td>0</td>\n",
       "      <td>0</td>\n",
       "      <td>0</td>\n",
       "      <td>100</td>\n",
       "      <td>50</td>\n",
       "      <td>39</td>\n",
       "      <td>0</td>\n",
       "      <td>0</td>\n",
       "      <td>228</td>\n",
       "      <td>0</td>\n",
       "      <td>0</td>\n",
       "    </tr>\n",
       "  </tbody>\n",
       "</table>\n",
       "</div>"
      ],
      "text/plain": [
       "     State   County  Year  Days with AQI  Good Days  Moderate Days  \\\n",
       "0  Alabama  BALDWIN  2019            271        237             34   \n",
       "1  Alabama     CLAY  2019            107         97             10   \n",
       "2  Alabama  COLBERT  2019            263        252             11   \n",
       "3  Alabama   DEKALB  2019            361        324             37   \n",
       "4  Alabama   ELMORE  2019            228        208             20   \n",
       "\n",
       "   Unhealthy for Sensitive Groups Days  Unhealthy Days  Very Unhealthy Days  \\\n",
       "0                                    0               0                    0   \n",
       "1                                    0               0                    0   \n",
       "2                                    0               0                    0   \n",
       "3                                    0               0                    0   \n",
       "4                                    0               0                    0   \n",
       "\n",
       "   Hazardous Days  Max AQI  90th Percentile AQI  AQI  Days CO  Days NO2  \\\n",
       "0               0       80                   52   37        0         0   \n",
       "1               0       67                   50   30        0         0   \n",
       "2               0       61                   47   37        0         0   \n",
       "3               0       90                   51   39        0         0   \n",
       "4               0      100                   50   39        0         0   \n",
       "\n",
       "   Days Ozone  Days PM2.5  Days PM10  \n",
       "0         220          51          0  \n",
       "1           0         107          0  \n",
       "2         228          35          0  \n",
       "3         331          30          0  \n",
       "4         228           0          0  "
      ]
     },
     "execution_count": 5,
     "metadata": {},
     "output_type": "execute_result"
    }
   ],
   "source": [
    "aqi_df['County'] = aqi_df['County'].str.upper()\n",
    "aqi_df.head()"
   ]
  },
  {
   "cell_type": "code",
   "execution_count": 6,
   "metadata": {
    "id": "e77pClM8vdKa"
   },
   "outputs": [],
   "source": [
    "aqi_fips_df = aqi_df.copy()\n"
   ]
  },
  {
   "cell_type": "code",
   "execution_count": 7,
   "metadata": {
    "colab": {
     "base_uri": "https://localhost:8080/"
    },
    "executionInfo": {
     "elapsed": 244,
     "status": "ok",
     "timestamp": 1660594760262,
     "user": {
      "displayName": "Rachell Calhoun",
      "userId": "09409976350648542629"
     },
     "user_tz": 240
    },
    "id": "_nJbc6CNwYmk",
    "outputId": "a0999d25-efd9-4997-f168-cb4ec64704f2"
   },
   "outputs": [
    {
     "data": {
      "text/plain": [
       "Index(['State', 'County', 'Year', 'Days with AQI', 'Good Days',\n",
       "       'Moderate Days', 'Unhealthy for Sensitive Groups Days',\n",
       "       'Unhealthy Days', 'Very Unhealthy Days', 'Hazardous Days', 'Max AQI',\n",
       "       '90th Percentile AQI', 'AQI', 'Days CO', 'Days NO2', 'Days Ozone',\n",
       "       'Days PM2.5', 'Days PM10'],\n",
       "      dtype='object')"
      ]
     },
     "execution_count": 7,
     "metadata": {},
     "output_type": "execute_result"
    }
   ],
   "source": [
    "aqi_fips_df.columns"
   ]
  },
  {
   "cell_type": "code",
   "execution_count": 8,
   "metadata": {
    "id": "gZ3g8fvAKDDN"
   },
   "outputs": [],
   "source": [
    "crosswalk_df = pd.read_csv(f'{data_path}/processed/state_county_fips.csv')"
   ]
  },
  {
   "cell_type": "code",
   "execution_count": 9,
   "metadata": {
    "colab": {
     "base_uri": "https://localhost:8080/",
     "height": 206
    },
    "executionInfo": {
     "elapsed": 258,
     "status": "ok",
     "timestamp": 1660594747813,
     "user": {
      "displayName": "Rachell Calhoun",
      "userId": "09409976350648542629"
     },
     "user_tz": 240
    },
    "id": "EvrtcxyeKNfp",
    "outputId": "d701adc4-0ce2-43f0-e7fa-59ca77894392"
   },
   "outputs": [
    {
     "data": {
      "text/html": [
       "<div>\n",
       "<style scoped>\n",
       "    .dataframe tbody tr th:only-of-type {\n",
       "        vertical-align: middle;\n",
       "    }\n",
       "\n",
       "    .dataframe tbody tr th {\n",
       "        vertical-align: top;\n",
       "    }\n",
       "\n",
       "    .dataframe thead th {\n",
       "        text-align: right;\n",
       "    }\n",
       "</style>\n",
       "<table border=\"1\" class=\"dataframe\">\n",
       "  <thead>\n",
       "    <tr style=\"text-align: right;\">\n",
       "      <th></th>\n",
       "      <th>Unnamed: 0</th>\n",
       "      <th>NAME</th>\n",
       "      <th>state</th>\n",
       "      <th>county</th>\n",
       "      <th>County_Name</th>\n",
       "      <th>State_Name</th>\n",
       "      <th>State_Abbreviation</th>\n",
       "      <th>State_Abbreviation_County</th>\n",
       "      <th>FIPS</th>\n",
       "    </tr>\n",
       "  </thead>\n",
       "  <tbody>\n",
       "    <tr>\n",
       "      <th>0</th>\n",
       "      <td>1</td>\n",
       "      <td>Sebastian County, Arkansas</td>\n",
       "      <td>5</td>\n",
       "      <td>131</td>\n",
       "      <td>SEBASTIAN</td>\n",
       "      <td>Arkansas</td>\n",
       "      <td>AR</td>\n",
       "      <td>AR-SEBASTIAN</td>\n",
       "      <td>5131</td>\n",
       "    </tr>\n",
       "    <tr>\n",
       "      <th>1</th>\n",
       "      <td>2</td>\n",
       "      <td>Sevier County, Arkansas</td>\n",
       "      <td>5</td>\n",
       "      <td>133</td>\n",
       "      <td>SEVIER</td>\n",
       "      <td>Arkansas</td>\n",
       "      <td>AR</td>\n",
       "      <td>AR-SEVIER</td>\n",
       "      <td>5133</td>\n",
       "    </tr>\n",
       "    <tr>\n",
       "      <th>2</th>\n",
       "      <td>3</td>\n",
       "      <td>Sharp County, Arkansas</td>\n",
       "      <td>5</td>\n",
       "      <td>135</td>\n",
       "      <td>SHARP</td>\n",
       "      <td>Arkansas</td>\n",
       "      <td>AR</td>\n",
       "      <td>AR-SHARP</td>\n",
       "      <td>5135</td>\n",
       "    </tr>\n",
       "    <tr>\n",
       "      <th>3</th>\n",
       "      <td>4</td>\n",
       "      <td>Stone County, Arkansas</td>\n",
       "      <td>5</td>\n",
       "      <td>137</td>\n",
       "      <td>STONE</td>\n",
       "      <td>Arkansas</td>\n",
       "      <td>AR</td>\n",
       "      <td>AR-STONE</td>\n",
       "      <td>5137</td>\n",
       "    </tr>\n",
       "    <tr>\n",
       "      <th>4</th>\n",
       "      <td>5</td>\n",
       "      <td>Union County, Arkansas</td>\n",
       "      <td>5</td>\n",
       "      <td>139</td>\n",
       "      <td>UNION</td>\n",
       "      <td>Arkansas</td>\n",
       "      <td>AR</td>\n",
       "      <td>AR-UNION</td>\n",
       "      <td>5139</td>\n",
       "    </tr>\n",
       "  </tbody>\n",
       "</table>\n",
       "</div>"
      ],
      "text/plain": [
       "   Unnamed: 0                        NAME  state  county County_Name  \\\n",
       "0           1  Sebastian County, Arkansas      5     131   SEBASTIAN   \n",
       "1           2     Sevier County, Arkansas      5     133      SEVIER   \n",
       "2           3      Sharp County, Arkansas      5     135       SHARP   \n",
       "3           4      Stone County, Arkansas      5     137       STONE   \n",
       "4           5      Union County, Arkansas      5     139       UNION   \n",
       "\n",
       "  State_Name State_Abbreviation State_Abbreviation_County  FIPS  \n",
       "0   Arkansas                 AR              AR-SEBASTIAN  5131  \n",
       "1   Arkansas                 AR                 AR-SEVIER  5133  \n",
       "2   Arkansas                 AR                  AR-SHARP  5135  \n",
       "3   Arkansas                 AR                  AR-STONE  5137  \n",
       "4   Arkansas                 AR                  AR-UNION  5139  "
      ]
     },
     "execution_count": 9,
     "metadata": {},
     "output_type": "execute_result"
    }
   ],
   "source": [
    "crosswalk_df.head()"
   ]
  },
  {
   "cell_type": "code",
   "execution_count": 10,
   "metadata": {
    "colab": {
     "base_uri": "https://localhost:8080/",
     "height": 384
    },
    "executionInfo": {
     "elapsed": 5,
     "status": "ok",
     "timestamp": 1660594909446,
     "user": {
      "displayName": "Rachell Calhoun",
      "userId": "09409976350648542629"
     },
     "user_tz": 240
    },
    "id": "gDS5EHjYKlGl",
    "outputId": "3f796cf9-e3c7-4d03-8f0b-2b4e45928030"
   },
   "outputs": [
    {
     "data": {
      "text/html": [
       "<div>\n",
       "<style scoped>\n",
       "    .dataframe tbody tr th:only-of-type {\n",
       "        vertical-align: middle;\n",
       "    }\n",
       "\n",
       "    .dataframe tbody tr th {\n",
       "        vertical-align: top;\n",
       "    }\n",
       "\n",
       "    .dataframe thead th {\n",
       "        text-align: right;\n",
       "    }\n",
       "</style>\n",
       "<table border=\"1\" class=\"dataframe\">\n",
       "  <thead>\n",
       "    <tr style=\"text-align: right;\">\n",
       "      <th></th>\n",
       "      <th>State</th>\n",
       "      <th>County</th>\n",
       "      <th>Year</th>\n",
       "      <th>Days with AQI</th>\n",
       "      <th>Good Days</th>\n",
       "      <th>Moderate Days</th>\n",
       "      <th>Unhealthy for Sensitive Groups Days</th>\n",
       "      <th>Unhealthy Days</th>\n",
       "      <th>Very Unhealthy Days</th>\n",
       "      <th>Hazardous Days</th>\n",
       "      <th>...</th>\n",
       "      <th>Days PM10</th>\n",
       "      <th>Unnamed: 0</th>\n",
       "      <th>NAME</th>\n",
       "      <th>state</th>\n",
       "      <th>county</th>\n",
       "      <th>County_Name</th>\n",
       "      <th>State_Name</th>\n",
       "      <th>State_Abbreviation</th>\n",
       "      <th>State_Abbreviation_County</th>\n",
       "      <th>FIPS</th>\n",
       "    </tr>\n",
       "  </thead>\n",
       "  <tbody>\n",
       "    <tr>\n",
       "      <th>783</th>\n",
       "      <td>South Carolina</td>\n",
       "      <td>AIKEN</td>\n",
       "      <td>2019</td>\n",
       "      <td>265</td>\n",
       "      <td>230</td>\n",
       "      <td>35</td>\n",
       "      <td>0</td>\n",
       "      <td>0</td>\n",
       "      <td>0</td>\n",
       "      <td>0</td>\n",
       "      <td>...</td>\n",
       "      <td>0</td>\n",
       "      <td>2360.0</td>\n",
       "      <td>Aiken County, South Carolina</td>\n",
       "      <td>45.0</td>\n",
       "      <td>3.0</td>\n",
       "      <td>AIKEN</td>\n",
       "      <td>South Carolina</td>\n",
       "      <td>SC</td>\n",
       "      <td>SC-AIKEN</td>\n",
       "      <td>45003.0</td>\n",
       "    </tr>\n",
       "    <tr>\n",
       "      <th>606</th>\n",
       "      <td>North Carolina</td>\n",
       "      <td>DAVIDSON</td>\n",
       "      <td>2019</td>\n",
       "      <td>350</td>\n",
       "      <td>272</td>\n",
       "      <td>78</td>\n",
       "      <td>0</td>\n",
       "      <td>0</td>\n",
       "      <td>0</td>\n",
       "      <td>0</td>\n",
       "      <td>...</td>\n",
       "      <td>0</td>\n",
       "      <td>1108.0</td>\n",
       "      <td>Davidson County, North Carolina</td>\n",
       "      <td>37.0</td>\n",
       "      <td>57.0</td>\n",
       "      <td>DAVIDSON</td>\n",
       "      <td>North Carolina</td>\n",
       "      <td>NC</td>\n",
       "      <td>NC-DAVIDSON</td>\n",
       "      <td>37057.0</td>\n",
       "    </tr>\n",
       "    <tr>\n",
       "      <th>892</th>\n",
       "      <td>Vermont</td>\n",
       "      <td>RUTLAND</td>\n",
       "      <td>2019</td>\n",
       "      <td>365</td>\n",
       "      <td>322</td>\n",
       "      <td>43</td>\n",
       "      <td>0</td>\n",
       "      <td>0</td>\n",
       "      <td>0</td>\n",
       "      <td>0</td>\n",
       "      <td>...</td>\n",
       "      <td>1</td>\n",
       "      <td>1705.0</td>\n",
       "      <td>Rutland County, Vermont</td>\n",
       "      <td>50.0</td>\n",
       "      <td>21.0</td>\n",
       "      <td>RUTLAND</td>\n",
       "      <td>Vermont</td>\n",
       "      <td>VT</td>\n",
       "      <td>VT-RUTLAND</td>\n",
       "      <td>50021.0</td>\n",
       "    </tr>\n",
       "    <tr>\n",
       "      <th>635</th>\n",
       "      <td>North Dakota</td>\n",
       "      <td>BURKE</td>\n",
       "      <td>2019</td>\n",
       "      <td>365</td>\n",
       "      <td>354</td>\n",
       "      <td>11</td>\n",
       "      <td>0</td>\n",
       "      <td>0</td>\n",
       "      <td>0</td>\n",
       "      <td>0</td>\n",
       "      <td>...</td>\n",
       "      <td>1</td>\n",
       "      <td>1050.0</td>\n",
       "      <td>Burke County, North Dakota</td>\n",
       "      <td>38.0</td>\n",
       "      <td>13.0</td>\n",
       "      <td>BURKE</td>\n",
       "      <td>North Dakota</td>\n",
       "      <td>ND</td>\n",
       "      <td>ND-BURKE</td>\n",
       "      <td>38013.0</td>\n",
       "    </tr>\n",
       "    <tr>\n",
       "      <th>755</th>\n",
       "      <td>Pennsylvania</td>\n",
       "      <td>LEHIGH</td>\n",
       "      <td>2019</td>\n",
       "      <td>360</td>\n",
       "      <td>293</td>\n",
       "      <td>64</td>\n",
       "      <td>3</td>\n",
       "      <td>0</td>\n",
       "      <td>0</td>\n",
       "      <td>0</td>\n",
       "      <td>...</td>\n",
       "      <td>2</td>\n",
       "      <td>1957.0</td>\n",
       "      <td>Lehigh County, Pennsylvania</td>\n",
       "      <td>42.0</td>\n",
       "      <td>77.0</td>\n",
       "      <td>LEHIGH</td>\n",
       "      <td>Pennsylvania</td>\n",
       "      <td>PA</td>\n",
       "      <td>PA-LEHIGH</td>\n",
       "      <td>42077.0</td>\n",
       "    </tr>\n",
       "  </tbody>\n",
       "</table>\n",
       "<p>5 rows × 27 columns</p>\n",
       "</div>"
      ],
      "text/plain": [
       "              State    County  Year  Days with AQI  Good Days  Moderate Days  \\\n",
       "783  South Carolina     AIKEN  2019            265        230             35   \n",
       "606  North Carolina  DAVIDSON  2019            350        272             78   \n",
       "892         Vermont   RUTLAND  2019            365        322             43   \n",
       "635    North Dakota     BURKE  2019            365        354             11   \n",
       "755    Pennsylvania    LEHIGH  2019            360        293             64   \n",
       "\n",
       "     Unhealthy for Sensitive Groups Days  Unhealthy Days  Very Unhealthy Days  \\\n",
       "783                                    0               0                    0   \n",
       "606                                    0               0                    0   \n",
       "892                                    0               0                    0   \n",
       "635                                    0               0                    0   \n",
       "755                                    3               0                    0   \n",
       "\n",
       "     Hazardous Days  ...  Days PM10  Unnamed: 0  \\\n",
       "783               0  ...          0      2360.0   \n",
       "606               0  ...          0      1108.0   \n",
       "892               0  ...          1      1705.0   \n",
       "635               0  ...          1      1050.0   \n",
       "755               0  ...          2      1957.0   \n",
       "\n",
       "                                NAME  state  county  County_Name  \\\n",
       "783     Aiken County, South Carolina   45.0     3.0        AIKEN   \n",
       "606  Davidson County, North Carolina   37.0    57.0     DAVIDSON   \n",
       "892          Rutland County, Vermont   50.0    21.0      RUTLAND   \n",
       "635       Burke County, North Dakota   38.0    13.0        BURKE   \n",
       "755      Lehigh County, Pennsylvania   42.0    77.0       LEHIGH   \n",
       "\n",
       "         State_Name  State_Abbreviation  State_Abbreviation_County     FIPS  \n",
       "783  South Carolina                  SC                   SC-AIKEN  45003.0  \n",
       "606  North Carolina                  NC                NC-DAVIDSON  37057.0  \n",
       "892         Vermont                  VT                 VT-RUTLAND  50021.0  \n",
       "635    North Dakota                  ND                   ND-BURKE  38013.0  \n",
       "755    Pennsylvania                  PA                  PA-LEHIGH  42077.0  \n",
       "\n",
       "[5 rows x 27 columns]"
      ]
     },
     "execution_count": 10,
     "metadata": {},
     "output_type": "execute_result"
    }
   ],
   "source": [
    "aqi_df = aqi_df.merge(crosswalk_df, how='left', left_on=['County', 'State'], right_on=['County_Name', 'State_Name'])\n",
    "aqi_df.sample(5)"
   ]
  },
  {
   "cell_type": "code",
   "execution_count": 11,
   "metadata": {
    "colab": {
     "base_uri": "https://localhost:8080/"
    },
    "executionInfo": {
     "elapsed": 206,
     "status": "ok",
     "timestamp": 1660595298532,
     "user": {
      "displayName": "Rachell Calhoun",
      "userId": "09409976350648542629"
     },
     "user_tz": 240
    },
    "id": "_2lpaTbQwBOH",
    "outputId": "5aaa3fcd-4d45-46bf-b63b-367cdbf218fb"
   },
   "outputs": [],
   "source": [
    "nonas_df = aqi_df[['FIPS', 'AQI']]\n",
    "# print(len(aqi_fips_df))\n",
    "nonas_df.dropna(subset=['FIPS'], inplace=True)"
   ]
  },
  {
   "cell_type": "code",
   "execution_count": 12,
   "metadata": {
    "id": "mNCupErjwi9I"
   },
   "outputs": [],
   "source": [
    "nonas_df.to_csv(f'{data_path}/processed/air_quality_index.csv', index=False)"
   ]
  }
 ],
 "metadata": {
  "colab": {
   "collapsed_sections": [],
   "name": "air_quality.ipynb",
   "provenance": []
  },
  "kernelspec": {
   "display_name": "Python 3 (ipykernel)",
   "language": "python",
   "name": "python3"
  },
  "language_info": {
   "codemirror_mode": {
    "name": "ipython",
    "version": 3
   },
   "file_extension": ".py",
   "mimetype": "text/x-python",
   "name": "python",
   "nbconvert_exporter": "python",
   "pygments_lexer": "ipython3",
   "version": "3.9.13"
  }
 },
 "nbformat": 4,
 "nbformat_minor": 1
}
