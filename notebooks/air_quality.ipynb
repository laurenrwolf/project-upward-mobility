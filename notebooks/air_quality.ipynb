{
 "cells": [
  {
   "cell_type": "code",
   "execution_count": 1,
   "metadata": {
    "id": "boQlAb1KsQRU"
   },
   "outputs": [],
   "source": [
    "import pandas as pd"
   ]
  },
  {
   "cell_type": "code",
   "execution_count": 4,
   "metadata": {
    "colab": {
     "base_uri": "https://localhost:8080/"
    },
    "executionInfo": {
     "elapsed": 1152,
     "status": "ok",
     "timestamp": 1660593522461,
     "user": {
      "displayName": "Rachell Calhoun",
      "userId": "09409976350648542629"
     },
     "user_tz": 240
    },
    "id": "C6eBDfDtsi4R",
    "outputId": "56fbba4d-4e8b-4aa1-99a2-6eac6218f1af"
   },
   "outputs": [],
   "source": [
    "data_path = 'data'"
   ]
  },
  {
   "cell_type": "markdown",
   "metadata": {
    "id": "3gDW9VZi04Rr"
   },
   "source": [
    "### PREDICTOR: ENVIRONMENTAL QUALITY\n",
    "**Metric:** Air quality index\n",
    "\n",
    "The air quality index, or AQI, is an index for reporting daily air quality. It tells how clean or polluted the\n",
    "air is and what associated health effects might be a concern in the community. The AQI includes five\n",
    "major air pollutants regulated by the Clean Air Act: ground-level ozone, particle pollution (also known\n",
    "as particulate matter), carbon monoxide, sulfur dioxide, and nitrogen dioxide. For each of these\n",
    "pollutants, the Environmental Protection Agency has established national air quality standards to\n",
    "protect public health. Ground-level ozone and airborne particles are the two pollutants that pose the\n",
    "greatest threat to human health in the US. Values range from 0 to 500 and are categorized into a six-\n",
    "point scale: good, moderate, unhealthy for sensitive groups, unhealthy, very unhealthy, and hazardous."
   ]
  },
  {
   "cell_type": "markdown",
   "metadata": {
    "id": "9pu4W-E27dkq"
   },
   "source": [
    "**Source:** https://aqs.epa.gov/aqsweb/airdata/annual_aqi_by_county_2019.zip  from https://aqs.epa.gov/aqsweb/airdata/download_files.html \n",
    "\n",
    "**Documentation:** https://aqs.epa.gov/aqsweb/airdata/FileFormats.html#_daily_summary_files \n",
    "\n",
    "**Notes:** Calculated the average of scores across each county. \n"
   ]
  },
  {
   "cell_type": "code",
   "execution_count": 5,
   "metadata": {
    "id": "ZEXxTCrbs0ri"
   },
   "outputs": [],
   "source": [
    "aqi_df =  pd.read_csv(f'{data_path}/raw/annual_aqi_by_county_2019.csv')"
   ]
  },
  {
   "cell_type": "code",
   "execution_count": 6,
   "metadata": {
    "id": "JtbkW6f1vDET"
   },
   "outputs": [],
   "source": [
    "aqi_fips_df = aqi_df.rename(columns={'Median AQI': 'AQI'})"
   ]
  },
  {
   "cell_type": "code",
   "execution_count": 7,
   "metadata": {
    "colab": {
     "base_uri": "https://localhost:8080/",
     "height": 206
    },
    "executionInfo": {
     "elapsed": 12,
     "status": "ok",
     "timestamp": 1660594820934,
     "user": {
      "displayName": "Rachell Calhoun",
      "userId": "09409976350648542629"
     },
     "user_tz": 240
    },
    "id": "S9AydqKoJpsi",
    "outputId": "93560b3f-2e44-4d7e-db1b-648dd290104d"
   },
   "outputs": [
    {
     "data": {
      "text/html": [
       "<div>\n",
       "<style scoped>\n",
       "    .dataframe tbody tr th:only-of-type {\n",
       "        vertical-align: middle;\n",
       "    }\n",
       "\n",
       "    .dataframe tbody tr th {\n",
       "        vertical-align: top;\n",
       "    }\n",
       "\n",
       "    .dataframe thead th {\n",
       "        text-align: right;\n",
       "    }\n",
       "</style>\n",
       "<table border=\"1\" class=\"dataframe\">\n",
       "  <thead>\n",
       "    <tr style=\"text-align: right;\">\n",
       "      <th></th>\n",
       "      <th>State</th>\n",
       "      <th>County</th>\n",
       "      <th>Year</th>\n",
       "      <th>Days with AQI</th>\n",
       "      <th>Good Days</th>\n",
       "      <th>Moderate Days</th>\n",
       "      <th>Unhealthy for Sensitive Groups Days</th>\n",
       "      <th>Unhealthy Days</th>\n",
       "      <th>Very Unhealthy Days</th>\n",
       "      <th>Hazardous Days</th>\n",
       "      <th>Max AQI</th>\n",
       "      <th>90th Percentile AQI</th>\n",
       "      <th>AQI</th>\n",
       "      <th>Days CO</th>\n",
       "      <th>Days NO2</th>\n",
       "      <th>Days Ozone</th>\n",
       "      <th>Days PM2.5</th>\n",
       "      <th>Days PM10</th>\n",
       "    </tr>\n",
       "  </thead>\n",
       "  <tbody>\n",
       "    <tr>\n",
       "      <th>0</th>\n",
       "      <td>Alabama</td>\n",
       "      <td>BALDWIN</td>\n",
       "      <td>2019</td>\n",
       "      <td>271</td>\n",
       "      <td>237</td>\n",
       "      <td>34</td>\n",
       "      <td>0</td>\n",
       "      <td>0</td>\n",
       "      <td>0</td>\n",
       "      <td>0</td>\n",
       "      <td>80</td>\n",
       "      <td>52</td>\n",
       "      <td>37</td>\n",
       "      <td>0</td>\n",
       "      <td>0</td>\n",
       "      <td>220</td>\n",
       "      <td>51</td>\n",
       "      <td>0</td>\n",
       "    </tr>\n",
       "    <tr>\n",
       "      <th>1</th>\n",
       "      <td>Alabama</td>\n",
       "      <td>CLAY</td>\n",
       "      <td>2019</td>\n",
       "      <td>107</td>\n",
       "      <td>97</td>\n",
       "      <td>10</td>\n",
       "      <td>0</td>\n",
       "      <td>0</td>\n",
       "      <td>0</td>\n",
       "      <td>0</td>\n",
       "      <td>67</td>\n",
       "      <td>50</td>\n",
       "      <td>30</td>\n",
       "      <td>0</td>\n",
       "      <td>0</td>\n",
       "      <td>0</td>\n",
       "      <td>107</td>\n",
       "      <td>0</td>\n",
       "    </tr>\n",
       "    <tr>\n",
       "      <th>2</th>\n",
       "      <td>Alabama</td>\n",
       "      <td>COLBERT</td>\n",
       "      <td>2019</td>\n",
       "      <td>263</td>\n",
       "      <td>252</td>\n",
       "      <td>11</td>\n",
       "      <td>0</td>\n",
       "      <td>0</td>\n",
       "      <td>0</td>\n",
       "      <td>0</td>\n",
       "      <td>61</td>\n",
       "      <td>47</td>\n",
       "      <td>37</td>\n",
       "      <td>0</td>\n",
       "      <td>0</td>\n",
       "      <td>228</td>\n",
       "      <td>35</td>\n",
       "      <td>0</td>\n",
       "    </tr>\n",
       "    <tr>\n",
       "      <th>3</th>\n",
       "      <td>Alabama</td>\n",
       "      <td>DEKALB</td>\n",
       "      <td>2019</td>\n",
       "      <td>361</td>\n",
       "      <td>324</td>\n",
       "      <td>37</td>\n",
       "      <td>0</td>\n",
       "      <td>0</td>\n",
       "      <td>0</td>\n",
       "      <td>0</td>\n",
       "      <td>90</td>\n",
       "      <td>51</td>\n",
       "      <td>39</td>\n",
       "      <td>0</td>\n",
       "      <td>0</td>\n",
       "      <td>331</td>\n",
       "      <td>30</td>\n",
       "      <td>0</td>\n",
       "    </tr>\n",
       "    <tr>\n",
       "      <th>4</th>\n",
       "      <td>Alabama</td>\n",
       "      <td>ELMORE</td>\n",
       "      <td>2019</td>\n",
       "      <td>228</td>\n",
       "      <td>208</td>\n",
       "      <td>20</td>\n",
       "      <td>0</td>\n",
       "      <td>0</td>\n",
       "      <td>0</td>\n",
       "      <td>0</td>\n",
       "      <td>100</td>\n",
       "      <td>50</td>\n",
       "      <td>39</td>\n",
       "      <td>0</td>\n",
       "      <td>0</td>\n",
       "      <td>228</td>\n",
       "      <td>0</td>\n",
       "      <td>0</td>\n",
       "    </tr>\n",
       "  </tbody>\n",
       "</table>\n",
       "</div>"
      ],
      "text/plain": [
       "     State   County  Year  Days with AQI  Good Days  Moderate Days  \\\n",
       "0  Alabama  BALDWIN  2019            271        237             34   \n",
       "1  Alabama     CLAY  2019            107         97             10   \n",
       "2  Alabama  COLBERT  2019            263        252             11   \n",
       "3  Alabama   DEKALB  2019            361        324             37   \n",
       "4  Alabama   ELMORE  2019            228        208             20   \n",
       "\n",
       "   Unhealthy for Sensitive Groups Days  Unhealthy Days  Very Unhealthy Days  \\\n",
       "0                                    0               0                    0   \n",
       "1                                    0               0                    0   \n",
       "2                                    0               0                    0   \n",
       "3                                    0               0                    0   \n",
       "4                                    0               0                    0   \n",
       "\n",
       "   Hazardous Days  Max AQI  90th Percentile AQI  AQI  Days CO  Days NO2  \\\n",
       "0               0       80                   52   37        0         0   \n",
       "1               0       67                   50   30        0         0   \n",
       "2               0       61                   47   37        0         0   \n",
       "3               0       90                   51   39        0         0   \n",
       "4               0      100                   50   39        0         0   \n",
       "\n",
       "   Days Ozone  Days PM2.5  Days PM10  \n",
       "0         220          51          0  \n",
       "1           0         107          0  \n",
       "2         228          35          0  \n",
       "3         331          30          0  \n",
       "4         228           0          0  "
      ]
     },
     "execution_count": 7,
     "metadata": {},
     "output_type": "execute_result"
    }
   ],
   "source": [
    "aqi_fips_df['County'] = aqi_df['County'].str.upper()\n",
    "aqi_fips_df.head()"
   ]
  },
  {
   "cell_type": "code",
   "execution_count": 10,
   "metadata": {
    "colab": {
     "base_uri": "https://localhost:8080/"
    },
    "executionInfo": {
     "elapsed": 244,
     "status": "ok",
     "timestamp": 1660594760262,
     "user": {
      "displayName": "Rachell Calhoun",
      "userId": "09409976350648542629"
     },
     "user_tz": 240
    },
    "id": "_nJbc6CNwYmk",
    "outputId": "a0999d25-efd9-4997-f168-cb4ec64704f2"
   },
   "outputs": [
    {
     "data": {
      "text/plain": [
       "Index(['State', 'County', 'Year', 'Days with AQI', 'Good Days',\n",
       "       'Moderate Days', 'Unhealthy for Sensitive Groups Days',\n",
       "       'Unhealthy Days', 'Very Unhealthy Days', 'Hazardous Days', 'Max AQI',\n",
       "       '90th Percentile AQI', 'AQI', 'Days CO', 'Days NO2', 'Days Ozone',\n",
       "       'Days PM2.5', 'Days PM10'],\n",
       "      dtype='object')"
      ]
     },
     "execution_count": 10,
     "metadata": {},
     "output_type": "execute_result"
    }
   ],
   "source": [
    "aqi_fips_df.columns"
   ]
  },
  {
   "cell_type": "code",
   "execution_count": 11,
   "metadata": {
    "executionInfo": {
     "elapsed": 810,
     "status": "ok",
     "timestamp": 1660594736944,
     "user": {
      "displayName": "Rachell Calhoun",
      "userId": "09409976350648542629"
     },
     "user_tz": 240
    },
    "id": "gZ3g8fvAKDDN"
   },
   "outputs": [],
   "source": [
    "crosswalk_df = pd.read_csv(f'{data_path}/processed/state_county_fips.csv')"
   ]
  },
  {
   "cell_type": "code",
   "execution_count": 12,
   "metadata": {
    "colab": {
     "base_uri": "https://localhost:8080/",
     "height": 206
    },
    "executionInfo": {
     "elapsed": 258,
     "status": "ok",
     "timestamp": 1660594747813,
     "user": {
      "displayName": "Rachell Calhoun",
      "userId": "09409976350648542629"
     },
     "user_tz": 240
    },
    "id": "EvrtcxyeKNfp",
    "outputId": "d701adc4-0ce2-43f0-e7fa-59ca77894392"
   },
   "outputs": [
    {
     "data": {
      "text/html": [
       "<div>\n",
       "<style scoped>\n",
       "    .dataframe tbody tr th:only-of-type {\n",
       "        vertical-align: middle;\n",
       "    }\n",
       "\n",
       "    .dataframe tbody tr th {\n",
       "        vertical-align: top;\n",
       "    }\n",
       "\n",
       "    .dataframe thead th {\n",
       "        text-align: right;\n",
       "    }\n",
       "</style>\n",
       "<table border=\"1\" class=\"dataframe\">\n",
       "  <thead>\n",
       "    <tr style=\"text-align: right;\">\n",
       "      <th></th>\n",
       "      <th>Unnamed: 0</th>\n",
       "      <th>NAME</th>\n",
       "      <th>state</th>\n",
       "      <th>county</th>\n",
       "      <th>County_Name</th>\n",
       "      <th>State_Name</th>\n",
       "      <th>State_Abbreviation</th>\n",
       "      <th>State_Abbreviation_County</th>\n",
       "      <th>FIPS</th>\n",
       "    </tr>\n",
       "  </thead>\n",
       "  <tbody>\n",
       "    <tr>\n",
       "      <th>0</th>\n",
       "      <td>1</td>\n",
       "      <td>Sebastian County, Arkansas</td>\n",
       "      <td>5</td>\n",
       "      <td>131</td>\n",
       "      <td>SEBASTIAN</td>\n",
       "      <td>Arkansas</td>\n",
       "      <td>AR</td>\n",
       "      <td>AR-SEBASTIAN</td>\n",
       "      <td>5131</td>\n",
       "    </tr>\n",
       "    <tr>\n",
       "      <th>1</th>\n",
       "      <td>2</td>\n",
       "      <td>Sevier County, Arkansas</td>\n",
       "      <td>5</td>\n",
       "      <td>133</td>\n",
       "      <td>SEVIER</td>\n",
       "      <td>Arkansas</td>\n",
       "      <td>AR</td>\n",
       "      <td>AR-SEVIER</td>\n",
       "      <td>5133</td>\n",
       "    </tr>\n",
       "    <tr>\n",
       "      <th>2</th>\n",
       "      <td>3</td>\n",
       "      <td>Sharp County, Arkansas</td>\n",
       "      <td>5</td>\n",
       "      <td>135</td>\n",
       "      <td>SHARP</td>\n",
       "      <td>Arkansas</td>\n",
       "      <td>AR</td>\n",
       "      <td>AR-SHARP</td>\n",
       "      <td>5135</td>\n",
       "    </tr>\n",
       "    <tr>\n",
       "      <th>3</th>\n",
       "      <td>4</td>\n",
       "      <td>Stone County, Arkansas</td>\n",
       "      <td>5</td>\n",
       "      <td>137</td>\n",
       "      <td>STONE</td>\n",
       "      <td>Arkansas</td>\n",
       "      <td>AR</td>\n",
       "      <td>AR-STONE</td>\n",
       "      <td>5137</td>\n",
       "    </tr>\n",
       "    <tr>\n",
       "      <th>4</th>\n",
       "      <td>5</td>\n",
       "      <td>Union County, Arkansas</td>\n",
       "      <td>5</td>\n",
       "      <td>139</td>\n",
       "      <td>UNION</td>\n",
       "      <td>Arkansas</td>\n",
       "      <td>AR</td>\n",
       "      <td>AR-UNION</td>\n",
       "      <td>5139</td>\n",
       "    </tr>\n",
       "  </tbody>\n",
       "</table>\n",
       "</div>"
      ],
      "text/plain": [
       "   Unnamed: 0                        NAME  state  county County_Name  \\\n",
       "0           1  Sebastian County, Arkansas      5     131   SEBASTIAN   \n",
       "1           2     Sevier County, Arkansas      5     133      SEVIER   \n",
       "2           3      Sharp County, Arkansas      5     135       SHARP   \n",
       "3           4      Stone County, Arkansas      5     137       STONE   \n",
       "4           5      Union County, Arkansas      5     139       UNION   \n",
       "\n",
       "  State_Name State_Abbreviation State_Abbreviation_County  FIPS  \n",
       "0   Arkansas                 AR              AR-SEBASTIAN  5131  \n",
       "1   Arkansas                 AR                 AR-SEVIER  5133  \n",
       "2   Arkansas                 AR                  AR-SHARP  5135  \n",
       "3   Arkansas                 AR                  AR-STONE  5137  \n",
       "4   Arkansas                 AR                  AR-UNION  5139  "
      ]
     },
     "execution_count": 12,
     "metadata": {},
     "output_type": "execute_result"
    }
   ],
   "source": [
    "crosswalk_df.head()"
   ]
  },
  {
   "cell_type": "code",
   "execution_count": 13,
   "metadata": {
    "colab": {
     "base_uri": "https://localhost:8080/",
     "height": 384
    },
    "executionInfo": {
     "elapsed": 5,
     "status": "ok",
     "timestamp": 1660594909446,
     "user": {
      "displayName": "Rachell Calhoun",
      "userId": "09409976350648542629"
     },
     "user_tz": 240
    },
    "id": "gDS5EHjYKlGl",
    "outputId": "3f796cf9-e3c7-4d03-8f0b-2b4e45928030"
   },
   "outputs": [
    {
     "data": {
      "text/html": [
       "<div>\n",
       "<style scoped>\n",
       "    .dataframe tbody tr th:only-of-type {\n",
       "        vertical-align: middle;\n",
       "    }\n",
       "\n",
       "    .dataframe tbody tr th {\n",
       "        vertical-align: top;\n",
       "    }\n",
       "\n",
       "    .dataframe thead th {\n",
       "        text-align: right;\n",
       "    }\n",
       "</style>\n",
       "<table border=\"1\" class=\"dataframe\">\n",
       "  <thead>\n",
       "    <tr style=\"text-align: right;\">\n",
       "      <th></th>\n",
       "      <th>State</th>\n",
       "      <th>County</th>\n",
       "      <th>Year</th>\n",
       "      <th>Days with AQI</th>\n",
       "      <th>Good Days</th>\n",
       "      <th>Moderate Days</th>\n",
       "      <th>Unhealthy for Sensitive Groups Days</th>\n",
       "      <th>Unhealthy Days</th>\n",
       "      <th>Very Unhealthy Days</th>\n",
       "      <th>Hazardous Days</th>\n",
       "      <th>...</th>\n",
       "      <th>Days PM10</th>\n",
       "      <th>Unnamed: 0</th>\n",
       "      <th>NAME</th>\n",
       "      <th>state</th>\n",
       "      <th>county</th>\n",
       "      <th>County_Name</th>\n",
       "      <th>State_Name</th>\n",
       "      <th>State_Abbreviation</th>\n",
       "      <th>State_Abbreviation_County</th>\n",
       "      <th>FIPS</th>\n",
       "    </tr>\n",
       "  </thead>\n",
       "  <tbody>\n",
       "    <tr>\n",
       "      <th>889</th>\n",
       "      <td>Utah</td>\n",
       "      <td>WEBER</td>\n",
       "      <td>2019</td>\n",
       "      <td>308</td>\n",
       "      <td>243</td>\n",
       "      <td>63</td>\n",
       "      <td>2</td>\n",
       "      <td>0</td>\n",
       "      <td>0</td>\n",
       "      <td>0</td>\n",
       "      <td>...</td>\n",
       "      <td>0</td>\n",
       "      <td>1684.0</td>\n",
       "      <td>Weber County, Utah</td>\n",
       "      <td>49.0</td>\n",
       "      <td>57.0</td>\n",
       "      <td>WEBER</td>\n",
       "      <td>Utah</td>\n",
       "      <td>UT</td>\n",
       "      <td>UT-WEBER</td>\n",
       "      <td>49057.0</td>\n",
       "    </tr>\n",
       "    <tr>\n",
       "      <th>953</th>\n",
       "      <td>Washington</td>\n",
       "      <td>SPOKANE</td>\n",
       "      <td>2019</td>\n",
       "      <td>365</td>\n",
       "      <td>301</td>\n",
       "      <td>63</td>\n",
       "      <td>1</td>\n",
       "      <td>0</td>\n",
       "      <td>0</td>\n",
       "      <td>0</td>\n",
       "      <td>...</td>\n",
       "      <td>25</td>\n",
       "      <td>2817.0</td>\n",
       "      <td>Spokane County, Washington</td>\n",
       "      <td>53.0</td>\n",
       "      <td>63.0</td>\n",
       "      <td>SPOKANE</td>\n",
       "      <td>Washington</td>\n",
       "      <td>WA</td>\n",
       "      <td>WA-SPOKANE</td>\n",
       "      <td>53063.0</td>\n",
       "    </tr>\n",
       "    <tr>\n",
       "      <th>820</th>\n",
       "      <td>Tennessee</td>\n",
       "      <td>LAWRENCE</td>\n",
       "      <td>2019</td>\n",
       "      <td>330</td>\n",
       "      <td>306</td>\n",
       "      <td>24</td>\n",
       "      <td>0</td>\n",
       "      <td>0</td>\n",
       "      <td>0</td>\n",
       "      <td>0</td>\n",
       "      <td>...</td>\n",
       "      <td>0</td>\n",
       "      <td>1999.0</td>\n",
       "      <td>Lawrence County, Tennessee</td>\n",
       "      <td>47.0</td>\n",
       "      <td>99.0</td>\n",
       "      <td>LAWRENCE</td>\n",
       "      <td>Tennessee</td>\n",
       "      <td>TN</td>\n",
       "      <td>TN-LAWRENCE</td>\n",
       "      <td>47099.0</td>\n",
       "    </tr>\n",
       "    <tr>\n",
       "      <th>614</th>\n",
       "      <td>North Carolina</td>\n",
       "      <td>HYDE</td>\n",
       "      <td>2019</td>\n",
       "      <td>102</td>\n",
       "      <td>100</td>\n",
       "      <td>2</td>\n",
       "      <td>0</td>\n",
       "      <td>0</td>\n",
       "      <td>0</td>\n",
       "      <td>0</td>\n",
       "      <td>...</td>\n",
       "      <td>0</td>\n",
       "      <td>757.0</td>\n",
       "      <td>Hyde County, North Carolina</td>\n",
       "      <td>37.0</td>\n",
       "      <td>95.0</td>\n",
       "      <td>HYDE</td>\n",
       "      <td>North Carolina</td>\n",
       "      <td>NC</td>\n",
       "      <td>NC-HYDE</td>\n",
       "      <td>37095.0</td>\n",
       "    </tr>\n",
       "    <tr>\n",
       "      <th>673</th>\n",
       "      <td>Ohio</td>\n",
       "      <td>MONTGOMERY</td>\n",
       "      <td>2019</td>\n",
       "      <td>365</td>\n",
       "      <td>229</td>\n",
       "      <td>136</td>\n",
       "      <td>0</td>\n",
       "      <td>0</td>\n",
       "      <td>0</td>\n",
       "      <td>0</td>\n",
       "      <td>...</td>\n",
       "      <td>2</td>\n",
       "      <td>1129.0</td>\n",
       "      <td>Montgomery County, Ohio</td>\n",
       "      <td>39.0</td>\n",
       "      <td>113.0</td>\n",
       "      <td>MONTGOMERY</td>\n",
       "      <td>Ohio</td>\n",
       "      <td>OH</td>\n",
       "      <td>OH-MONTGOMERY</td>\n",
       "      <td>39113.0</td>\n",
       "    </tr>\n",
       "  </tbody>\n",
       "</table>\n",
       "<p>5 rows × 27 columns</p>\n",
       "</div>"
      ],
      "text/plain": [
       "              State      County  Year  Days with AQI  Good Days  \\\n",
       "889            Utah       WEBER  2019            308        243   \n",
       "953      Washington     SPOKANE  2019            365        301   \n",
       "820       Tennessee    LAWRENCE  2019            330        306   \n",
       "614  North Carolina        HYDE  2019            102        100   \n",
       "673            Ohio  MONTGOMERY  2019            365        229   \n",
       "\n",
       "     Moderate Days  Unhealthy for Sensitive Groups Days  Unhealthy Days  \\\n",
       "889             63                                    2               0   \n",
       "953             63                                    1               0   \n",
       "820             24                                    0               0   \n",
       "614              2                                    0               0   \n",
       "673            136                                    0               0   \n",
       "\n",
       "     Very Unhealthy Days  Hazardous Days  ...  Days PM10  Unnamed: 0  \\\n",
       "889                    0               0  ...          0      1684.0   \n",
       "953                    0               0  ...         25      2817.0   \n",
       "820                    0               0  ...          0      1999.0   \n",
       "614                    0               0  ...          0       757.0   \n",
       "673                    0               0  ...          2      1129.0   \n",
       "\n",
       "                            NAME  state  county  County_Name      State_Name  \\\n",
       "889           Weber County, Utah   49.0    57.0        WEBER            Utah   \n",
       "953   Spokane County, Washington   53.0    63.0      SPOKANE      Washington   \n",
       "820   Lawrence County, Tennessee   47.0    99.0     LAWRENCE       Tennessee   \n",
       "614  Hyde County, North Carolina   37.0    95.0         HYDE  North Carolina   \n",
       "673      Montgomery County, Ohio   39.0   113.0   MONTGOMERY            Ohio   \n",
       "\n",
       "     State_Abbreviation  State_Abbreviation_County     FIPS  \n",
       "889                  UT                   UT-WEBER  49057.0  \n",
       "953                  WA                 WA-SPOKANE  53063.0  \n",
       "820                  TN                TN-LAWRENCE  47099.0  \n",
       "614                  NC                    NC-HYDE  37095.0  \n",
       "673                  OH              OH-MONTGOMERY  39113.0  \n",
       "\n",
       "[5 rows x 27 columns]"
      ]
     },
     "execution_count": 13,
     "metadata": {},
     "output_type": "execute_result"
    }
   ],
   "source": [
    "aqi_df = aqi_df.merge(crosswalk_df, how='left', left_on=['County', 'State'], right_on=['County_Name', 'State_Name'])\n",
    "aqi_df.sample(5)"
   ]
  },
  {
   "cell_type": "code",
   "execution_count": 14,
   "metadata": {
    "colab": {
     "base_uri": "https://localhost:8080/"
    },
    "executionInfo": {
     "elapsed": 206,
     "status": "ok",
     "timestamp": 1660595298532,
     "user": {
      "displayName": "Rachell Calhoun",
      "userId": "09409976350648542629"
     },
     "user_tz": 240
    },
    "id": "_2lpaTbQwBOH",
    "outputId": "5aaa3fcd-4d45-46bf-b63b-367cdbf218fb"
   },
   "outputs": [
    {
     "name": "stderr",
     "output_type": "stream",
     "text": [
      "/tmp/ipykernel_312241/1535493131.py:3: SettingWithCopyWarning: \n",
      "A value is trying to be set on a copy of a slice from a DataFrame\n",
      "\n",
      "See the caveats in the documentation: https://pandas.pydata.org/pandas-docs/stable/user_guide/indexing.html#returning-a-view-versus-a-copy\n",
      "  nonas_df.dropna(subset=['FIPS'], inplace=True)\n"
     ]
    }
   ],
   "source": [
    "nonas_df = aqi_df[['FIPS', 'AQI']]\n",
    "# print(len(aqi_fips_df))\n",
    "nonas_df.dropna(subset=['FIPS'], inplace=True)"
   ]
  },
  {
   "cell_type": "code",
   "execution_count": 15,
   "metadata": {
    "colab": {
     "base_uri": "https://localhost:8080/",
     "height": 237
    },
    "executionInfo": {
     "elapsed": 216,
     "status": "ok",
     "timestamp": 1660595301696,
     "user": {
      "displayName": "Rachell Calhoun",
      "userId": "09409976350648542629"
     },
     "user_tz": 240
    },
    "id": "dCzo57fmLKEj",
    "outputId": "15068576-d3b1-4a2f-8475-156ed4ec23ad"
   },
   "outputs": [],
   "source": [
    "# nonas_df.sample(10)\n",
    "# nonas_df[['FIPS', 'AQI']].groupby('FIPS').count().sort_values(by='AQI', ascending=True).head()"
   ]
  },
  {
   "cell_type": "code",
   "execution_count": 16,
   "metadata": {
    "executionInfo": {
     "elapsed": 218,
     "status": "ok",
     "timestamp": 1660595341849,
     "user": {
      "displayName": "Rachell Calhoun",
      "userId": "09409976350648542629"
     },
     "user_tz": 240
    },
    "id": "mNCupErjwi9I"
   },
   "outputs": [],
   "source": [
    "nonas_df.to_csv(f'{data_path}/processed/fips_air_quality_index.csv', index=False)"
   ]
  },
  {
   "cell_type": "code",
   "execution_count": null,
   "metadata": {},
   "outputs": [],
   "source": []
  }
 ],
 "metadata": {
  "colab": {
   "authorship_tag": "ABX9TyNIH1QsYE2/1A7u3mNhA/ZZ",
   "collapsed_sections": [],
   "name": "air_quality.ipynb",
   "provenance": []
  },
  "kernelspec": {
   "display_name": "Python 3 (ipykernel)",
   "language": "python",
   "name": "python3"
  },
  "language_info": {
   "codemirror_mode": {
    "name": "ipython",
    "version": 3
   },
   "file_extension": ".py",
   "mimetype": "text/x-python",
   "name": "python",
   "nbconvert_exporter": "python",
   "pygments_lexer": "ipython3",
   "version": "3.9.13"
  }
 },
 "nbformat": 4,
 "nbformat_minor": 1
}
