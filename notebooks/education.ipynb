{
 "cells": [
  {
   "cell_type": "markdown",
   "metadata": {
    "id": "768wl_mdEPBR"
   },
   "source": [
    "### Effective Public School \n",
    "\n",
    "source: https://www2.ed.gov/about/inits/ed/edfacts/data-files/index.html \n",
    "\n",
    "variables: ALL_RLA03numvalid_1819, ALL_RLA03pctprof_1819, ALL_RLA08numvalid_1819, ALL_RLA08pctprof_1819, ST_LEAID, LEAID, LEANM, FIPST, STNAM\n",
    "\n",
    "numvalid    \n",
    "The number of students who completed the state assessment and for whom a proficiency level was assigned\n",
    "\n",
    "pctprof    \n",
    "The percentage of students scoring at or above the state’s proficiency level on the assessment\n",
    "\n"
   ]
  },
  {
   "cell_type": "code",
   "execution_count": 1,
   "metadata": {
    "id": "XXPCfd2iJVtv"
   },
   "outputs": [],
   "source": [
    "import pandas as pd\n",
    "import numpy as np"
   ]
  },
  {
   "cell_type": "code",
   "execution_count": 2,
   "metadata": {
    "colab": {
     "base_uri": "https://localhost:8080/"
    },
    "executionInfo": {
     "elapsed": 20852,
     "status": "ok",
     "timestamp": 1660323262696,
     "user": {
      "displayName": "Rachell Calhoun",
      "userId": "09409976350648542629"
     },
     "user_tz": 240
    },
    "id": "EjmAmSaxJYZT",
    "outputId": "bd985e6e-f527-40b8-baf0-dd407c7499a1"
   },
   "outputs": [],
   "source": [
    "import os\n",
    "if 'COLAB_GPU' in os.environ:\n",
    "    from google.colab import  drive\n",
    "    drive.mount('/drive')\n",
    "    data_path = '/drive/Shared drives/Capstone/notebooks/data'\n",
    "else:\n",
    "    data_path = 'data'"
   ]
  },
  {
   "cell_type": "code",
   "execution_count": 3,
   "metadata": {
    "id": "bBnw3DlMfEjH"
   },
   "outputs": [],
   "source": [
    "# crosswalk csv here https://exhibits.stanford.edu/data/catalog/db586ns4974\n",
    "# seda_crosswalk_4.1.csv (june 2021)\n",
    "# link to documentation: https://stacks.stanford.edu/file/druid:db586ns4974/seda_documentation_4.1.pdf\n",
    "# Data files : https://www2.ed.gov/about/inits/ed/edfacts/data-files/index.html\n"
   ]
  },
  {
   "cell_type": "code",
   "execution_count": 4,
   "metadata": {
    "colab": {
     "base_uri": "https://localhost:8080/"
    },
    "executionInfo": {
     "elapsed": 14473,
     "status": "ok",
     "timestamp": 1660323279051,
     "user": {
      "displayName": "Rachell Calhoun",
      "userId": "09409976350648542629"
     },
     "user_tz": 240
    },
    "id": "egUhlxtVJmh0",
    "outputId": "772681a0-47c7-40b5-85dc-fc98144d77de"
   },
   "outputs": [
    {
     "name": "stderr",
     "output_type": "stream",
     "text": [
      "/tmp/ipykernel_53084/1555877402.py:5: DtypeWarning: Columns (18,20,22,26,36,38,40,42,44,46,50,52,54,98,108,112,114,122,124,126,128,130,136,138,140,144,150,152,154,156,158,162,170,180,182,184,192,194,236,240,248,250,254,256,258,260) have mixed types. Specify dtype option on import or set low_memory=False.\n",
      "  latest_df = pd.read_csv(f'{data_path}/raw/rla-achievement-lea-sy2018-19-wide.csv')\n"
     ]
    }
   ],
   "source": [
    "# compare grades 3 - 8 in 2018-2019 \n",
    "crosswalk_df = pd.read_csv(f'{data_path}/raw/seda_crosswalk_4.1.csv', dtype={'FIPS': str})\n",
    "merged_df = crosswalk_df[['sedacounty', 'leaid']].rename(columns={'leaid': 'LEAID', 'sedacounty': 'FIPS'})\n",
    "\n",
    "latest_df = pd.read_csv(f'{data_path}/raw/rla-achievement-lea-sy2018-19-wide.csv')\n",
    "# latest url csv: \n",
    "# latest_df = pd.read_csv('https://www2.ed.gov/about/inits/ed/edfacts/data-files/rla-achievement-lea-sy2018-19-wide.csv')\n",
    "\n",
    "merged_df = merged_df.merge(latest_df, how=\"left\", left_on='LEAID', right_on='LEAID')\n",
    "merged_df = merged_df.drop_duplicates()\n",
    "merged_df.columns = merged_df.columns.str.upper()\n",
    "merged_df.to_csv(f'{data_path}/interim/fips_lastest_edu_prof_all.csv')\n"
   ]
  },
  {
   "cell_type": "code",
   "execution_count": 5,
   "metadata": {
    "colab": {
     "base_uri": "https://localhost:8080/"
    },
    "executionInfo": {
     "elapsed": 40,
     "status": "ok",
     "timestamp": 1660323279052,
     "user": {
      "displayName": "Rachell Calhoun",
      "userId": "09409976350648542629"
     },
     "user_tz": 240
    },
    "id": "59lioIZ1CMad",
    "outputId": "3bd6055f-4e4b-4fb2-a12a-fbdd84fb23ac"
   },
   "outputs": [
    {
     "data": {
      "text/plain": [
       "['ALL_RLA03NUMVALID_1819',\n",
       " 'ALL_RLA04NUMVALID_1819',\n",
       " 'ALL_RLA05NUMVALID_1819',\n",
       " 'ALL_RLA06NUMVALID_1819',\n",
       " 'ALL_RLA07NUMVALID_1819',\n",
       " 'ALL_RLA08NUMVALID_1819']"
      ]
     },
     "execution_count": 5,
     "metadata": {},
     "output_type": "execute_result"
    }
   ],
   "source": [
    "# number of valid tests taken for each grade can be used for weighting \n",
    "num_valid = [f'ALL_RLA0{i}NUMVALID_1819' for i in range(3, 9)]\n",
    "num_valid\n"
   ]
  },
  {
   "cell_type": "markdown",
   "metadata": {
    "id": "nMiJdzrCOmb_"
   },
   "source": [
    "## Processing differences in percent proficient from grade 3 - 8: \n",
    "- if the numbers were surpressed to protect student privacy, the mid range number was chosen for ranges less than or equal to 10. \n",
    "- if the range was more than 10, that number was not used \n",
    "- if the percent was PS , it was replaced with NAN and not included in the calculation of difference\n",
    "- yearly average difference was calculated across grades 03 - 05 for either longitudinal data or latest for year 2018-2019. If there are mulitple averages, we took the average of those for the final diff"
   ]
  },
  {
   "cell_type": "markdown",
   "metadata": {
    "id": "FB2kyP2Fo8OM"
   },
   "source": [
    "'LE20'"
   ]
  },
  {
   "cell_type": "code",
   "execution_count": 6,
   "metadata": {
    "id": "RuXwOJzLibP2"
   },
   "outputs": [],
   "source": [
    "\n",
    "latest_cats = [\n",
    "          'ALL_RLA03PCTPROF_1819',\t\n",
    "          'ALL_RLA04PCTPROF_1819',\n",
    "          'ALL_RLA05PCTPROF_1819',\n",
    "          'ALL_RLA06PCTPROF_1819',\n",
    "          'ALL_RLA07PCTPROF_1819',\n",
    "          'ALL_RLA08PCTPROF_1819'\n",
    "          ]\n",
    "\n",
    "def range_to_median(row, all_cats=latest_cats):\n",
    "    # set to NAN for values that have higher range than 10\n",
    "    # GT greater than, GE greater than or equal to\n",
    "    # LT less than, LT less than or equal to\n",
    "    mapped_strings = {\n",
    "                 'LE5': 2.5,\n",
    "                 'LE10': 5,\n",
    "                 'LE20': np.nan,\n",
    "                 'LT50': np.nan,\n",
    "                 'GE50': np.nan,\n",
    "                 'GE80': np.nan,\n",
    "                 'GE90': 95,\n",
    "                 'GE95': 97.5,\n",
    "                 'GE99': 99.5,\n",
    "                 'PS':np.nan,\n",
    "                 \".\": np.nan\n",
    "    }\n",
    "    diffs = []\n",
    "\n",
    "    for i, cat in enumerate(all_cats):\n",
    "      if row[cat] in mapped_strings.keys():\n",
    "        row[cat] = mapped_strings[row[cat]]\n",
    "      else:\n",
    "        try:\n",
    "          \n",
    "          row[cat] = float(row[cat])\n",
    "        except:\n",
    "         \n",
    "          row[cat] = (int(row[cat].split('-')[0]) + int(row[cat].split('-')[1]))/2\n",
    "          \n",
    "    return row\n",
    "\n",
    "\n",
    "# Function to get difference between grades\n",
    "# including \"scores\" and \"diffs\" just for reference \n",
    "def get_diff(row, all_cats=latest_cats):\n",
    "    diffs = []\n",
    "    scores = []\n",
    "    for i, cat in enumerate(all_cats):\n",
    "      if np.isnan(row[all_cats[i]]):\n",
    "        scores.append('NA')\n",
    "        continue\n",
    "      else:\n",
    "        scores.append(row[all_cats[i]])\n",
    "        try:\n",
    "          if np.isnan(row[all_cats[i+1]]):\n",
    "            \n",
    "            continue\n",
    "          else:\n",
    "            diffs.append(row[all_cats[i+1]] - row[all_cats[i]])\n",
    "            \n",
    "        except:\n",
    "          continue\n",
    "    if diffs:\n",
    "      row['diff'] = sum(diffs)/len(diffs)\n",
    "      # used this to verify \n",
    "      row['diffs'] = diffs\n",
    "      row['scores'] = scores\n",
    "    else:\n",
    "      row['diff'] = 0\n",
    "      row['diffs'] = []\n",
    "      row['scores'] = []\n",
    "    return row\n",
    "\n",
    "merged_df = merged_df[['FIPS','LEANM']+num_valid+latest_cats]\n",
    "# drop empty fips rows \n",
    "merged_df = merged_df.dropna(subset=['FIPS'])\n",
    "# replace ps with previous column\n",
    "cleaned_scores_df = merged_df.apply(range_to_median, axis=1)\n",
    "# remove nan rows for  \n",
    "diff_df = cleaned_scores_df.apply(get_diff, axis=1)\n"
   ]
  },
  {
   "cell_type": "code",
   "execution_count": 7,
   "metadata": {
    "id": "YAI4_rUKO0XA"
   },
   "outputs": [],
   "source": [
    "# remove some bad data and replace with NAN\n",
    "diff_df.replace('.', np.nan, inplace=True)"
   ]
  },
  {
   "cell_type": "code",
   "execution_count": 8,
   "metadata": {
    "id": "eAiiORIrOxgy"
   },
   "outputs": [],
   "source": [
    "# make sure they are all numerical values so we can sum them\n",
    "diff_df[num_valid] = diff_df[num_valid].apply(pd.to_numeric)"
   ]
  },
  {
   "cell_type": "code",
   "execution_count": 9,
   "metadata": {
    "id": "yr95VLdMMMUP"
   },
   "outputs": [],
   "source": [
    "# sum the total number of valid test takers for grades 3 - 8 to act as the weight\n",
    "diff_df['weight'] = diff_df[num_valid].sum(axis=1)"
   ]
  },
  {
   "cell_type": "code",
   "execution_count": 10,
   "metadata": {
    "colab": {
     "base_uri": "https://localhost:8080/",
     "height": 1000
    },
    "executionInfo": {
     "elapsed": 14,
     "status": "ok",
     "timestamp": 1660323320721,
     "user": {
      "displayName": "Rachell Calhoun",
      "userId": "09409976350648542629"
     },
     "user_tz": 240
    },
    "id": "mwr8BNSfPHsq",
    "outputId": "5f4afd31-454d-41ca-cb59-76a47b640fdc"
   },
   "outputs": [
    {
     "data": {
      "text/html": [
       "<div>\n",
       "<style scoped>\n",
       "    .dataframe tbody tr th:only-of-type {\n",
       "        vertical-align: middle;\n",
       "    }\n",
       "\n",
       "    .dataframe tbody tr th {\n",
       "        vertical-align: top;\n",
       "    }\n",
       "\n",
       "    .dataframe thead th {\n",
       "        text-align: right;\n",
       "    }\n",
       "</style>\n",
       "<table border=\"1\" class=\"dataframe\">\n",
       "  <thead>\n",
       "    <tr style=\"text-align: right;\">\n",
       "      <th></th>\n",
       "      <th>FIPS</th>\n",
       "      <th>LEANM</th>\n",
       "      <th>ALL_RLA03NUMVALID_1819</th>\n",
       "      <th>ALL_RLA04NUMVALID_1819</th>\n",
       "      <th>ALL_RLA05NUMVALID_1819</th>\n",
       "      <th>ALL_RLA06NUMVALID_1819</th>\n",
       "      <th>ALL_RLA07NUMVALID_1819</th>\n",
       "      <th>ALL_RLA08NUMVALID_1819</th>\n",
       "      <th>ALL_RLA03PCTPROF_1819</th>\n",
       "      <th>ALL_RLA04PCTPROF_1819</th>\n",
       "      <th>ALL_RLA05PCTPROF_1819</th>\n",
       "      <th>ALL_RLA06PCTPROF_1819</th>\n",
       "      <th>ALL_RLA07PCTPROF_1819</th>\n",
       "      <th>ALL_RLA08PCTPROF_1819</th>\n",
       "      <th>diff</th>\n",
       "      <th>diffs</th>\n",
       "      <th>scores</th>\n",
       "      <th>weight</th>\n",
       "    </tr>\n",
       "  </thead>\n",
       "  <tbody>\n",
       "    <tr>\n",
       "      <th>40930</th>\n",
       "      <td>17147.0</td>\n",
       "      <td>Bement CUSD 5</td>\n",
       "      <td>18.0</td>\n",
       "      <td>27.0</td>\n",
       "      <td>14.0</td>\n",
       "      <td>17.0</td>\n",
       "      <td>20.0</td>\n",
       "      <td>26.0</td>\n",
       "      <td>69.5</td>\n",
       "      <td>30.0</td>\n",
       "      <td>NaN</td>\n",
       "      <td>69.5</td>\n",
       "      <td>NaN</td>\n",
       "      <td>69.5</td>\n",
       "      <td>-39.5</td>\n",
       "      <td>[-39.5]</td>\n",
       "      <td>[69.5, 30.0, NA, 69.5, NA, 69.5]</td>\n",
       "      <td>122.0</td>\n",
       "    </tr>\n",
       "    <tr>\n",
       "      <th>138308</th>\n",
       "      <td>53017.0</td>\n",
       "      <td>Eastmont School District</td>\n",
       "      <td>434.0</td>\n",
       "      <td>471.0</td>\n",
       "      <td>522.0</td>\n",
       "      <td>457.0</td>\n",
       "      <td>499.0</td>\n",
       "      <td>458.0</td>\n",
       "      <td>54.0</td>\n",
       "      <td>64.0</td>\n",
       "      <td>55.0</td>\n",
       "      <td>59.0</td>\n",
       "      <td>64.0</td>\n",
       "      <td>53.0</td>\n",
       "      <td>-0.2</td>\n",
       "      <td>[10.0, -9.0, 4.0, 5.0, -11.0]</td>\n",
       "      <td>[54.0, 64.0, 55.0, 59.0, 64.0, 53.0]</td>\n",
       "      <td>2841.0</td>\n",
       "    </tr>\n",
       "    <tr>\n",
       "      <th>70111</th>\n",
       "      <td>27115.0</td>\n",
       "      <td>PINE CITY PUBLIC SCHOOL DISTRICT</td>\n",
       "      <td>111.0</td>\n",
       "      <td>100.0</td>\n",
       "      <td>122.0</td>\n",
       "      <td>131.0</td>\n",
       "      <td>126.0</td>\n",
       "      <td>130.0</td>\n",
       "      <td>52.0</td>\n",
       "      <td>52.0</td>\n",
       "      <td>62.0</td>\n",
       "      <td>57.0</td>\n",
       "      <td>57.0</td>\n",
       "      <td>52.0</td>\n",
       "      <td>0.0</td>\n",
       "      <td>[0.0, 10.0, -5.0, 0.0, -5.0]</td>\n",
       "      <td>[52.0, 52.0, 62.0, 57.0, 57.0, 52.0]</td>\n",
       "      <td>720.0</td>\n",
       "    </tr>\n",
       "    <tr>\n",
       "      <th>51083</th>\n",
       "      <td>19005.0</td>\n",
       "      <td>Postville Comm School District</td>\n",
       "      <td>59.0</td>\n",
       "      <td>58.0</td>\n",
       "      <td>55.0</td>\n",
       "      <td>71.0</td>\n",
       "      <td>58.0</td>\n",
       "      <td>43.0</td>\n",
       "      <td>34.5</td>\n",
       "      <td>64.5</td>\n",
       "      <td>44.5</td>\n",
       "      <td>52.0</td>\n",
       "      <td>44.5</td>\n",
       "      <td>34.5</td>\n",
       "      <td>0.0</td>\n",
       "      <td>[30.0, -20.0, 7.5, -7.5, -10.0]</td>\n",
       "      <td>[34.5, 64.5, 44.5, 52.0, 44.5, 34.5]</td>\n",
       "      <td>344.0</td>\n",
       "    </tr>\n",
       "    <tr>\n",
       "      <th>86674</th>\n",
       "      <td>36029.0</td>\n",
       "      <td>NaN</td>\n",
       "      <td>NaN</td>\n",
       "      <td>NaN</td>\n",
       "      <td>NaN</td>\n",
       "      <td>NaN</td>\n",
       "      <td>NaN</td>\n",
       "      <td>NaN</td>\n",
       "      <td>NaN</td>\n",
       "      <td>NaN</td>\n",
       "      <td>NaN</td>\n",
       "      <td>NaN</td>\n",
       "      <td>NaN</td>\n",
       "      <td>NaN</td>\n",
       "      <td>0.0</td>\n",
       "      <td>[]</td>\n",
       "      <td>[]</td>\n",
       "      <td>0.0</td>\n",
       "    </tr>\n",
       "    <tr>\n",
       "      <th>116164</th>\n",
       "      <td>46135.0</td>\n",
       "      <td>Yankton School District 63-3</td>\n",
       "      <td>186.0</td>\n",
       "      <td>192.0</td>\n",
       "      <td>210.0</td>\n",
       "      <td>204.0</td>\n",
       "      <td>208.0</td>\n",
       "      <td>215.0</td>\n",
       "      <td>52.0</td>\n",
       "      <td>62.0</td>\n",
       "      <td>52.0</td>\n",
       "      <td>67.0</td>\n",
       "      <td>62.0</td>\n",
       "      <td>62.0</td>\n",
       "      <td>2.0</td>\n",
       "      <td>[10.0, -10.0, 15.0, -5.0, 0.0]</td>\n",
       "      <td>[52.0, 62.0, 52.0, 67.0, 62.0, 62.0]</td>\n",
       "      <td>1215.0</td>\n",
       "    </tr>\n",
       "    <tr>\n",
       "      <th>64588</th>\n",
       "      <td>26125.0</td>\n",
       "      <td>Faxon Language Immersion Academy</td>\n",
       "      <td>4.0</td>\n",
       "      <td>11.0</td>\n",
       "      <td>7.0</td>\n",
       "      <td>3.0</td>\n",
       "      <td>3.0</td>\n",
       "      <td>1.0</td>\n",
       "      <td>NaN</td>\n",
       "      <td>NaN</td>\n",
       "      <td>NaN</td>\n",
       "      <td>NaN</td>\n",
       "      <td>NaN</td>\n",
       "      <td>NaN</td>\n",
       "      <td>0.0</td>\n",
       "      <td>[]</td>\n",
       "      <td>[]</td>\n",
       "      <td>29.0</td>\n",
       "    </tr>\n",
       "    <tr>\n",
       "      <th>35739</th>\n",
       "      <td>13061.0</td>\n",
       "      <td>Clay County</td>\n",
       "      <td>17.0</td>\n",
       "      <td>29.0</td>\n",
       "      <td>24.0</td>\n",
       "      <td>21.0</td>\n",
       "      <td>22.0</td>\n",
       "      <td>19.0</td>\n",
       "      <td>NaN</td>\n",
       "      <td>NaN</td>\n",
       "      <td>30.0</td>\n",
       "      <td>30.0</td>\n",
       "      <td>30.0</td>\n",
       "      <td>30.0</td>\n",
       "      <td>0.0</td>\n",
       "      <td>[0.0, 0.0, 0.0]</td>\n",
       "      <td>[NA, NA, 30.0, 30.0, 30.0, 30.0]</td>\n",
       "      <td>132.0</td>\n",
       "    </tr>\n",
       "    <tr>\n",
       "      <th>49562</th>\n",
       "      <td>19021.0</td>\n",
       "      <td>Sioux Central Comm School District</td>\n",
       "      <td>31.0</td>\n",
       "      <td>32.0</td>\n",
       "      <td>56.0</td>\n",
       "      <td>36.0</td>\n",
       "      <td>61.0</td>\n",
       "      <td>71.0</td>\n",
       "      <td>64.5</td>\n",
       "      <td>74.5</td>\n",
       "      <td>74.5</td>\n",
       "      <td>84.5</td>\n",
       "      <td>67.0</td>\n",
       "      <td>87.0</td>\n",
       "      <td>4.5</td>\n",
       "      <td>[10.0, 0.0, 10.0, -17.5, 20.0]</td>\n",
       "      <td>[64.5, 74.5, 74.5, 84.5, 67.0, 87.0]</td>\n",
       "      <td>287.0</td>\n",
       "    </tr>\n",
       "    <tr>\n",
       "      <th>40403</th>\n",
       "      <td>17049.0</td>\n",
       "      <td>Bnd/Chrstn/Effngh/Fytt/Mntgmr ROE</td>\n",
       "      <td>NaN</td>\n",
       "      <td>NaN</td>\n",
       "      <td>NaN</td>\n",
       "      <td>3.0</td>\n",
       "      <td>8.0</td>\n",
       "      <td>23.0</td>\n",
       "      <td>NaN</td>\n",
       "      <td>NaN</td>\n",
       "      <td>NaN</td>\n",
       "      <td>NaN</td>\n",
       "      <td>NaN</td>\n",
       "      <td>NaN</td>\n",
       "      <td>0.0</td>\n",
       "      <td>[]</td>\n",
       "      <td>[]</td>\n",
       "      <td>34.0</td>\n",
       "    </tr>\n",
       "  </tbody>\n",
       "</table>\n",
       "</div>"
      ],
      "text/plain": [
       "           FIPS                               LEANM  ALL_RLA03NUMVALID_1819  \\\n",
       "40930   17147.0                       Bement CUSD 5                    18.0   \n",
       "138308  53017.0            Eastmont School District                   434.0   \n",
       "70111   27115.0    PINE CITY PUBLIC SCHOOL DISTRICT                   111.0   \n",
       "51083   19005.0      Postville Comm School District                    59.0   \n",
       "86674   36029.0                                 NaN                     NaN   \n",
       "116164  46135.0        Yankton School District 63-3                   186.0   \n",
       "64588   26125.0    Faxon Language Immersion Academy                     4.0   \n",
       "35739   13061.0                         Clay County                    17.0   \n",
       "49562   19021.0  Sioux Central Comm School District                    31.0   \n",
       "40403   17049.0   Bnd/Chrstn/Effngh/Fytt/Mntgmr ROE                     NaN   \n",
       "\n",
       "        ALL_RLA04NUMVALID_1819  ALL_RLA05NUMVALID_1819  \\\n",
       "40930                     27.0                    14.0   \n",
       "138308                   471.0                   522.0   \n",
       "70111                    100.0                   122.0   \n",
       "51083                     58.0                    55.0   \n",
       "86674                      NaN                     NaN   \n",
       "116164                   192.0                   210.0   \n",
       "64588                     11.0                     7.0   \n",
       "35739                     29.0                    24.0   \n",
       "49562                     32.0                    56.0   \n",
       "40403                      NaN                     NaN   \n",
       "\n",
       "        ALL_RLA06NUMVALID_1819  ALL_RLA07NUMVALID_1819  \\\n",
       "40930                     17.0                    20.0   \n",
       "138308                   457.0                   499.0   \n",
       "70111                    131.0                   126.0   \n",
       "51083                     71.0                    58.0   \n",
       "86674                      NaN                     NaN   \n",
       "116164                   204.0                   208.0   \n",
       "64588                      3.0                     3.0   \n",
       "35739                     21.0                    22.0   \n",
       "49562                     36.0                    61.0   \n",
       "40403                      3.0                     8.0   \n",
       "\n",
       "        ALL_RLA08NUMVALID_1819  ALL_RLA03PCTPROF_1819  ALL_RLA04PCTPROF_1819  \\\n",
       "40930                     26.0                   69.5                   30.0   \n",
       "138308                   458.0                   54.0                   64.0   \n",
       "70111                    130.0                   52.0                   52.0   \n",
       "51083                     43.0                   34.5                   64.5   \n",
       "86674                      NaN                    NaN                    NaN   \n",
       "116164                   215.0                   52.0                   62.0   \n",
       "64588                      1.0                    NaN                    NaN   \n",
       "35739                     19.0                    NaN                    NaN   \n",
       "49562                     71.0                   64.5                   74.5   \n",
       "40403                     23.0                    NaN                    NaN   \n",
       "\n",
       "        ALL_RLA05PCTPROF_1819  ALL_RLA06PCTPROF_1819  ALL_RLA07PCTPROF_1819  \\\n",
       "40930                     NaN                   69.5                    NaN   \n",
       "138308                   55.0                   59.0                   64.0   \n",
       "70111                    62.0                   57.0                   57.0   \n",
       "51083                    44.5                   52.0                   44.5   \n",
       "86674                     NaN                    NaN                    NaN   \n",
       "116164                   52.0                   67.0                   62.0   \n",
       "64588                     NaN                    NaN                    NaN   \n",
       "35739                    30.0                   30.0                   30.0   \n",
       "49562                    74.5                   84.5                   67.0   \n",
       "40403                     NaN                    NaN                    NaN   \n",
       "\n",
       "        ALL_RLA08PCTPROF_1819  diff                            diffs  \\\n",
       "40930                    69.5 -39.5                          [-39.5]   \n",
       "138308                   53.0  -0.2    [10.0, -9.0, 4.0, 5.0, -11.0]   \n",
       "70111                    52.0   0.0     [0.0, 10.0, -5.0, 0.0, -5.0]   \n",
       "51083                    34.5   0.0  [30.0, -20.0, 7.5, -7.5, -10.0]   \n",
       "86674                     NaN   0.0                               []   \n",
       "116164                   62.0   2.0   [10.0, -10.0, 15.0, -5.0, 0.0]   \n",
       "64588                     NaN   0.0                               []   \n",
       "35739                    30.0   0.0                  [0.0, 0.0, 0.0]   \n",
       "49562                    87.0   4.5   [10.0, 0.0, 10.0, -17.5, 20.0]   \n",
       "40403                     NaN   0.0                               []   \n",
       "\n",
       "                                      scores  weight  \n",
       "40930       [69.5, 30.0, NA, 69.5, NA, 69.5]   122.0  \n",
       "138308  [54.0, 64.0, 55.0, 59.0, 64.0, 53.0]  2841.0  \n",
       "70111   [52.0, 52.0, 62.0, 57.0, 57.0, 52.0]   720.0  \n",
       "51083   [34.5, 64.5, 44.5, 52.0, 44.5, 34.5]   344.0  \n",
       "86674                                     []     0.0  \n",
       "116164  [52.0, 62.0, 52.0, 67.0, 62.0, 62.0]  1215.0  \n",
       "64588                                     []    29.0  \n",
       "35739       [NA, NA, 30.0, 30.0, 30.0, 30.0]   132.0  \n",
       "49562   [64.5, 74.5, 74.5, 84.5, 67.0, 87.0]   287.0  \n",
       "40403                                     []    34.0  "
      ]
     },
     "execution_count": 10,
     "metadata": {},
     "output_type": "execute_result"
    }
   ],
   "source": [
    "diff_df.sample(10)"
   ]
  },
  {
   "cell_type": "code",
   "execution_count": 11,
   "metadata": {
    "id": "_Gp0dMc5IOIs"
   },
   "outputs": [],
   "source": [
    "# Create weighted average\n",
    "# note: weights are the total number of students who took the test, grades 3-8\n",
    "\n",
    "def my_agg(x):\n",
    "    names = {'weighted_av': (x['weight'] * x['diff']).sum()/x['weight'].sum()}\n",
    "    return pd.Series(names, index=['weighted_av'])"
   ]
  },
  {
   "cell_type": "code",
   "execution_count": 12,
   "metadata": {
    "colab": {
     "base_uri": "https://localhost:8080/"
    },
    "executionInfo": {
     "elapsed": 3227,
     "status": "ok",
     "timestamp": 1660323869113,
     "user": {
      "displayName": "Rachell Calhoun",
      "userId": "09409976350648542629"
     },
     "user_tz": 240
    },
    "id": "XibQBybLJ7Ht",
    "outputId": "3df4c65f-e803-4158-e924-2b4e52b89375"
   },
   "outputs": [
    {
     "name": "stderr",
     "output_type": "stream",
     "text": [
      "/tmp/ipykernel_53084/3052670289.py:5: RuntimeWarning: invalid value encountered in double_scalars\n",
      "  names = {'weighted_av': (x['weight'] * x['diff']).sum()/x['weight'].sum()}\n",
      "/tmp/ipykernel_53084/3052670289.py:5: RuntimeWarning: invalid value encountered in double_scalars\n",
      "  names = {'weighted_av': (x['weight'] * x['diff']).sum()/x['weight'].sum()}\n",
      "/tmp/ipykernel_53084/3052670289.py:5: RuntimeWarning: invalid value encountered in double_scalars\n",
      "  names = {'weighted_av': (x['weight'] * x['diff']).sum()/x['weight'].sum()}\n",
      "/tmp/ipykernel_53084/3052670289.py:5: RuntimeWarning: invalid value encountered in double_scalars\n",
      "  names = {'weighted_av': (x['weight'] * x['diff']).sum()/x['weight'].sum()}\n",
      "/tmp/ipykernel_53084/3052670289.py:5: RuntimeWarning: invalid value encountered in double_scalars\n",
      "  names = {'weighted_av': (x['weight'] * x['diff']).sum()/x['weight'].sum()}\n",
      "/tmp/ipykernel_53084/3052670289.py:5: RuntimeWarning: invalid value encountered in double_scalars\n",
      "  names = {'weighted_av': (x['weight'] * x['diff']).sum()/x['weight'].sum()}\n",
      "/tmp/ipykernel_53084/3052670289.py:5: RuntimeWarning: invalid value encountered in double_scalars\n",
      "  names = {'weighted_av': (x['weight'] * x['diff']).sum()/x['weight'].sum()}\n",
      "/tmp/ipykernel_53084/3052670289.py:5: RuntimeWarning: invalid value encountered in double_scalars\n",
      "  names = {'weighted_av': (x['weight'] * x['diff']).sum()/x['weight'].sum()}\n",
      "/tmp/ipykernel_53084/3052670289.py:5: RuntimeWarning: invalid value encountered in double_scalars\n",
      "  names = {'weighted_av': (x['weight'] * x['diff']).sum()/x['weight'].sum()}\n",
      "/tmp/ipykernel_53084/3052670289.py:5: RuntimeWarning: invalid value encountered in double_scalars\n",
      "  names = {'weighted_av': (x['weight'] * x['diff']).sum()/x['weight'].sum()}\n",
      "/tmp/ipykernel_53084/3052670289.py:5: RuntimeWarning: invalid value encountered in double_scalars\n",
      "  names = {'weighted_av': (x['weight'] * x['diff']).sum()/x['weight'].sum()}\n",
      "/tmp/ipykernel_53084/3052670289.py:5: RuntimeWarning: invalid value encountered in double_scalars\n",
      "  names = {'weighted_av': (x['weight'] * x['diff']).sum()/x['weight'].sum()}\n",
      "/tmp/ipykernel_53084/3052670289.py:5: RuntimeWarning: invalid value encountered in double_scalars\n",
      "  names = {'weighted_av': (x['weight'] * x['diff']).sum()/x['weight'].sum()}\n",
      "/tmp/ipykernel_53084/3052670289.py:5: RuntimeWarning: invalid value encountered in double_scalars\n",
      "  names = {'weighted_av': (x['weight'] * x['diff']).sum()/x['weight'].sum()}\n",
      "/tmp/ipykernel_53084/3052670289.py:5: RuntimeWarning: invalid value encountered in double_scalars\n",
      "  names = {'weighted_av': (x['weight'] * x['diff']).sum()/x['weight'].sum()}\n",
      "/tmp/ipykernel_53084/3052670289.py:5: RuntimeWarning: invalid value encountered in double_scalars\n",
      "  names = {'weighted_av': (x['weight'] * x['diff']).sum()/x['weight'].sum()}\n"
     ]
    }
   ],
   "source": [
    "grouped_df = diff_df.groupby('FIPS').apply(my_agg).reset_index()"
   ]
  },
  {
   "cell_type": "code",
   "execution_count": 13,
   "metadata": {
    "id": "zDqtA0LDPVla"
   },
   "outputs": [],
   "source": [
    "# rename column to fit with existing workflow\n",
    "grouped_df.rename(columns={'weighted_av': 'avg_edu_prof_diff'}, inplace=True)\n"
   ]
  },
  {
   "cell_type": "code",
   "execution_count": 14,
   "metadata": {
    "colab": {
     "base_uri": "https://localhost:8080/",
     "height": 206
    },
    "executionInfo": {
     "elapsed": 332,
     "status": "ok",
     "timestamp": 1660323872366,
     "user": {
      "displayName": "Rachell Calhoun",
      "userId": "09409976350648542629"
     },
     "user_tz": 240
    },
    "id": "9YqfBrI5Q9L4",
    "outputId": "cc88a967-ad93-4e45-a45c-2aa632fd6311"
   },
   "outputs": [
    {
     "data": {
      "text/html": [
       "<div>\n",
       "<style scoped>\n",
       "    .dataframe tbody tr th:only-of-type {\n",
       "        vertical-align: middle;\n",
       "    }\n",
       "\n",
       "    .dataframe tbody tr th {\n",
       "        vertical-align: top;\n",
       "    }\n",
       "\n",
       "    .dataframe thead th {\n",
       "        text-align: right;\n",
       "    }\n",
       "</style>\n",
       "<table border=\"1\" class=\"dataframe\">\n",
       "  <thead>\n",
       "    <tr style=\"text-align: right;\">\n",
       "      <th></th>\n",
       "      <th>FIPS</th>\n",
       "      <th>avg_edu_prof_diff</th>\n",
       "    </tr>\n",
       "  </thead>\n",
       "  <tbody>\n",
       "    <tr>\n",
       "      <th>0</th>\n",
       "      <td>1001.0</td>\n",
       "      <td>-2.000000</td>\n",
       "    </tr>\n",
       "    <tr>\n",
       "      <th>1</th>\n",
       "      <td>1003.0</td>\n",
       "      <td>-0.800000</td>\n",
       "    </tr>\n",
       "    <tr>\n",
       "      <th>2</th>\n",
       "      <td>1005.0</td>\n",
       "      <td>0.817457</td>\n",
       "    </tr>\n",
       "    <tr>\n",
       "      <th>3</th>\n",
       "      <td>1007.0</td>\n",
       "      <td>-1.000000</td>\n",
       "    </tr>\n",
       "    <tr>\n",
       "      <th>4</th>\n",
       "      <td>1009.0</td>\n",
       "      <td>-0.491528</td>\n",
       "    </tr>\n",
       "  </tbody>\n",
       "</table>\n",
       "</div>"
      ],
      "text/plain": [
       "     FIPS  avg_edu_prof_diff\n",
       "0  1001.0          -2.000000\n",
       "1  1003.0          -0.800000\n",
       "2  1005.0           0.817457\n",
       "3  1007.0          -1.000000\n",
       "4  1009.0          -0.491528"
      ]
     },
     "execution_count": 14,
     "metadata": {},
     "output_type": "execute_result"
    }
   ],
   "source": [
    "grouped_df.head()"
   ]
  },
  {
   "cell_type": "code",
   "execution_count": 15,
   "metadata": {
    "id": "h9AoSGo8IOM2"
   },
   "outputs": [],
   "source": [
    "# grouped_df['avg_edu_prof_diff'] = grouped_df['weighted_av'].div(100)\n",
    "grouped_df = grouped_df[['FIPS', 'avg_edu_prof_diff']]"
   ]
  },
  {
   "cell_type": "code",
   "execution_count": 16,
   "metadata": {
    "colab": {
     "base_uri": "https://localhost:8080/",
     "height": 206
    },
    "executionInfo": {
     "elapsed": 5,
     "status": "ok",
     "timestamp": 1660323878195,
     "user": {
      "displayName": "Rachell Calhoun",
      "userId": "09409976350648542629"
     },
     "user_tz": 240
    },
    "id": "uox8L1Po-5CG",
    "outputId": "617f09b7-b05f-4814-9a28-f333b8e85093"
   },
   "outputs": [
    {
     "data": {
      "text/html": [
       "<div>\n",
       "<style scoped>\n",
       "    .dataframe tbody tr th:only-of-type {\n",
       "        vertical-align: middle;\n",
       "    }\n",
       "\n",
       "    .dataframe tbody tr th {\n",
       "        vertical-align: top;\n",
       "    }\n",
       "\n",
       "    .dataframe thead th {\n",
       "        text-align: right;\n",
       "    }\n",
       "</style>\n",
       "<table border=\"1\" class=\"dataframe\">\n",
       "  <thead>\n",
       "    <tr style=\"text-align: right;\">\n",
       "      <th></th>\n",
       "      <th>FIPS</th>\n",
       "      <th>avg_edu_prof_diff</th>\n",
       "    </tr>\n",
       "  </thead>\n",
       "  <tbody>\n",
       "    <tr>\n",
       "      <th>0</th>\n",
       "      <td>1001.0</td>\n",
       "      <td>-2.000000</td>\n",
       "    </tr>\n",
       "    <tr>\n",
       "      <th>1</th>\n",
       "      <td>1003.0</td>\n",
       "      <td>-0.800000</td>\n",
       "    </tr>\n",
       "    <tr>\n",
       "      <th>2</th>\n",
       "      <td>1005.0</td>\n",
       "      <td>0.817457</td>\n",
       "    </tr>\n",
       "    <tr>\n",
       "      <th>3</th>\n",
       "      <td>1007.0</td>\n",
       "      <td>-1.000000</td>\n",
       "    </tr>\n",
       "    <tr>\n",
       "      <th>4</th>\n",
       "      <td>1009.0</td>\n",
       "      <td>-0.491528</td>\n",
       "    </tr>\n",
       "  </tbody>\n",
       "</table>\n",
       "</div>"
      ],
      "text/plain": [
       "     FIPS  avg_edu_prof_diff\n",
       "0  1001.0          -2.000000\n",
       "1  1003.0          -0.800000\n",
       "2  1005.0           0.817457\n",
       "3  1007.0          -1.000000\n",
       "4  1009.0          -0.491528"
      ]
     },
     "execution_count": 16,
     "metadata": {},
     "output_type": "execute_result"
    }
   ],
   "source": [
    "grouped_df.head()"
   ]
  },
  {
   "cell_type": "code",
   "execution_count": 17,
   "metadata": {
    "id": "PiW8yGIn-Wix"
   },
   "outputs": [],
   "source": [
    "grouped_df.to_csv(f'{data_path}/processed/avg_edu_prof_all.csv', index=False)"
   ]
  },
  {
   "cell_type": "markdown",
   "metadata": {
    "id": "rGshLOvVe6Kp"
   },
   "source": [
    "## Homeless enrolled for 2018 - 2019\n",
    "https://www2.ed.gov/about/inits/ed/edfacts/data-files/school-status-data.html \n",
    "\n",
    "\n",
    "Notes:     \n",
    "- Crosswalk CSV for year 2018 used to map FIPS codes to LEAID:\n",
    "    - https://exhibits.stanford.edu/data/catalog/db586ns4974\n",
    "    - filname: seda_crosswalk_4.1.csv (june 2021)\n",
    "- Dataset for homeless student numbers is the unduplicated number of homeless students enrolled in each LEA at any time during the school year. \n",
    "    - https://www2.ed.gov/about/inits/ed/edfacts/data-files/lea-homeless-enrolled-sy2018-19-wide.csv\n",
    "\n",
    "Methodology and Assumptions:\n",
    " - Puerto Rico was not broken down at a county level, all of Puerto Rico is under FIPS code 72129\n",
    " - Some Local Education Agencies (LEA) overlap, for example: Hoover City is in both Shelby County and Jefferson County. Because we have no way to divide the number of students in Hoover City properly, we added that number to both counties. \n",
    " - To verify state totals those numbers can been seen https://nces.ed.gov/programs/digest/d19/tables/xls/tabn204.75d.xls \n"
   ]
  },
  {
   "cell_type": "code",
   "execution_count": 18,
   "metadata": {
    "id": "2Tn0J1fca0lP"
   },
   "outputs": [],
   "source": [
    "import pandas as pd\n",
    "def get_homeless_students_df(recreate=False):\n",
    "  \"\"\"\n",
    "  return a merged df crosswalk df and homeless student numbers df\n",
    "  \"\"\"\n",
    "\n",
    "  if recreate: \n",
    "    crosswalk_df = pd.read_csv(f'{data_path}/raw/seda_crosswalk_4.1.csv')\n",
    "    crosswalk_df = crosswalk_df[crosswalk_df['year']==2018]\n",
    "    # Rename Columns for readability\n",
    "    merged_df = crosswalk_df[['sedacounty','leaid']].rename(columns={'leaid': 'LEAID', 'sedacounty': 'FIPS', 'sedaschname': 'NAME'})\n",
    "    \n",
    "    df = pd.read_csv(f'{data_path}/raw/lea-homeless-enrolled-sy2018-19-wide.csv')\n",
    "\n",
    "    # read csv from URL \n",
    "    # df = pd.read_csv('https://www2.ed.gov/about/inits/ed/edfacts/data-files/lea-homeless-enrolled-sy2018-19-wide.csv')\n",
    "\n",
    "    # Only return certain columns\n",
    "    df = df[['LEAID', 'TOTAL','STNAM']]\n",
    "\n",
    "    # replace S with 1 student count between 0 and 2 is S\n",
    "    df['TOTAL'] = df['TOTAL'].replace(['S'], 1).fillna(0).apply(pd.to_numeric, errors=\"coerce\").fillna(0)\n",
    "\n",
    "    # Merge on the LEAID Local Education Agency ID \n",
    "    merged_df = df.merge(merged_df, how=\"left\", left_on='LEAID', right_on='LEAID')\n",
    "\n",
    "    # merge all of Puerto Rico into one FIPS as a placeholder because it's not broken down \n",
    "    # By County \n",
    "    merged_df.loc[merged_df['STNAM']=='PUERTO RICO', 'FIPS'] = 72129.0\n",
    "\n",
    "\n",
    "\n",
    "    # fill in any NAN totals with 0\n",
    "    merged_df['TOTAL'].fillna(0, inplace=True)\n",
    "    # Remove Duplicate rows\n",
    "\n",
    "    merged_df = merged_df.drop_duplicates()\n",
    "\n",
    "    # We only need totals for FIPS\n",
    "    merged_df = merged_df[['FIPS', 'TOTAL', 'STNAM']]\n",
    "\n",
    "    # Merge totals back with merged_df to get state name and verify state totals \n",
    "    totals = merged_df.groupby('FIPS')['TOTAL'].sum()\n",
    "    totals_merged_df = merged_df[['FIPS', 'STNAM']].merge(totals, how=\"left\", left_on='FIPS', right_on='FIPS')\n",
    "    totals_merged_df = totals_merged_df.drop_duplicates()\n",
    "    totals_merged_df = totals_merged_df.dropna()\n",
    "    totals_merged_df = totals_merged_df.rename(columns={'TOTAL': 'HOM_STUDENTS'})\n",
    "    totals_merged_df = totals_merged_df[['FIPS', 'HOM_STUDENTS']]\n",
    "    totals_merged_df.to_csv(f'{data_path}/processed/homeless_students_201819-totals.csv', index=False)\n",
    "  else:\n",
    "    totals_merged_df = pd.read_csv(f'{data_path}/processed/homeless_students_201819-totals.csv')\n",
    "  return totals_merged_df\n",
    "\n"
   ]
  },
  {
   "cell_type": "code",
   "execution_count": 19,
   "metadata": {
    "id": "RcfhTNimgjP2"
   },
   "outputs": [],
   "source": [
    "hom_df = get_homeless_students_df(recreate=False)"
   ]
  },
  {
   "cell_type": "code",
   "execution_count": 20,
   "metadata": {
    "colab": {
     "base_uri": "https://localhost:8080/",
     "height": 206
    },
    "executionInfo": {
     "elapsed": 202,
     "status": "ok",
     "timestamp": 1660167676065,
     "user": {
      "displayName": "Rachell Calhoun",
      "userId": "09409976350648542629"
     },
     "user_tz": 240
    },
    "id": "2ikqXYRte2n3",
    "outputId": "982dc6bf-735c-4fb0-d61a-62ec2df711e2"
   },
   "outputs": [
    {
     "data": {
      "text/html": [
       "<div>\n",
       "<style scoped>\n",
       "    .dataframe tbody tr th:only-of-type {\n",
       "        vertical-align: middle;\n",
       "    }\n",
       "\n",
       "    .dataframe tbody tr th {\n",
       "        vertical-align: top;\n",
       "    }\n",
       "\n",
       "    .dataframe thead th {\n",
       "        text-align: right;\n",
       "    }\n",
       "</style>\n",
       "<table border=\"1\" class=\"dataframe\">\n",
       "  <thead>\n",
       "    <tr style=\"text-align: right;\">\n",
       "      <th></th>\n",
       "      <th>FIPS</th>\n",
       "      <th>HOM_STUDENTS</th>\n",
       "    </tr>\n",
       "  </thead>\n",
       "  <tbody>\n",
       "    <tr>\n",
       "      <th>0</th>\n",
       "      <td>1095.0</td>\n",
       "      <td>499.0</td>\n",
       "    </tr>\n",
       "    <tr>\n",
       "      <th>1</th>\n",
       "      <td>1073.0</td>\n",
       "      <td>1291.0</td>\n",
       "    </tr>\n",
       "    <tr>\n",
       "      <th>2</th>\n",
       "      <td>1117.0</td>\n",
       "      <td>353.0</td>\n",
       "    </tr>\n",
       "    <tr>\n",
       "      <th>3</th>\n",
       "      <td>1089.0</td>\n",
       "      <td>495.0</td>\n",
       "    </tr>\n",
       "    <tr>\n",
       "      <th>4</th>\n",
       "      <td>1123.0</td>\n",
       "      <td>22.0</td>\n",
       "    </tr>\n",
       "  </tbody>\n",
       "</table>\n",
       "</div>"
      ],
      "text/plain": [
       "     FIPS  HOM_STUDENTS\n",
       "0  1095.0         499.0\n",
       "1  1073.0        1291.0\n",
       "2  1117.0         353.0\n",
       "3  1089.0         495.0\n",
       "4  1123.0          22.0"
      ]
     },
     "execution_count": 20,
     "metadata": {},
     "output_type": "execute_result"
    }
   ],
   "source": [
    "hom_df.head()"
   ]
  },
  {
   "cell_type": "code",
   "execution_count": 21,
   "metadata": {
    "colab": {
     "base_uri": "https://localhost:8080/",
     "height": 98
    },
    "executionInfo": {
     "elapsed": 191,
     "status": "ok",
     "timestamp": 1660167740802,
     "user": {
      "displayName": "Rachell Calhoun",
      "userId": "09409976350648542629"
     },
     "user_tz": 240
    },
    "id": "z58ryVuSENzQ",
    "outputId": "1fc4823e-fdd4-419c-ca6b-46be04e564bc"
   },
   "outputs": [
    {
     "name": "stdout",
     "output_type": "stream",
     "text": [
      "2467.0\n"
     ]
    },
    {
     "data": {
      "text/html": [
       "<div>\n",
       "<style scoped>\n",
       "    .dataframe tbody tr th:only-of-type {\n",
       "        vertical-align: middle;\n",
       "    }\n",
       "\n",
       "    .dataframe tbody tr th {\n",
       "        vertical-align: top;\n",
       "    }\n",
       "\n",
       "    .dataframe thead th {\n",
       "        text-align: right;\n",
       "    }\n",
       "</style>\n",
       "<table border=\"1\" class=\"dataframe\">\n",
       "  <thead>\n",
       "    <tr style=\"text-align: right;\">\n",
       "      <th></th>\n",
       "      <th>FIPS</th>\n",
       "      <th>HOM_STUDENTS</th>\n",
       "    </tr>\n",
       "  </thead>\n",
       "  <tbody>\n",
       "    <tr>\n",
       "      <th>2551</th>\n",
       "      <td>51600.0</td>\n",
       "      <td>2467.0</td>\n",
       "    </tr>\n",
       "  </tbody>\n",
       "</table>\n",
       "</div>"
      ],
      "text/plain": [
       "         FIPS  HOM_STUDENTS\n",
       "2551  51600.0        2467.0"
      ]
     },
     "execution_count": 21,
     "metadata": {},
     "output_type": "execute_result"
    }
   ],
   "source": [
    "#sanity check, verify the totals are valid for the fips\n",
    "print(sum(list(hom_df[hom_df['FIPS']==51600]['HOM_STUDENTS'])))\n",
    "hom_df[hom_df['FIPS']==51600]"
   ]
  },
  {
   "cell_type": "code",
   "execution_count": 22,
   "metadata": {
    "colab": {
     "base_uri": "https://localhost:8080/",
     "height": 206
    },
    "executionInfo": {
     "elapsed": 787,
     "status": "ok",
     "timestamp": 1657846042565,
     "user": {
      "displayName": "Rachell Calhoun",
      "userId": "09409976350648542629"
     },
     "user_tz": 240
    },
    "id": "9TJfAoKeRskM",
    "outputId": "c16e7343-f29a-4785-9ec5-c458ca9a7a66"
   },
   "outputs": [
    {
     "data": {
      "text/html": [
       "<div>\n",
       "<style scoped>\n",
       "    .dataframe tbody tr th:only-of-type {\n",
       "        vertical-align: middle;\n",
       "    }\n",
       "\n",
       "    .dataframe tbody tr th {\n",
       "        vertical-align: top;\n",
       "    }\n",
       "\n",
       "    .dataframe thead th {\n",
       "        text-align: right;\n",
       "    }\n",
       "</style>\n",
       "<table border=\"1\" class=\"dataframe\">\n",
       "  <thead>\n",
       "    <tr style=\"text-align: right;\">\n",
       "      <th></th>\n",
       "      <th>FIPS</th>\n",
       "      <th>HOM_STUDENTS</th>\n",
       "    </tr>\n",
       "  </thead>\n",
       "  <tbody>\n",
       "    <tr>\n",
       "      <th>0</th>\n",
       "      <td>1095.0</td>\n",
       "      <td>499.0</td>\n",
       "    </tr>\n",
       "    <tr>\n",
       "      <th>1</th>\n",
       "      <td>1073.0</td>\n",
       "      <td>1291.0</td>\n",
       "    </tr>\n",
       "    <tr>\n",
       "      <th>2</th>\n",
       "      <td>1117.0</td>\n",
       "      <td>353.0</td>\n",
       "    </tr>\n",
       "    <tr>\n",
       "      <th>3</th>\n",
       "      <td>1089.0</td>\n",
       "      <td>495.0</td>\n",
       "    </tr>\n",
       "    <tr>\n",
       "      <th>4</th>\n",
       "      <td>1123.0</td>\n",
       "      <td>22.0</td>\n",
       "    </tr>\n",
       "  </tbody>\n",
       "</table>\n",
       "</div>"
      ],
      "text/plain": [
       "     FIPS  HOM_STUDENTS\n",
       "0  1095.0         499.0\n",
       "1  1073.0        1291.0\n",
       "2  1117.0         353.0\n",
       "3  1089.0         495.0\n",
       "4  1123.0          22.0"
      ]
     },
     "execution_count": 22,
     "metadata": {},
     "output_type": "execute_result"
    }
   ],
   "source": [
    "hom_df.head()"
   ]
  }
 ],
 "metadata": {
  "colab": {
   "collapsed_sections": [],
   "name": "education.ipynb",
   "provenance": []
  },
  "kernelspec": {
   "display_name": "Python 3 (ipykernel)",
   "language": "python",
   "name": "python3"
  },
  "language_info": {
   "codemirror_mode": {
    "name": "ipython",
    "version": 3
   },
   "file_extension": ".py",
   "mimetype": "text/x-python",
   "name": "python",
   "nbconvert_exporter": "python",
   "pygments_lexer": "ipython3",
   "version": "3.9.13"
  }
 },
 "nbformat": 4,
 "nbformat_minor": 1
}
