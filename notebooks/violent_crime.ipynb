{
 "cells": [
  {
   "cell_type": "code",
   "execution_count": 1,
   "metadata": {
    "id": "dfC35pDjV8je"
   },
   "outputs": [
    {
     "name": "stdout",
     "output_type": "stream",
     "text": [
      "The Zen of Python, by Tim Peters\n",
      "\n",
      "Beautiful is better than ugly.\n",
      "Explicit is better than implicit.\n",
      "Simple is better than complex.\n",
      "Complex is better than complicated.\n",
      "Flat is better than nested.\n",
      "Sparse is better than dense.\n",
      "Readability counts.\n",
      "Special cases aren't special enough to break the rules.\n",
      "Although practicality beats purity.\n",
      "Errors should never pass silently.\n",
      "Unless explicitly silenced.\n",
      "In the face of ambiguity, refuse the temptation to guess.\n",
      "There should be one-- and preferably only one --obvious way to do it.\n",
      "Although that way may not be obvious at first unless you're Dutch.\n",
      "Now is better than never.\n",
      "Although never is often better than *right* now.\n",
      "If the implementation is hard to explain, it's a bad idea.\n",
      "If the implementation is easy to explain, it may be a good idea.\n",
      "Namespaces are one honking great idea -- let's do more of those!\n"
     ]
    }
   ],
   "source": [
    "from this import s\n",
    "import pandas as pd\n",
    "import json\n",
    "import warnings\n",
    "warnings.filterwarnings('ignore')"
   ]
  },
  {
   "cell_type": "code",
   "execution_count": 2,
   "metadata": {
    "colab": {
     "base_uri": "https://localhost:8080/"
    },
    "executionInfo": {
     "elapsed": 844,
     "status": "ok",
     "timestamp": 1660239995329,
     "user": {
      "displayName": "Elizabeth Giancola",
      "userId": "12599460371540732383"
     },
     "user_tz": 240
    },
    "id": "XK7aqhkLV_sR",
    "outputId": "1b2be47d-7106-44d6-bd05-e6744ad2725d"
   },
   "outputs": [],
   "source": [
    "import os\n",
    "if 'COLAB_GPU' in os.environ:\n",
    "    from google.colab import  drive\n",
    "    drive.mount('/drive')\n",
    "    data_path = '/drive/Shared drives/Capstone/notebooks/data'\n",
    "    crime_data = '/drive/Shared drives/Capstone/notebooks/files'\n",
    "else:\n",
    "    data_path = 'data'\n",
    "    crime_data = 'files'"
   ]
  },
  {
   "cell_type": "code",
   "execution_count": 3,
   "metadata": {
    "colab": {
     "base_uri": "https://localhost:8080/"
    },
    "executionInfo": {
     "elapsed": 14,
     "status": "ok",
     "timestamp": 1660239995330,
     "user": {
      "displayName": "Elizabeth Giancola",
      "userId": "12599460371540732383"
     },
     "user_tz": 240
    },
    "id": "HRGoUmMvV_vI",
    "outputId": "b0520bad-c4b1-437d-e99c-6d6ff5d293b4"
   },
   "outputs": [
    {
     "data": {
      "text/plain": [
       "833822.0"
      ]
     },
     "execution_count": 3,
     "metadata": {},
     "output_type": "execute_result"
    }
   ],
   "source": [
    "pop_df = pd.read_csv(f'{data_path}/processed/counties_merged_FIPS_str.csv')\n",
    "\n",
    "pop_df = pop_df[['population','FIPS', 'County_Name']]\n",
    "pop_df[pop_df['FIPS']==48121]['population'].iloc[0]"
   ]
  },
  {
   "cell_type": "code",
   "execution_count": 4,
   "metadata": {
    "colab": {
     "base_uri": "https://localhost:8080/"
    },
    "executionInfo": {
     "elapsed": 7835,
     "status": "ok",
     "timestamp": 1660240003156,
     "user": {
      "displayName": "Elizabeth Giancola",
      "userId": "12599460371540732383"
     },
     "user_tz": 240
    },
    "id": "1ZIxH0cgV_2o",
    "outputId": "c59c689f-644d-43d0-d86f-66372792e47b"
   },
   "outputs": [
    {
     "name": "stdout",
     "output_type": "stream",
     "text": [
      "done\n"
     ]
    }
   ],
   "source": [
    "\n",
    "\n",
    "# need to get all the crime data into the format\n",
    "# <state>,<county>,<year1>,<year2>,..\n",
    "# and later the fips data\n",
    "\n",
    "# some agencies are split over two counties\n",
    "\n",
    "# I'm going to focus only on 2019 data. We could expand beyond this, but \n",
    "# that's all I've got the energy for now\n",
    "\n",
    "if __name__ == '__main__':\n",
    "    states = ['AL','AK','AZ','AR','CA','CO','CT','DE','FL','GA','HI','ID','IL','IN','IA','KS','KY','LA','ME','MD','MA','MI','MN','MS','MO','MT','NE','NV','NH','NJ','NM','NY','NC','ND','OH','OK','OR','PA','RI','SC','SD','TN','TX','UT','VT','VA','WA','WV','WI','WY']\n",
    "\n",
    "    years = []\n",
    "    for i in range(1985,2021):\n",
    "        years.append(i)\n",
    "\n",
    "    f1 = open(f\"{crime_data}/Crime_Data/state_county_fips.json\")\n",
    "    state_county_fips = json.load(f1)\n",
    "\n",
    "    state_county_crimes = {}\n",
    "\n",
    "    cols = []\n",
    "    cols.append('STATE')\n",
    "    cols.append('COUNTY')\n",
    "    cols.append('FIPS')\n",
    "    [cols.append(y) for y in years]\n",
    "\n",
    "    records = []\n",
    "    df = pd.DataFrame()\n",
    "\n",
    "    for state in states:\n",
    "        f2 = open(f\"{data_path}/raw/crime_data/{state}_ori_violentcrimes.json\")\n",
    "        \n",
    "        df_state = pd.read_json(f\"{data_path}/raw/crime_data/{state}_ori_violentcrimes.json\").T\n",
    "\n",
    "        # \n",
    "\n",
    "        df = pd.concat([df_state, df])\n",
    "\n",
    "\n",
    "    \n",
    "\n",
    "    print('done')"
   ]
  },
  {
   "cell_type": "code",
   "execution_count": 5,
   "metadata": {
    "colab": {
     "base_uri": "https://localhost:8080/"
    },
    "executionInfo": {
     "elapsed": 24,
     "status": "ok",
     "timestamp": 1660240003157,
     "user": {
      "displayName": "Elizabeth Giancola",
      "userId": "12599460371540732383"
     },
     "user_tz": 240
    },
    "id": "ZXiBcKR93hOY",
    "outputId": "c2be6282-4645-4dba-a279-7aef399778be"
   },
   "outputs": [
    {
     "name": "stdout",
     "output_type": "stream",
     "text": [
      "[[2006, 72], [2007, 88], [2008, 92], [2009, 66], [2010, 51], [2011, 82], [2012, 40], [2013, 43], [2014, 74], [2015, 108], [2016, 152], [2017, 120], [2018, 68], [2019, 78], [2020, 95]]\n"
     ]
    }
   ],
   "source": [
    "df[['ori', 'agency_name', 'agency_type_name', 'state_name', 'state_abbr',\n",
    "        'county_name','violent_crime_counts']].sample(20)\n",
    "\n",
    "# df['state_abbr'].value_counts() # number of agencies in each state\n",
    "\n",
    "for x in df[df['agency_name']=='Wind River Agency']['violent_crime_counts']:\n",
    "  print(x)\n",
    "\n"
   ]
  },
  {
   "cell_type": "code",
   "execution_count": 6,
   "metadata": {
    "id": "pBfUrfPqqwwX"
   },
   "outputs": [],
   "source": [
    "df['fips_keys']=''\n",
    "df['population']=''\n",
    "df['2019_crimes']=''\n",
    "df['weighted_vals']=''\n",
    "df['weighted_crimes_2019']=''\n"
   ]
  },
  {
   "cell_type": "code",
   "execution_count": 7,
   "metadata": {
    "colab": {
     "base_uri": "https://localhost:8080/"
    },
    "executionInfo": {
     "elapsed": 154,
     "status": "ok",
     "timestamp": 1660240003293,
     "user": {
      "displayName": "Elizabeth Giancola",
      "userId": "12599460371540732383"
     },
     "user_tz": 240
    },
    "id": "fbMXckoex5BL",
    "outputId": "d5fb9ef0-6a1f-4678-ed4c-47d4c0e5ab79"
   },
   "outputs": [
    {
     "name": "stdout",
     "output_type": "stream",
     "text": [
      "18616\n",
      "18616\n"
     ]
    }
   ],
   "source": [
    "print(len(df))\n",
    "print(len(df[df['county_name'].notnull()]))"
   ]
  },
  {
   "cell_type": "code",
   "execution_count": 8,
   "metadata": {
    "id": "m9dGcbUTYlC4"
   },
   "outputs": [],
   "source": [
    "# print(len(df))\n",
    "# df = df[df['county_name'].notnull()]\n",
    "\n",
    "# for x in df[df['county_name']=='HURON; RICHLAND']['violent_crime_counts']: # this is an agency that reports 2+ counties that no longer reports data\n",
    "#   print(x)"
   ]
  },
  {
   "cell_type": "code",
   "execution_count": 9,
   "metadata": {
    "colab": {
     "base_uri": "https://localhost:8080/",
     "height": 409
    },
    "executionInfo": {
     "elapsed": 3674,
     "status": "ok",
     "timestamp": 1660240006965,
     "user": {
      "displayName": "Elizabeth Giancola",
      "userId": "12599460371540732383"
     },
     "user_tz": 240
    },
    "id": "22nU8ODDtGp3",
    "outputId": "e7eaad64-7f83-41f2-d29f-ec9b484d04d2"
   },
   "outputs": [
    {
     "name": "stdout",
     "output_type": "stream",
     "text": [
      "455\n"
     ]
    },
    {
     "data": {
      "text/html": [
       "<div>\n",
       "<style scoped>\n",
       "    .dataframe tbody tr th:only-of-type {\n",
       "        vertical-align: middle;\n",
       "    }\n",
       "\n",
       "    .dataframe tbody tr th {\n",
       "        vertical-align: top;\n",
       "    }\n",
       "\n",
       "    .dataframe thead th {\n",
       "        text-align: right;\n",
       "    }\n",
       "</style>\n",
       "<table border=\"1\" class=\"dataframe\">\n",
       "  <thead>\n",
       "    <tr style=\"text-align: right;\">\n",
       "      <th></th>\n",
       "      <th>ori</th>\n",
       "      <th>agency_name</th>\n",
       "      <th>agency_type_name</th>\n",
       "      <th>state_name</th>\n",
       "      <th>state_abbr</th>\n",
       "      <th>division_name</th>\n",
       "      <th>region_name</th>\n",
       "      <th>region_desc</th>\n",
       "      <th>county_name</th>\n",
       "      <th>nibrs</th>\n",
       "      <th>latitude</th>\n",
       "      <th>longitude</th>\n",
       "      <th>nibrs_start_date</th>\n",
       "      <th>violent_crime_counts</th>\n",
       "      <th>fips_keys</th>\n",
       "      <th>population</th>\n",
       "      <th>2019_crimes</th>\n",
       "      <th>weighted_vals</th>\n",
       "      <th>weighted_crimes_2019</th>\n",
       "    </tr>\n",
       "  </thead>\n",
       "  <tbody>\n",
       "    <tr>\n",
       "      <th>WY0010000</th>\n",
       "      <td>WY0010000</td>\n",
       "      <td>Albany County Sheriff's Office</td>\n",
       "      <td>County</td>\n",
       "      <td>Wyoming</td>\n",
       "      <td>WY</td>\n",
       "      <td>Mountain</td>\n",
       "      <td>West</td>\n",
       "      <td>Region IV</td>\n",
       "      <td>ALBANY</td>\n",
       "      <td>False</td>\n",
       "      <td>41.31085</td>\n",
       "      <td>-105.59061</td>\n",
       "      <td>None</td>\n",
       "      <td>[[1985, 14], [1986, 20], [1987, 25], [1988, 33...</td>\n",
       "      <td>56001</td>\n",
       "      <td></td>\n",
       "      <td>6</td>\n",
       "      <td></td>\n",
       "      <td></td>\n",
       "    </tr>\n",
       "    <tr>\n",
       "      <th>WY0010100</th>\n",
       "      <td>WY0010100</td>\n",
       "      <td>Laramie Police Department</td>\n",
       "      <td>City</td>\n",
       "      <td>Wyoming</td>\n",
       "      <td>WY</td>\n",
       "      <td>Mountain</td>\n",
       "      <td>West</td>\n",
       "      <td>Region IV</td>\n",
       "      <td>ALBANY</td>\n",
       "      <td>False</td>\n",
       "      <td>41.665514</td>\n",
       "      <td>-105.721883</td>\n",
       "      <td>None</td>\n",
       "      <td>[[1985, 16], [1986, 10], [1987, 32], [1988, 31...</td>\n",
       "      <td>56001</td>\n",
       "      <td></td>\n",
       "      <td>58</td>\n",
       "      <td></td>\n",
       "      <td></td>\n",
       "    </tr>\n",
       "    <tr>\n",
       "      <th>WY0010200</th>\n",
       "      <td>WY0010200</td>\n",
       "      <td>University of Wyoming</td>\n",
       "      <td>University or College</td>\n",
       "      <td>Wyoming</td>\n",
       "      <td>WY</td>\n",
       "      <td>Mountain</td>\n",
       "      <td>West</td>\n",
       "      <td>Region IV</td>\n",
       "      <td>ALBANY</td>\n",
       "      <td>False</td>\n",
       "      <td>41.665514</td>\n",
       "      <td>-105.721883</td>\n",
       "      <td>01/01/2021</td>\n",
       "      <td>[[1985, 3], [1986, 3], [1987, 2], [1988, 4], [...</td>\n",
       "      <td>56001</td>\n",
       "      <td></td>\n",
       "      <td>3</td>\n",
       "      <td></td>\n",
       "      <td></td>\n",
       "    </tr>\n",
       "    <tr>\n",
       "      <th>WY0020000</th>\n",
       "      <td>WY0020000</td>\n",
       "      <td>Big Horn County Sheriff's Office</td>\n",
       "      <td>County</td>\n",
       "      <td>Wyoming</td>\n",
       "      <td>WY</td>\n",
       "      <td>Mountain</td>\n",
       "      <td>West</td>\n",
       "      <td>Region IV</td>\n",
       "      <td>BIG HORN</td>\n",
       "      <td>False</td>\n",
       "      <td>44.525654</td>\n",
       "      <td>-107.99332</td>\n",
       "      <td>None</td>\n",
       "      <td>[[1985, 1], [1986, 2], [1987, 8], [1988, 8], [...</td>\n",
       "      <td>56003</td>\n",
       "      <td></td>\n",
       "      <td>3</td>\n",
       "      <td></td>\n",
       "      <td></td>\n",
       "    </tr>\n",
       "    <tr>\n",
       "      <th>WY0020100</th>\n",
       "      <td>WY0020100</td>\n",
       "      <td>Basin Police Department</td>\n",
       "      <td>City</td>\n",
       "      <td>Wyoming</td>\n",
       "      <td>WY</td>\n",
       "      <td>Mountain</td>\n",
       "      <td>West</td>\n",
       "      <td>Region IV</td>\n",
       "      <td>BIG HORN</td>\n",
       "      <td>False</td>\n",
       "      <td>44.525654</td>\n",
       "      <td>-107.99332</td>\n",
       "      <td>None</td>\n",
       "      <td>[[1985, 1], [1986, 0], [1987, 5], [1988, 7], [...</td>\n",
       "      <td>56003</td>\n",
       "      <td></td>\n",
       "      <td></td>\n",
       "      <td></td>\n",
       "      <td></td>\n",
       "    </tr>\n",
       "  </tbody>\n",
       "</table>\n",
       "</div>"
      ],
      "text/plain": [
       "                 ori                       agency_name       agency_type_name  \\\n",
       "WY0010000  WY0010000    Albany County Sheriff's Office                 County   \n",
       "WY0010100  WY0010100         Laramie Police Department                   City   \n",
       "WY0010200  WY0010200             University of Wyoming  University or College   \n",
       "WY0020000  WY0020000  Big Horn County Sheriff's Office                 County   \n",
       "WY0020100  WY0020100           Basin Police Department                   City   \n",
       "\n",
       "          state_name state_abbr division_name region_name region_desc  \\\n",
       "WY0010000    Wyoming         WY      Mountain        West   Region IV   \n",
       "WY0010100    Wyoming         WY      Mountain        West   Region IV   \n",
       "WY0010200    Wyoming         WY      Mountain        West   Region IV   \n",
       "WY0020000    Wyoming         WY      Mountain        West   Region IV   \n",
       "WY0020100    Wyoming         WY      Mountain        West   Region IV   \n",
       "\n",
       "          county_name  nibrs   latitude   longitude nibrs_start_date  \\\n",
       "WY0010000      ALBANY  False   41.31085  -105.59061             None   \n",
       "WY0010100      ALBANY  False  41.665514 -105.721883             None   \n",
       "WY0010200      ALBANY  False  41.665514 -105.721883       01/01/2021   \n",
       "WY0020000    BIG HORN  False  44.525654  -107.99332             None   \n",
       "WY0020100    BIG HORN  False  44.525654  -107.99332             None   \n",
       "\n",
       "                                        violent_crime_counts fips_keys  \\\n",
       "WY0010000  [[1985, 14], [1986, 20], [1987, 25], [1988, 33...     56001   \n",
       "WY0010100  [[1985, 16], [1986, 10], [1987, 32], [1988, 31...     56001   \n",
       "WY0010200  [[1985, 3], [1986, 3], [1987, 2], [1988, 4], [...     56001   \n",
       "WY0020000  [[1985, 1], [1986, 2], [1987, 8], [1988, 8], [...     56003   \n",
       "WY0020100  [[1985, 1], [1986, 0], [1987, 5], [1988, 7], [...     56003   \n",
       "\n",
       "          population 2019_crimes weighted_vals weighted_crimes_2019  \n",
       "WY0010000                      6                                     \n",
       "WY0010100                     58                                     \n",
       "WY0010200                      3                                     \n",
       "WY0020000                      3                                     \n",
       "WY0020100                                                            "
      ]
     },
     "execution_count": 9,
     "metadata": {},
     "output_type": "execute_result"
    }
   ],
   "source": [
    "count_len_greater_1_no_2019_data = 0  # should be about 52\n",
    "count_len_greater_1_with_2019_data = 0 #576 \n",
    "total = 0\n",
    "\n",
    "for ind, row in df.iterrows():\n",
    "  counties = (row['county_name'].split(';'))\n",
    "  for val in row['violent_crime_counts']: # get number of 2019 crimes\n",
    "    if val[0] ==2019:\n",
    "      row['2019_crimes'] = (val[1])\n",
    "  if len(counties) > 1: # only look at agencies that report to more than one county\n",
    "      values = []\n",
    "      for county in counties: \n",
    "        fips_key = (row['state_abbr']+ '-' + county.strip())\n",
    "        if fips_key in list(state_county_fips.keys()):\n",
    "                values.append(state_county_fips[fips_key])\n",
    "      row['fips_keys'] = values\n",
    "      \n",
    "      pop = []\n",
    "\n",
    "      for fips_key in row['fips_keys']: \n",
    "        if len(fips_key) > 1:\n",
    "          fips_key = int(fips_key)\n",
    "          pop.append(pop_df[pop_df['FIPS']==fips_key]['population'].iloc[0])\n",
    "      row['population'] = pop\n",
    "      weighted_crimes = []\n",
    "\n",
    "      for num in range(len(row['population'])):\n",
    "        try:    \n",
    "          weighted_crimes.append(row['population'][num]*row['2019_crimes']/sum(row['population']))\n",
    "          count_len_greater_1_with_2019_data += (1/ len(row['population']))\n",
    "        except:\n",
    "          weighted_crimes.append(0)\n",
    "          count_len_greater_1_no_2019_data += (1/ len(row['population'])) # add one to number of agencies with no 2019 data\n",
    "\n",
    "      row['weighted_crimes_2019']=weighted_crimes\n",
    "  else:\n",
    "    for county in counties: \n",
    "      fips_key = (df['state_abbr'][ind] + '-' + county.strip())\n",
    "\n",
    "      try:\n",
    "        row['fips_keys'] = state_county_fips[fips_key]\n",
    "      except:\n",
    "        total +=1\n",
    "print(total)\n",
    "    \n",
    "\n",
    "  \n",
    "df.head()"
   ]
  },
  {
   "cell_type": "code",
   "execution_count": 10,
   "metadata": {
    "colab": {
     "base_uri": "https://localhost:8080/"
    },
    "executionInfo": {
     "elapsed": 21,
     "status": "ok",
     "timestamp": 1660240006966,
     "user": {
      "displayName": "Elizabeth Giancola",
      "userId": "12599460371540732383"
     },
     "user_tz": 240
    },
    "id": "_DBCt2lT_89N",
    "outputId": "ea463efe-263f-4453-b3cd-a86b95163069"
   },
   "outputs": [
    {
     "data": {
      "text/plain": [
       "1186666.0"
      ]
     },
     "execution_count": 10,
     "metadata": {},
     "output_type": "execute_result"
    }
   ],
   "source": [
    "pd.to_numeric(df['2019_crimes']).sum()"
   ]
  },
  {
   "cell_type": "code",
   "execution_count": 11,
   "metadata": {
    "colab": {
     "base_uri": "https://localhost:8080/"
    },
    "executionInfo": {
     "elapsed": 17,
     "status": "ok",
     "timestamp": 1660240006966,
     "user": {
      "displayName": "Elizabeth Giancola",
      "userId": "12599460371540732383"
     },
     "user_tz": 240
    },
    "id": "4sTnm8nJ0g1T",
    "outputId": "9bd901be-31a1-4ae5-fe87-8d5478879cd3"
   },
   "outputs": [
    {
     "data": {
      "text/plain": [
       "7575.0"
      ]
     },
     "execution_count": 11,
     "metadata": {},
     "output_type": "execute_result"
    }
   ],
   "source": [
    "# retrieve the number of violent crimes reported to tribal agencies. \n",
    "pd.to_numeric(df[df['agency_type_name']=='Tribal']['2019_crimes']).sum()\n"
   ]
  },
  {
   "cell_type": "code",
   "execution_count": 12,
   "metadata": {
    "colab": {
     "base_uri": "https://localhost:8080/"
    },
    "executionInfo": {
     "elapsed": 218,
     "status": "ok",
     "timestamp": 1660240007169,
     "user": {
      "displayName": "Elizabeth Giancola",
      "userId": "12599460371540732383"
     },
     "user_tz": 240
    },
    "id": "S8P_IXbe8vyc",
    "outputId": "af9ff073-b38a-4f3f-a3b0-2b2510b9cd12"
   },
   "outputs": [
    {
     "data": {
      "text/plain": [
       "52772.0"
      ]
     },
     "execution_count": 12,
     "metadata": {},
     "output_type": "execute_result"
    }
   ],
   "source": [
    "df = df[df['agency_type_name']!='Tribal'] # exclude tribal agencies from here on out\n",
    "\n",
    "pd.to_numeric(df[df['county_name']=='']['2019_crimes']).sum() # number of violent crimes for other excluded data"
   ]
  },
  {
   "cell_type": "code",
   "execution_count": 13,
   "metadata": {
    "colab": {
     "base_uri": "https://localhost:8080/"
    },
    "executionInfo": {
     "elapsed": 10,
     "status": "ok",
     "timestamp": 1660240007170,
     "user": {
      "displayName": "Elizabeth Giancola",
      "userId": "12599460371540732383"
     },
     "user_tz": 240
    },
    "id": "uvl1K89U-nJF",
    "outputId": "3f5bf9a9-a291-49a0-cd47-9a425caaf51e"
   },
   "outputs": [
    {
     "data": {
      "text/plain": [
       "State Police             138\n",
       "Other State Agency        78\n",
       "University or College     20\n",
       "Other                      8\n",
       "City                       2\n",
       "Name: agency_type_name, dtype: int64"
      ]
     },
     "execution_count": 13,
     "metadata": {},
     "output_type": "execute_result"
    }
   ],
   "source": [
    "df[df['county_name']=='']['agency_type_name'].value_counts() # which agency types don't have any data?"
   ]
  },
  {
   "cell_type": "code",
   "execution_count": 14,
   "metadata": {
    "colab": {
     "base_uri": "https://localhost:8080/"
    },
    "executionInfo": {
     "elapsed": 7,
     "status": "ok",
     "timestamp": 1660240007171,
     "user": {
      "displayName": "Elizabeth Giancola",
      "userId": "12599460371540732383"
     },
     "user_tz": 240
    },
    "id": "LbzfE_LD_IiY",
    "outputId": "53a2d438-feb0-4c41-a1e0-d7b44b07f078"
   },
   "outputs": [
    {
     "data": {
      "text/plain": [
       "1126319.0"
      ]
     },
     "execution_count": 14,
     "metadata": {},
     "output_type": "execute_result"
    }
   ],
   "source": [
    "pd.to_numeric(df[df['county_name']!='']['2019_crimes']).sum()"
   ]
  },
  {
   "cell_type": "code",
   "execution_count": 15,
   "metadata": {
    "id": "L_VIlj3txxWG"
   },
   "outputs": [],
   "source": [
    "import numpy as np\n",
    "df['county_name']=df['county_name'].str.split(';')\n",
    "df = df.replace(r'^\\s*$', np.nan, regex=True) # make missing values nan\n",
    "df2 = df.loc[df['population'].notnull()]\n"
   ]
  },
  {
   "cell_type": "code",
   "execution_count": 16,
   "metadata": {
    "colab": {
     "base_uri": "https://localhost:8080/",
     "height": 179
    },
    "executionInfo": {
     "elapsed": 482,
     "status": "ok",
     "timestamp": 1660241082153,
     "user": {
      "displayName": "Elizabeth Giancola",
      "userId": "12599460371540732383"
     },
     "user_tz": 240
    },
    "id": "-Agv4K38SGmJ",
    "outputId": "96db5931-b6fd-424d-9733-cd8c39c82618"
   },
   "outputs": [
    {
     "data": {
      "text/html": [
       "<div>\n",
       "<style scoped>\n",
       "    .dataframe tbody tr th:only-of-type {\n",
       "        vertical-align: middle;\n",
       "    }\n",
       "\n",
       "    .dataframe tbody tr th {\n",
       "        vertical-align: top;\n",
       "    }\n",
       "\n",
       "    .dataframe thead th {\n",
       "        text-align: right;\n",
       "    }\n",
       "</style>\n",
       "<table border=\"1\" class=\"dataframe\">\n",
       "  <thead>\n",
       "    <tr style=\"text-align: right;\">\n",
       "      <th></th>\n",
       "      <th>ori</th>\n",
       "      <th>agency_name</th>\n",
       "      <th>agency_type_name</th>\n",
       "      <th>state_name</th>\n",
       "      <th>state_abbr</th>\n",
       "      <th>division_name</th>\n",
       "      <th>region_name</th>\n",
       "      <th>region_desc</th>\n",
       "      <th>county_name</th>\n",
       "      <th>nibrs</th>\n",
       "      <th>latitude</th>\n",
       "      <th>longitude</th>\n",
       "      <th>nibrs_start_date</th>\n",
       "      <th>violent_crime_counts</th>\n",
       "      <th>fips_keys</th>\n",
       "      <th>population</th>\n",
       "      <th>2019_crimes</th>\n",
       "      <th>weighted_vals</th>\n",
       "      <th>weighted_crimes_2019</th>\n",
       "    </tr>\n",
       "  </thead>\n",
       "  <tbody>\n",
       "    <tr>\n",
       "      <th>WY0010000</th>\n",
       "      <td>WY0010000</td>\n",
       "      <td>Albany County Sheriff's Office</td>\n",
       "      <td>County</td>\n",
       "      <td>Wyoming</td>\n",
       "      <td>WY</td>\n",
       "      <td>Mountain</td>\n",
       "      <td>West</td>\n",
       "      <td>Region IV</td>\n",
       "      <td>[ALBANY]</td>\n",
       "      <td>False</td>\n",
       "      <td>41.310850</td>\n",
       "      <td>-105.590610</td>\n",
       "      <td>None</td>\n",
       "      <td>[[1985, 14], [1986, 20], [1987, 25], [1988, 33...</td>\n",
       "      <td>56001</td>\n",
       "      <td>NaN</td>\n",
       "      <td>6.0</td>\n",
       "      <td>NaN</td>\n",
       "      <td>NaN</td>\n",
       "    </tr>\n",
       "    <tr>\n",
       "      <th>WY0010100</th>\n",
       "      <td>WY0010100</td>\n",
       "      <td>Laramie Police Department</td>\n",
       "      <td>City</td>\n",
       "      <td>Wyoming</td>\n",
       "      <td>WY</td>\n",
       "      <td>Mountain</td>\n",
       "      <td>West</td>\n",
       "      <td>Region IV</td>\n",
       "      <td>[ALBANY]</td>\n",
       "      <td>False</td>\n",
       "      <td>41.665514</td>\n",
       "      <td>-105.721883</td>\n",
       "      <td>None</td>\n",
       "      <td>[[1985, 16], [1986, 10], [1987, 32], [1988, 31...</td>\n",
       "      <td>56001</td>\n",
       "      <td>NaN</td>\n",
       "      <td>58.0</td>\n",
       "      <td>NaN</td>\n",
       "      <td>NaN</td>\n",
       "    </tr>\n",
       "    <tr>\n",
       "      <th>WY0010200</th>\n",
       "      <td>WY0010200</td>\n",
       "      <td>University of Wyoming</td>\n",
       "      <td>University or College</td>\n",
       "      <td>Wyoming</td>\n",
       "      <td>WY</td>\n",
       "      <td>Mountain</td>\n",
       "      <td>West</td>\n",
       "      <td>Region IV</td>\n",
       "      <td>[ALBANY]</td>\n",
       "      <td>False</td>\n",
       "      <td>41.665514</td>\n",
       "      <td>-105.721883</td>\n",
       "      <td>01/01/2021</td>\n",
       "      <td>[[1985, 3], [1986, 3], [1987, 2], [1988, 4], [...</td>\n",
       "      <td>56001</td>\n",
       "      <td>NaN</td>\n",
       "      <td>3.0</td>\n",
       "      <td>NaN</td>\n",
       "      <td>NaN</td>\n",
       "    </tr>\n",
       "    <tr>\n",
       "      <th>WY0020000</th>\n",
       "      <td>WY0020000</td>\n",
       "      <td>Big Horn County Sheriff's Office</td>\n",
       "      <td>County</td>\n",
       "      <td>Wyoming</td>\n",
       "      <td>WY</td>\n",
       "      <td>Mountain</td>\n",
       "      <td>West</td>\n",
       "      <td>Region IV</td>\n",
       "      <td>[BIG HORN]</td>\n",
       "      <td>False</td>\n",
       "      <td>44.525654</td>\n",
       "      <td>-107.993320</td>\n",
       "      <td>None</td>\n",
       "      <td>[[1985, 1], [1986, 2], [1987, 8], [1988, 8], [...</td>\n",
       "      <td>56003</td>\n",
       "      <td>NaN</td>\n",
       "      <td>3.0</td>\n",
       "      <td>NaN</td>\n",
       "      <td>NaN</td>\n",
       "    </tr>\n",
       "    <tr>\n",
       "      <th>WY0020100</th>\n",
       "      <td>WY0020100</td>\n",
       "      <td>Basin Police Department</td>\n",
       "      <td>City</td>\n",
       "      <td>Wyoming</td>\n",
       "      <td>WY</td>\n",
       "      <td>Mountain</td>\n",
       "      <td>West</td>\n",
       "      <td>Region IV</td>\n",
       "      <td>[BIG HORN]</td>\n",
       "      <td>False</td>\n",
       "      <td>44.525654</td>\n",
       "      <td>-107.993320</td>\n",
       "      <td>None</td>\n",
       "      <td>[[1985, 1], [1986, 0], [1987, 5], [1988, 7], [...</td>\n",
       "      <td>56003</td>\n",
       "      <td>NaN</td>\n",
       "      <td>NaN</td>\n",
       "      <td>NaN</td>\n",
       "      <td>NaN</td>\n",
       "    </tr>\n",
       "    <tr>\n",
       "      <th>...</th>\n",
       "      <td>...</td>\n",
       "      <td>...</td>\n",
       "      <td>...</td>\n",
       "      <td>...</td>\n",
       "      <td>...</td>\n",
       "      <td>...</td>\n",
       "      <td>...</td>\n",
       "      <td>...</td>\n",
       "      <td>...</td>\n",
       "      <td>...</td>\n",
       "      <td>...</td>\n",
       "      <td>...</td>\n",
       "      <td>...</td>\n",
       "      <td>...</td>\n",
       "      <td>...</td>\n",
       "      <td>...</td>\n",
       "      <td>...</td>\n",
       "      <td>...</td>\n",
       "      <td>...</td>\n",
       "    </tr>\n",
       "    <tr>\n",
       "      <th>AL0670100</th>\n",
       "      <td>AL0670100</td>\n",
       "      <td>Double Springs Police Department</td>\n",
       "      <td>City</td>\n",
       "      <td>Alabama</td>\n",
       "      <td>AL</td>\n",
       "      <td>East South Central</td>\n",
       "      <td>South</td>\n",
       "      <td>Region III</td>\n",
       "      <td>[WINSTON]</td>\n",
       "      <td>True</td>\n",
       "      <td>34.155888</td>\n",
       "      <td>-87.364147</td>\n",
       "      <td>01/01/2020</td>\n",
       "      <td>[[2005, 4], [2006, 4], [2007, 4], [2008, 7], [...</td>\n",
       "      <td>01133</td>\n",
       "      <td>NaN</td>\n",
       "      <td>1.0</td>\n",
       "      <td>NaN</td>\n",
       "      <td>NaN</td>\n",
       "    </tr>\n",
       "    <tr>\n",
       "      <th>AL0670300</th>\n",
       "      <td>AL0670300</td>\n",
       "      <td>Addison Police Department</td>\n",
       "      <td>City</td>\n",
       "      <td>Alabama</td>\n",
       "      <td>AL</td>\n",
       "      <td>East South Central</td>\n",
       "      <td>South</td>\n",
       "      <td>Region III</td>\n",
       "      <td>[WINSTON]</td>\n",
       "      <td>False</td>\n",
       "      <td>34.155888</td>\n",
       "      <td>-87.364147</td>\n",
       "      <td>01/01/2020</td>\n",
       "      <td>[[1986, 0], [1994, 1], [2007, 4], [2008, 5], [...</td>\n",
       "      <td>01133</td>\n",
       "      <td>NaN</td>\n",
       "      <td>2.0</td>\n",
       "      <td>NaN</td>\n",
       "      <td>NaN</td>\n",
       "    </tr>\n",
       "    <tr>\n",
       "      <th>AL0670400</th>\n",
       "      <td>AL0670400</td>\n",
       "      <td>Arley Police Department</td>\n",
       "      <td>City</td>\n",
       "      <td>Alabama</td>\n",
       "      <td>AL</td>\n",
       "      <td>East South Central</td>\n",
       "      <td>South</td>\n",
       "      <td>Region III</td>\n",
       "      <td>[WINSTON]</td>\n",
       "      <td>True</td>\n",
       "      <td>34.155888</td>\n",
       "      <td>-87.364147</td>\n",
       "      <td>01/01/2020</td>\n",
       "      <td>[[2010, 0], [2011, 1], [2012, 2], [2013, 3], [...</td>\n",
       "      <td>01133</td>\n",
       "      <td>NaN</td>\n",
       "      <td>3.0</td>\n",
       "      <td>NaN</td>\n",
       "      <td>NaN</td>\n",
       "    </tr>\n",
       "    <tr>\n",
       "      <th>AL0670500</th>\n",
       "      <td>AL0670500</td>\n",
       "      <td>Lynn Police Department</td>\n",
       "      <td>City</td>\n",
       "      <td>Alabama</td>\n",
       "      <td>AL</td>\n",
       "      <td>East South Central</td>\n",
       "      <td>South</td>\n",
       "      <td>Region III</td>\n",
       "      <td>[WINSTON]</td>\n",
       "      <td>True</td>\n",
       "      <td>34.155888</td>\n",
       "      <td>-87.364147</td>\n",
       "      <td>01/01/2020</td>\n",
       "      <td>[[2004, 2], [2008, 0], [2009, 0], [2010, 0], [...</td>\n",
       "      <td>01133</td>\n",
       "      <td>NaN</td>\n",
       "      <td>0.0</td>\n",
       "      <td>NaN</td>\n",
       "      <td>NaN</td>\n",
       "    </tr>\n",
       "    <tr>\n",
       "      <th>ALLEA0000</th>\n",
       "      <td>ALLEA0000</td>\n",
       "      <td>Alabama Law Enforcement Agency</td>\n",
       "      <td>Other State Agency</td>\n",
       "      <td>Alabama</td>\n",
       "      <td>AL</td>\n",
       "      <td>East South Central</td>\n",
       "      <td>South</td>\n",
       "      <td>Region III</td>\n",
       "      <td>[]</td>\n",
       "      <td>False</td>\n",
       "      <td>NaN</td>\n",
       "      <td>NaN</td>\n",
       "      <td>None</td>\n",
       "      <td>[[2020, 18]]</td>\n",
       "      <td>NaN</td>\n",
       "      <td>NaN</td>\n",
       "      <td>NaN</td>\n",
       "      <td>NaN</td>\n",
       "      <td>NaN</td>\n",
       "    </tr>\n",
       "  </tbody>\n",
       "</table>\n",
       "<p>17779 rows × 19 columns</p>\n",
       "</div>"
      ],
      "text/plain": [
       "                 ori                       agency_name       agency_type_name  \\\n",
       "WY0010000  WY0010000    Albany County Sheriff's Office                 County   \n",
       "WY0010100  WY0010100         Laramie Police Department                   City   \n",
       "WY0010200  WY0010200             University of Wyoming  University or College   \n",
       "WY0020000  WY0020000  Big Horn County Sheriff's Office                 County   \n",
       "WY0020100  WY0020100           Basin Police Department                   City   \n",
       "...              ...                               ...                    ...   \n",
       "AL0670100  AL0670100  Double Springs Police Department                   City   \n",
       "AL0670300  AL0670300         Addison Police Department                   City   \n",
       "AL0670400  AL0670400           Arley Police Department                   City   \n",
       "AL0670500  AL0670500            Lynn Police Department                   City   \n",
       "ALLEA0000  ALLEA0000    Alabama Law Enforcement Agency     Other State Agency   \n",
       "\n",
       "          state_name state_abbr       division_name region_name region_desc  \\\n",
       "WY0010000    Wyoming         WY            Mountain        West   Region IV   \n",
       "WY0010100    Wyoming         WY            Mountain        West   Region IV   \n",
       "WY0010200    Wyoming         WY            Mountain        West   Region IV   \n",
       "WY0020000    Wyoming         WY            Mountain        West   Region IV   \n",
       "WY0020100    Wyoming         WY            Mountain        West   Region IV   \n",
       "...              ...        ...                 ...         ...         ...   \n",
       "AL0670100    Alabama         AL  East South Central       South  Region III   \n",
       "AL0670300    Alabama         AL  East South Central       South  Region III   \n",
       "AL0670400    Alabama         AL  East South Central       South  Region III   \n",
       "AL0670500    Alabama         AL  East South Central       South  Region III   \n",
       "ALLEA0000    Alabama         AL  East South Central       South  Region III   \n",
       "\n",
       "          county_name  nibrs   latitude   longitude nibrs_start_date  \\\n",
       "WY0010000    [ALBANY]  False  41.310850 -105.590610             None   \n",
       "WY0010100    [ALBANY]  False  41.665514 -105.721883             None   \n",
       "WY0010200    [ALBANY]  False  41.665514 -105.721883       01/01/2021   \n",
       "WY0020000  [BIG HORN]  False  44.525654 -107.993320             None   \n",
       "WY0020100  [BIG HORN]  False  44.525654 -107.993320             None   \n",
       "...               ...    ...        ...         ...              ...   \n",
       "AL0670100   [WINSTON]   True  34.155888  -87.364147       01/01/2020   \n",
       "AL0670300   [WINSTON]  False  34.155888  -87.364147       01/01/2020   \n",
       "AL0670400   [WINSTON]   True  34.155888  -87.364147       01/01/2020   \n",
       "AL0670500   [WINSTON]   True  34.155888  -87.364147       01/01/2020   \n",
       "ALLEA0000          []  False        NaN         NaN             None   \n",
       "\n",
       "                                        violent_crime_counts fips_keys  \\\n",
       "WY0010000  [[1985, 14], [1986, 20], [1987, 25], [1988, 33...     56001   \n",
       "WY0010100  [[1985, 16], [1986, 10], [1987, 32], [1988, 31...     56001   \n",
       "WY0010200  [[1985, 3], [1986, 3], [1987, 2], [1988, 4], [...     56001   \n",
       "WY0020000  [[1985, 1], [1986, 2], [1987, 8], [1988, 8], [...     56003   \n",
       "WY0020100  [[1985, 1], [1986, 0], [1987, 5], [1988, 7], [...     56003   \n",
       "...                                                      ...       ...   \n",
       "AL0670100  [[2005, 4], [2006, 4], [2007, 4], [2008, 7], [...     01133   \n",
       "AL0670300  [[1986, 0], [1994, 1], [2007, 4], [2008, 5], [...     01133   \n",
       "AL0670400  [[2010, 0], [2011, 1], [2012, 2], [2013, 3], [...     01133   \n",
       "AL0670500  [[2004, 2], [2008, 0], [2009, 0], [2010, 0], [...     01133   \n",
       "ALLEA0000                                       [[2020, 18]]       NaN   \n",
       "\n",
       "          population  2019_crimes  weighted_vals weighted_crimes_2019  \n",
       "WY0010000        NaN          6.0            NaN                  NaN  \n",
       "WY0010100        NaN         58.0            NaN                  NaN  \n",
       "WY0010200        NaN          3.0            NaN                  NaN  \n",
       "WY0020000        NaN          3.0            NaN                  NaN  \n",
       "WY0020100        NaN          NaN            NaN                  NaN  \n",
       "...              ...          ...            ...                  ...  \n",
       "AL0670100        NaN          1.0            NaN                  NaN  \n",
       "AL0670300        NaN          2.0            NaN                  NaN  \n",
       "AL0670400        NaN          3.0            NaN                  NaN  \n",
       "AL0670500        NaN          0.0            NaN                  NaN  \n",
       "ALLEA0000        NaN          NaN            NaN                  NaN  \n",
       "\n",
       "[17779 rows x 19 columns]"
      ]
     },
     "execution_count": 16,
     "metadata": {},
     "output_type": "execute_result"
    }
   ],
   "source": [
    "df[df['population'].isnull()] # this is the number of counties with only one county (or no counties) associated with the data\n",
    "\n",
    "\n",
    "\n",
    "# 'Lytle Police Department', \n",
    "# Medina County Sheriff's Office\n",
    "# ['MEDINA']\n",
    "# Castroville Police Department\n",
    "# ['MEDINA']\n",
    "# Devine Police Department\n",
    "# ['MEDINA']\n",
    "# Hondo Police Department\n",
    "# ['MEDINA']\n",
    "# Lacoste Police Department\n",
    "# ['MEDINA']\n",
    "# Natalia\n",
    "# ['MEDINA', ' BEXAR']\n",
    "# San Antonio Police Department\n",
    "\n",
    "\n",
    "\n",
    "\n",
    "\n"
   ]
  },
  {
   "cell_type": "code",
   "execution_count": 17,
   "metadata": {
    "colab": {
     "base_uri": "https://localhost:8080/"
    },
    "executionInfo": {
     "elapsed": 9,
     "status": "ok",
     "timestamp": 1660240007868,
     "user": {
      "displayName": "Elizabeth Giancola",
      "userId": "12599460371540732383"
     },
     "user_tz": 240
    },
    "id": "xGnh1LIoOSTh",
    "outputId": "7e05e252-26c8-49de-e886-bac698577601"
   },
   "outputs": [],
   "source": [
    "single_county_df = df.loc[df['population'].isnull()]\n",
    "\n",
    "single_county_df['final_2019_crimes'] = pd.to_numeric(single_county_df['2019_crimes'])\n",
    "\n"
   ]
  },
  {
   "cell_type": "code",
   "execution_count": null,
   "metadata": {
    "id": "nFqvSPDA2EzT"
   },
   "outputs": [],
   "source": []
  },
  {
   "cell_type": "code",
   "execution_count": 18,
   "metadata": {
    "colab": {
     "base_uri": "https://localhost:8080/",
     "height": 392
    },
    "executionInfo": {
     "elapsed": 226,
     "status": "ok",
     "timestamp": 1660240008089,
     "user": {
      "displayName": "Elizabeth Giancola",
      "userId": "12599460371540732383"
     },
     "user_tz": 240
    },
    "id": "UFob6lh4NFZR",
    "outputId": "7170b85c-7973-4a97-e88f-ffda2dd15878"
   },
   "outputs": [
    {
     "data": {
      "text/html": [
       "<div>\n",
       "<style scoped>\n",
       "    .dataframe tbody tr th:only-of-type {\n",
       "        vertical-align: middle;\n",
       "    }\n",
       "\n",
       "    .dataframe tbody tr th {\n",
       "        vertical-align: top;\n",
       "    }\n",
       "\n",
       "    .dataframe thead th {\n",
       "        text-align: right;\n",
       "    }\n",
       "</style>\n",
       "<table border=\"1\" class=\"dataframe\">\n",
       "  <thead>\n",
       "    <tr style=\"text-align: right;\">\n",
       "      <th></th>\n",
       "      <th>ori</th>\n",
       "      <th>agency_name</th>\n",
       "      <th>agency_type_name</th>\n",
       "      <th>state_name</th>\n",
       "      <th>state_abbr</th>\n",
       "      <th>division_name</th>\n",
       "      <th>region_name</th>\n",
       "      <th>region_desc</th>\n",
       "      <th>county_name</th>\n",
       "      <th>nibrs</th>\n",
       "      <th>latitude</th>\n",
       "      <th>longitude</th>\n",
       "      <th>nibrs_start_date</th>\n",
       "      <th>violent_crime_counts</th>\n",
       "      <th>fips_keys</th>\n",
       "      <th>population</th>\n",
       "      <th>2019_crimes</th>\n",
       "      <th>weighted_vals</th>\n",
       "      <th>weighted_crimes_2019</th>\n",
       "      <th>final_2019_crimes</th>\n",
       "    </tr>\n",
       "  </thead>\n",
       "  <tbody>\n",
       "    <tr>\n",
       "      <th>WI0050300</th>\n",
       "      <td>WI0050300</td>\n",
       "      <td>Pulaski Police Department</td>\n",
       "      <td>City</td>\n",
       "      <td>Wisconsin</td>\n",
       "      <td>WI</td>\n",
       "      <td>East North Central</td>\n",
       "      <td>Midwest</td>\n",
       "      <td>Region II</td>\n",
       "      <td>SHAWANO</td>\n",
       "      <td>False</td>\n",
       "      <td>44.473961</td>\n",
       "      <td>-87.995926</td>\n",
       "      <td>None</td>\n",
       "      <td>[[1990, 3], [1991, 3], [1992, 3], [1993, 1], [...</td>\n",
       "      <td>55115</td>\n",
       "      <td>40904.0</td>\n",
       "      <td>8.0</td>\n",
       "      <td>NaN</td>\n",
       "      <td>1.082575</td>\n",
       "      <td>1.082575</td>\n",
       "    </tr>\n",
       "    <tr>\n",
       "      <th>WI0050300</th>\n",
       "      <td>WI0050300</td>\n",
       "      <td>Pulaski Police Department</td>\n",
       "      <td>City</td>\n",
       "      <td>Wisconsin</td>\n",
       "      <td>WI</td>\n",
       "      <td>East North Central</td>\n",
       "      <td>Midwest</td>\n",
       "      <td>Region II</td>\n",
       "      <td>BROWN</td>\n",
       "      <td>False</td>\n",
       "      <td>44.473961</td>\n",
       "      <td>-87.995926</td>\n",
       "      <td>None</td>\n",
       "      <td>[[1990, 3], [1991, 3], [1992, 3], [1993, 1], [...</td>\n",
       "      <td>55009</td>\n",
       "      <td>261368.0</td>\n",
       "      <td>8.0</td>\n",
       "      <td>NaN</td>\n",
       "      <td>6.917425</td>\n",
       "      <td>6.917425</td>\n",
       "    </tr>\n",
       "    <tr>\n",
       "      <th>WI0090400</th>\n",
       "      <td>WI0090400</td>\n",
       "      <td>Stanley Police Department</td>\n",
       "      <td>City</td>\n",
       "      <td>Wisconsin</td>\n",
       "      <td>WI</td>\n",
       "      <td>East North Central</td>\n",
       "      <td>Midwest</td>\n",
       "      <td>Region II</td>\n",
       "      <td>CLARK</td>\n",
       "      <td>True</td>\n",
       "      <td>45.069092</td>\n",
       "      <td>-91.283505</td>\n",
       "      <td>01/01/2019</td>\n",
       "      <td>[[1985, 1], [1986, 3], [1987, 2], [1988, 6], [...</td>\n",
       "      <td>55019</td>\n",
       "      <td>34579.0</td>\n",
       "      <td>5.0</td>\n",
       "      <td>NaN</td>\n",
       "      <td>1.755796</td>\n",
       "      <td>1.755796</td>\n",
       "    </tr>\n",
       "    <tr>\n",
       "      <th>WI0090400</th>\n",
       "      <td>WI0090400</td>\n",
       "      <td>Stanley Police Department</td>\n",
       "      <td>City</td>\n",
       "      <td>Wisconsin</td>\n",
       "      <td>WI</td>\n",
       "      <td>East North Central</td>\n",
       "      <td>Midwest</td>\n",
       "      <td>Region II</td>\n",
       "      <td>CHIPPEWA</td>\n",
       "      <td>True</td>\n",
       "      <td>45.069092</td>\n",
       "      <td>-91.283505</td>\n",
       "      <td>01/01/2019</td>\n",
       "      <td>[[1985, 1], [1986, 3], [1987, 2], [1988, 6], [...</td>\n",
       "      <td>55017</td>\n",
       "      <td>63892.0</td>\n",
       "      <td>5.0</td>\n",
       "      <td>NaN</td>\n",
       "      <td>3.244204</td>\n",
       "      <td>3.244204</td>\n",
       "    </tr>\n",
       "    <tr>\n",
       "      <th>WI0100400</th>\n",
       "      <td>WI0100400</td>\n",
       "      <td>Colby-Abbotsford Police Department</td>\n",
       "      <td>City</td>\n",
       "      <td>Wisconsin</td>\n",
       "      <td>WI</td>\n",
       "      <td>East North Central</td>\n",
       "      <td>Midwest</td>\n",
       "      <td>Region II</td>\n",
       "      <td>MARATHON</td>\n",
       "      <td>False</td>\n",
       "      <td>44.733596</td>\n",
       "      <td>-90.610201</td>\n",
       "      <td>None</td>\n",
       "      <td>[[1996, 2], [1997, 10], [1999, 2], [2000, 7], ...</td>\n",
       "      <td>55073</td>\n",
       "      <td>135396.0</td>\n",
       "      <td>2.0</td>\n",
       "      <td>NaN</td>\n",
       "      <td>1.593128</td>\n",
       "      <td>1.593128</td>\n",
       "    </tr>\n",
       "  </tbody>\n",
       "</table>\n",
       "</div>"
      ],
      "text/plain": [
       "                 ori                         agency_name agency_type_name  \\\n",
       "WI0050300  WI0050300           Pulaski Police Department             City   \n",
       "WI0050300  WI0050300           Pulaski Police Department             City   \n",
       "WI0090400  WI0090400           Stanley Police Department             City   \n",
       "WI0090400  WI0090400           Stanley Police Department             City   \n",
       "WI0100400  WI0100400  Colby-Abbotsford Police Department             City   \n",
       "\n",
       "          state_name state_abbr       division_name region_name region_desc  \\\n",
       "WI0050300  Wisconsin         WI  East North Central     Midwest   Region II   \n",
       "WI0050300  Wisconsin         WI  East North Central     Midwest   Region II   \n",
       "WI0090400  Wisconsin         WI  East North Central     Midwest   Region II   \n",
       "WI0090400  Wisconsin         WI  East North Central     Midwest   Region II   \n",
       "WI0100400  Wisconsin         WI  East North Central     Midwest   Region II   \n",
       "\n",
       "          county_name  nibrs   latitude  longitude nibrs_start_date  \\\n",
       "WI0050300     SHAWANO  False  44.473961 -87.995926             None   \n",
       "WI0050300       BROWN  False  44.473961 -87.995926             None   \n",
       "WI0090400       CLARK   True  45.069092 -91.283505       01/01/2019   \n",
       "WI0090400    CHIPPEWA   True  45.069092 -91.283505       01/01/2019   \n",
       "WI0100400    MARATHON  False  44.733596 -90.610201             None   \n",
       "\n",
       "                                        violent_crime_counts fips_keys  \\\n",
       "WI0050300  [[1990, 3], [1991, 3], [1992, 3], [1993, 1], [...     55115   \n",
       "WI0050300  [[1990, 3], [1991, 3], [1992, 3], [1993, 1], [...     55009   \n",
       "WI0090400  [[1985, 1], [1986, 3], [1987, 2], [1988, 6], [...     55019   \n",
       "WI0090400  [[1985, 1], [1986, 3], [1987, 2], [1988, 6], [...     55017   \n",
       "WI0100400  [[1996, 2], [1997, 10], [1999, 2], [2000, 7], ...     55073   \n",
       "\n",
       "          population  2019_crimes  weighted_vals weighted_crimes_2019  \\\n",
       "WI0050300    40904.0          8.0            NaN             1.082575   \n",
       "WI0050300   261368.0          8.0            NaN             6.917425   \n",
       "WI0090400    34579.0          5.0            NaN             1.755796   \n",
       "WI0090400    63892.0          5.0            NaN             3.244204   \n",
       "WI0100400   135396.0          2.0            NaN             1.593128   \n",
       "\n",
       "          final_2019_crimes  \n",
       "WI0050300          1.082575  \n",
       "WI0050300          6.917425  \n",
       "WI0090400          1.755796  \n",
       "WI0090400          3.244204  \n",
       "WI0100400          1.593128  "
      ]
     },
     "execution_count": 18,
     "metadata": {},
     "output_type": "execute_result"
    }
   ],
   "source": [
    "df2.head()\n",
    "# exploded df contains all of the agencies with multiple counties \n",
    "# with weighted crime splits, by population in weighted_crimes_2019\n",
    "exploded_df = df2.explode(['county_name','fips_keys','weighted_crimes_2019','population'])\n",
    "exploded_df['final_2019_crimes']=exploded_df['weighted_crimes_2019']\n",
    "exploded_df.head()"
   ]
  },
  {
   "cell_type": "code",
   "execution_count": 19,
   "metadata": {
    "colab": {
     "base_uri": "https://localhost:8080/"
    },
    "executionInfo": {
     "elapsed": 167,
     "status": "ok",
     "timestamp": 1660240008234,
     "user": {
      "displayName": "Elizabeth Giancola",
      "userId": "12599460371540732383"
     },
     "user_tz": 240
    },
    "id": "arzLq37vtelL",
    "outputId": "d23d08aa-5dfd-4d8e-b0fb-a0b119fd9777"
   },
   "outputs": [],
   "source": [
    "all_agencies_df = pd.concat([exploded_df, single_county_df])\n",
    "\n",
    "final_df = all_agencies_df.groupby('fips_keys').agg({\n",
    "    'final_2019_crimes': 'sum'\n",
    "}).reset_index()"
   ]
  },
  {
   "cell_type": "code",
   "execution_count": 20,
   "metadata": {
    "id": "GvN8D0fhkgOz"
   },
   "outputs": [],
   "source": [
    "final_df = final_df[['fips_keys', 'final_2019_crimes']]\n",
    "pop_df['FIPS'] = pd.to_numeric(pop_df['FIPS'])\n",
    "final_df['fips_keys'] = pd.to_numeric(final_df['fips_keys'])\n",
    "\n",
    "\n",
    "final_df= pd.merge(final_df,pop_df,how='left', left_on='fips_keys',right_on='FIPS')"
   ]
  },
  {
   "cell_type": "code",
   "execution_count": 21,
   "metadata": {
    "colab": {
     "base_uri": "https://localhost:8080/",
     "height": 112
    },
    "executionInfo": {
     "elapsed": 24,
     "status": "ok",
     "timestamp": 1660240008242,
     "user": {
      "displayName": "Elizabeth Giancola",
      "userId": "12599460371540732383"
     },
     "user_tz": 240
    },
    "id": "r2dKFfVAlbWb",
    "outputId": "ddafd949-2446-4cdd-d3bc-f270c13f4aa0"
   },
   "outputs": [
    {
     "data": {
      "text/html": [
       "<div>\n",
       "<style scoped>\n",
       "    .dataframe tbody tr th:only-of-type {\n",
       "        vertical-align: middle;\n",
       "    }\n",
       "\n",
       "    .dataframe tbody tr th {\n",
       "        vertical-align: top;\n",
       "    }\n",
       "\n",
       "    .dataframe thead th {\n",
       "        text-align: right;\n",
       "    }\n",
       "</style>\n",
       "<table border=\"1\" class=\"dataframe\">\n",
       "  <thead>\n",
       "    <tr style=\"text-align: right;\">\n",
       "      <th></th>\n",
       "      <th>fips_keys</th>\n",
       "      <th>final_2019_crimes</th>\n",
       "      <th>population</th>\n",
       "      <th>FIPS</th>\n",
       "      <th>County_Name</th>\n",
       "      <th>crime_rate</th>\n",
       "    </tr>\n",
       "  </thead>\n",
       "  <tbody>\n",
       "    <tr>\n",
       "      <th>2084</th>\n",
       "      <td>39103</td>\n",
       "      <td>74.605212</td>\n",
       "      <td>177980.0</td>\n",
       "      <td>39103.0</td>\n",
       "      <td>MEDINA</td>\n",
       "      <td>41.91775</td>\n",
       "    </tr>\n",
       "    <tr>\n",
       "      <th>2675</th>\n",
       "      <td>48325</td>\n",
       "      <td>431.088907</td>\n",
       "      <td>50057.0</td>\n",
       "      <td>48325.0</td>\n",
       "      <td>MEDINA</td>\n",
       "      <td>861.19605</td>\n",
       "    </tr>\n",
       "  </tbody>\n",
       "</table>\n",
       "</div>"
      ],
      "text/plain": [
       "      fips_keys final_2019_crimes  population     FIPS County_Name crime_rate\n",
       "2084      39103         74.605212    177980.0  39103.0      MEDINA   41.91775\n",
       "2675      48325        431.088907     50057.0  48325.0      MEDINA  861.19605"
      ]
     },
     "execution_count": 21,
     "metadata": {},
     "output_type": "execute_result"
    }
   ],
   "source": [
    "final_df['crime_rate']=final_df['final_2019_crimes']/final_df['population']*100000\n",
    "\n",
    "final_df[final_df['County_Name']=='MEDINA']"
   ]
  },
  {
   "cell_type": "code",
   "execution_count": 22,
   "metadata": {
    "id": "YcD7r2boUDij"
   },
   "outputs": [],
   "source": [
    "final_df = final_df[['fips_keys', 'final_2019_crimes','crime_rate']]\n",
    "\n",
    "final_df.to_csv(f'{data_path}/processed/weighted_crime_data_fips_split.csv', index=False)"
   ]
  },
  {
   "cell_type": "code",
   "execution_count": null,
   "metadata": {
    "id": "Qnc5aarbBQWs"
   },
   "outputs": [],
   "source": []
  }
 ],
 "metadata": {
  "colab": {
   "collapsed_sections": [],
   "name": "crime_population_weighted_group_by.ipynb",
   "provenance": []
  },
  "kernelspec": {
   "display_name": "Python 3 (ipykernel)",
   "language": "python",
   "name": "python3"
  },
  "language_info": {
   "codemirror_mode": {
    "name": "ipython",
    "version": 3
   },
   "file_extension": ".py",
   "mimetype": "text/x-python",
   "name": "python",
   "nbconvert_exporter": "python",
   "pygments_lexer": "ipython3",
   "version": "3.9.13"
  }
 },
 "nbformat": 4,
 "nbformat_minor": 1
}
