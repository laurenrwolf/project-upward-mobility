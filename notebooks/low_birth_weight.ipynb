{
 "cells": [
  {
   "cell_type": "markdown",
   "metadata": {
    "id": "qSxP5DvFoprw"
   },
   "source": [
    "### CDC Low Birth Weight"
   ]
  },
  {
   "cell_type": "markdown",
   "metadata": {
    "id": "sk0iq1ACopr1"
   },
   "source": [
    "Able to find county-level data for 2019 - by mother's race and ethnicity. "
   ]
  },
  {
   "cell_type": "markdown",
   "metadata": {
    "id": "MYv3vz-Kopr2"
   },
   "source": [
    "Centers for Disease Control and Prevention, National Center for Health Statistics. National Vital Statistics System, Natality on CDC WONDER Online Database. Data are from the Natality Records 2016-2020, as compiled from data provided by the 57 vital statistics jurisdictions through the Vital Statistics Cooperative Program. Accessed at http://wonder.cdc.gov/natality-expanded-current.html on Jul 7, 2022 11:46:06 AM"
   ]
  },
  {
   "cell_type": "markdown",
   "metadata": {
    "id": "NyP2Sdg4opr3"
   },
   "source": [
    "Note: low birth weight is defined as under 2500 grams at birth"
   ]
  },
  {
   "cell_type": "markdown",
   "metadata": {
    "id": "w_yAYnnpopr4"
   },
   "source": [
    "### Low Birth Weight Percent by Mother's Race and County"
   ]
  },
  {
   "cell_type": "code",
   "execution_count": 1,
   "metadata": {
    "colab": {
     "base_uri": "https://localhost:8080/"
    },
    "executionInfo": {
     "elapsed": 1318,
     "status": "ok",
     "timestamp": 1660838887629,
     "user": {
      "displayName": "Elizabeth Giancola",
      "userId": "12599460371540732383"
     },
     "user_tz": 240
    },
    "id": "QgP1aaeCouqM",
    "outputId": "635fb354-d9f4-4d7a-8bde-29a64f229bf7"
   },
   "outputs": [],
   "source": [
    "import os\n",
    "if 'COLAB_GPU' in os.environ:\n",
    "    from google.colab import  drive\n",
    "    drive.mount('/drive')\n",
    "    data_path = '/drive/Shared drives/Capstone/notebooks/data'\n",
    "else:\n",
    "    data_path = 'data'\n"
   ]
  },
  {
   "cell_type": "code",
   "execution_count": 2,
   "metadata": {
    "colab": {
     "base_uri": "https://localhost:8080/",
     "height": 206
    },
    "executionInfo": {
     "elapsed": 63,
     "status": "ok",
     "timestamp": 1660838887638,
     "user": {
      "displayName": "Elizabeth Giancola",
      "userId": "12599460371540732383"
     },
     "user_tz": 240
    },
    "id": "IXukkcxcopr5",
    "outputId": "a5dc51b7-84c7-4e84-f70a-5e5fda6174f1"
   },
   "outputs": [
    {
     "data": {
      "text/html": [
       "<div>\n",
       "<style scoped>\n",
       "    .dataframe tbody tr th:only-of-type {\n",
       "        vertical-align: middle;\n",
       "    }\n",
       "\n",
       "    .dataframe tbody tr th {\n",
       "        vertical-align: top;\n",
       "    }\n",
       "\n",
       "    .dataframe thead th {\n",
       "        text-align: right;\n",
       "    }\n",
       "</style>\n",
       "<table border=\"1\" class=\"dataframe\">\n",
       "  <thead>\n",
       "    <tr style=\"text-align: right;\">\n",
       "      <th></th>\n",
       "      <th>County of Residence</th>\n",
       "      <th>County of Residence Code</th>\n",
       "      <th>Mother's Single Race 6</th>\n",
       "      <th>Year</th>\n",
       "      <th>Births</th>\n",
       "      <th>low_birth_weight</th>\n",
       "    </tr>\n",
       "  </thead>\n",
       "  <tbody>\n",
       "    <tr>\n",
       "      <th>0</th>\n",
       "      <td>Jefferson County, AL</td>\n",
       "      <td>1073.0</td>\n",
       "      <td>Black or African American</td>\n",
       "      <td>2019.0</td>\n",
       "      <td>18.0</td>\n",
       "      <td>low</td>\n",
       "    </tr>\n",
       "    <tr>\n",
       "      <th>1</th>\n",
       "      <td>Mobile County, AL</td>\n",
       "      <td>1097.0</td>\n",
       "      <td>Black or African American</td>\n",
       "      <td>2019.0</td>\n",
       "      <td>20.0</td>\n",
       "      <td>low</td>\n",
       "    </tr>\n",
       "    <tr>\n",
       "      <th>2</th>\n",
       "      <td>Montgomery County, AL</td>\n",
       "      <td>1101.0</td>\n",
       "      <td>Black or African American</td>\n",
       "      <td>2019.0</td>\n",
       "      <td>10.0</td>\n",
       "      <td>low</td>\n",
       "    </tr>\n",
       "    <tr>\n",
       "      <th>3</th>\n",
       "      <td>Tuscaloosa County, AL</td>\n",
       "      <td>1125.0</td>\n",
       "      <td>Black or African American</td>\n",
       "      <td>2019.0</td>\n",
       "      <td>10.0</td>\n",
       "      <td>low</td>\n",
       "    </tr>\n",
       "    <tr>\n",
       "      <th>4</th>\n",
       "      <td>Unidentified Counties, AL</td>\n",
       "      <td>1999.0</td>\n",
       "      <td>Black or African American</td>\n",
       "      <td>2019.0</td>\n",
       "      <td>21.0</td>\n",
       "      <td>low</td>\n",
       "    </tr>\n",
       "  </tbody>\n",
       "</table>\n",
       "</div>"
      ],
      "text/plain": [
       "         County of Residence  County of Residence Code  \\\n",
       "0       Jefferson County, AL                    1073.0   \n",
       "1          Mobile County, AL                    1097.0   \n",
       "2      Montgomery County, AL                    1101.0   \n",
       "3      Tuscaloosa County, AL                    1125.0   \n",
       "4  Unidentified Counties, AL                    1999.0   \n",
       "\n",
       "      Mother's Single Race 6    Year  Births low_birth_weight  \n",
       "0  Black or African American  2019.0    18.0              low  \n",
       "1  Black or African American  2019.0    20.0              low  \n",
       "2  Black or African American  2019.0    10.0              low  \n",
       "3  Black or African American  2019.0    10.0              low  \n",
       "4  Black or African American  2019.0    21.0              low  "
      ]
     },
     "execution_count": 2,
     "metadata": {},
     "output_type": "execute_result"
    }
   ],
   "source": [
    "import pandas as pd\n",
    "import numpy as np\n",
    "\n",
    "def clean_input(data, dropping, low_weight):\n",
    "    cdc_df = pd.read_csv(data)\n",
    "    cdc_df.drop(dropping, axis=1,inplace=True)\n",
    "    \n",
    "    cdc_df['low_birth_weight'] = np.where(cdc_df['Infant Birth Weight 12'].isin(low_weight), 'low', 'not low')\n",
    "    cdc_df = cdc_df.dropna(axis='rows')\n",
    "    cdc_df.drop(\"Infant Birth Weight 12\", axis=1,inplace=True)\n",
    "    return cdc_df\n",
    "\n",
    "#this is the data broken down by mother's race\n",
    "data = f'{data_path}/external/natality_2019_race.csv'\n",
    "\n",
    "to_drop = ['Notes','Infant Birth Weight 12 Code', \"Mother's Single Race 6 Code\", #'Year',\n",
    " 'Year Code','Average Birth Weight (grams)']\n",
    "\n",
    "\n",
    "low_weight = ['499 grams or less', '500 - 999 grams', '1000 - 1499 grams', '1500 - 1999 grams',\n",
    "       '2000 - 2499 grams']\n",
    "\n",
    "\n",
    "\n",
    "cdc_df = clean_input(data, to_drop, low_weight)\n",
    "\n",
    "cdc_df.head()\n"
   ]
  },
  {
   "cell_type": "code",
   "execution_count": 3,
   "metadata": {
    "colab": {
     "base_uri": "https://localhost:8080/"
    },
    "executionInfo": {
     "elapsed": 34,
     "status": "ok",
     "timestamp": 1660838887639,
     "user": {
      "displayName": "Elizabeth Giancola",
      "userId": "12599460371540732383"
     },
     "user_tz": 240
    },
    "id": "_aP7FSygd_ao",
    "outputId": "927924e4-65d9-4d9d-8126-7f97c2d46beb"
   },
   "outputs": [
    {
     "data": {
      "text/plain": [
       "626"
      ]
     },
     "execution_count": 3,
     "metadata": {},
     "output_type": "execute_result"
    }
   ],
   "source": [
    "# only have data for 626 counties\n",
    "len(cdc_df['County of Residence Code'].unique())\n"
   ]
  },
  {
   "cell_type": "code",
   "execution_count": 4,
   "metadata": {
    "colab": {
     "base_uri": "https://localhost:8080/",
     "height": 392
    },
    "executionInfo": {
     "elapsed": 288,
     "status": "ok",
     "timestamp": 1660838887909,
     "user": {
      "displayName": "Elizabeth Giancola",
      "userId": "12599460371540732383"
     },
     "user_tz": 240
    },
    "id": "muewpWjNopr7",
    "outputId": "a9d3da59-9acc-4d71-b3c3-b250d3875250"
   },
   "outputs": [
    {
     "data": {
      "text/html": [
       "<div>\n",
       "<style scoped>\n",
       "    .dataframe tbody tr th:only-of-type {\n",
       "        vertical-align: middle;\n",
       "    }\n",
       "\n",
       "    .dataframe tbody tr th {\n",
       "        vertical-align: top;\n",
       "    }\n",
       "\n",
       "    .dataframe thead th {\n",
       "        text-align: right;\n",
       "    }\n",
       "</style>\n",
       "<table border=\"1\" class=\"dataframe\">\n",
       "  <thead>\n",
       "    <tr style=\"text-align: right;\">\n",
       "      <th>low_birth_weight</th>\n",
       "      <th>County of Residence</th>\n",
       "      <th>County of Residence Code</th>\n",
       "      <th>Black or African American_low_birth_rate</th>\n",
       "      <th>White_low_birth_rate</th>\n",
       "      <th>Asian_low_birth_rate</th>\n",
       "      <th>More than one race_low_birth_rate</th>\n",
       "      <th>American Indian or Alaska Native_low_birth_rate</th>\n",
       "      <th>Native Hawaiian or Other Pacific Islander_low_birth_rate</th>\n",
       "    </tr>\n",
       "  </thead>\n",
       "  <tbody>\n",
       "    <tr>\n",
       "      <th>0</th>\n",
       "      <td>Ada County, ID</td>\n",
       "      <td>16001.0</td>\n",
       "      <td>NaN</td>\n",
       "      <td>0.055351</td>\n",
       "      <td>0.057803</td>\n",
       "      <td>0.075758</td>\n",
       "      <td>NaN</td>\n",
       "      <td>NaN</td>\n",
       "    </tr>\n",
       "    <tr>\n",
       "      <th>1</th>\n",
       "      <td>Adams County, CO</td>\n",
       "      <td>8001.0</td>\n",
       "      <td>0.106618</td>\n",
       "      <td>0.089228</td>\n",
       "      <td>0.101266</td>\n",
       "      <td>0.076433</td>\n",
       "      <td>NaN</td>\n",
       "      <td>NaN</td>\n",
       "    </tr>\n",
       "    <tr>\n",
       "      <th>2</th>\n",
       "      <td>Adams County, PA</td>\n",
       "      <td>42001.0</td>\n",
       "      <td>NaN</td>\n",
       "      <td>0.057953</td>\n",
       "      <td>NaN</td>\n",
       "      <td>NaN</td>\n",
       "      <td>NaN</td>\n",
       "      <td>NaN</td>\n",
       "    </tr>\n",
       "    <tr>\n",
       "      <th>3</th>\n",
       "      <td>Aiken County, SC</td>\n",
       "      <td>45003.0</td>\n",
       "      <td>0.145228</td>\n",
       "      <td>0.065343</td>\n",
       "      <td>NaN</td>\n",
       "      <td>NaN</td>\n",
       "      <td>NaN</td>\n",
       "      <td>NaN</td>\n",
       "    </tr>\n",
       "    <tr>\n",
       "      <th>4</th>\n",
       "      <td>Alachua County, FL</td>\n",
       "      <td>12001.0</td>\n",
       "      <td>0.176259</td>\n",
       "      <td>0.072773</td>\n",
       "      <td>NaN</td>\n",
       "      <td>NaN</td>\n",
       "      <td>NaN</td>\n",
       "      <td>NaN</td>\n",
       "    </tr>\n",
       "  </tbody>\n",
       "</table>\n",
       "</div>"
      ],
      "text/plain": [
       "low_birth_weight County of Residence  County of Residence Code  \\\n",
       "0                     Ada County, ID                   16001.0   \n",
       "1                   Adams County, CO                    8001.0   \n",
       "2                   Adams County, PA                   42001.0   \n",
       "3                   Aiken County, SC                   45003.0   \n",
       "4                 Alachua County, FL                   12001.0   \n",
       "\n",
       "low_birth_weight  Black or African American_low_birth_rate  \\\n",
       "0                                                      NaN   \n",
       "1                                                 0.106618   \n",
       "2                                                      NaN   \n",
       "3                                                 0.145228   \n",
       "4                                                 0.176259   \n",
       "\n",
       "low_birth_weight  White_low_birth_rate  Asian_low_birth_rate  \\\n",
       "0                             0.055351              0.057803   \n",
       "1                             0.089228              0.101266   \n",
       "2                             0.057953                   NaN   \n",
       "3                             0.065343                   NaN   \n",
       "4                             0.072773                   NaN   \n",
       "\n",
       "low_birth_weight  More than one race_low_birth_rate  \\\n",
       "0                                          0.075758   \n",
       "1                                          0.076433   \n",
       "2                                               NaN   \n",
       "3                                               NaN   \n",
       "4                                               NaN   \n",
       "\n",
       "low_birth_weight  American Indian or Alaska Native_low_birth_rate  \\\n",
       "0                                                             NaN   \n",
       "1                                                             NaN   \n",
       "2                                                             NaN   \n",
       "3                                                             NaN   \n",
       "4                                                             NaN   \n",
       "\n",
       "low_birth_weight  Native Hawaiian or Other Pacific Islander_low_birth_rate  \n",
       "0                                                               NaN         \n",
       "1                                                               NaN         \n",
       "2                                                               NaN         \n",
       "3                                                               NaN         \n",
       "4                                                               NaN         "
      ]
     },
     "execution_count": 4,
     "metadata": {},
     "output_type": "execute_result"
    }
   ],
   "source": [
    "race1 = \"Mother's Single Race 6\"\n",
    "\n",
    "#one row per county broken down by race\n",
    "def create_pivot(df, race_ethnicity=False):\n",
    "    grouping = ['low_birth_weight','County of Residence','County of Residence Code']\n",
    "    if race_ethnicity:\n",
    "        grouping.append(race_ethnicity)\n",
    "\n",
    "    simple_df = df.groupby(grouping).sum().reset_index()\n",
    "    \n",
    "    grouping2 = ['low_birth_weight']\n",
    "    if race_ethnicity:\n",
    "        grouping2.append(race_ethnicity)\n",
    "\n",
    "    cdc_pivot = pd.pivot_table(simple_df, values='Births', index=[\"County of Residence\",'County of Residence Code'],\n",
    "                    columns=grouping2, aggfunc=np.sum)\n",
    "    if race_ethnicity:\n",
    "        races = list(df[race_ethnicity].unique())\n",
    "\n",
    "        for race in races: #calc percent low birth rate\n",
    "            cdc_pivot[race+'_low_birth_rate']=cdc_pivot[('low', race)]/(cdc_pivot[('low', race)]+cdc_pivot[('not low', race)])\n",
    "\n",
    "        for birth_status in ['low', 'not low']:\n",
    "            for race in races:\n",
    "                cdc_pivot.drop((birth_status,race), axis='columns', inplace=True)\n",
    "    else:\n",
    "        cdc_pivot['low_birth_rate']=cdc_pivot['low']/(cdc_pivot['low']+cdc_pivot['not low'])\n",
    "        for birth_status in ['low', 'not low']:\n",
    "            cdc_pivot.drop(birth_status, axis='columns', inplace=True)\n",
    "\n",
    "    cdc_pivot = cdc_pivot.reset_index()\n",
    "\n",
    "    return(cdc_pivot)\n",
    "\n",
    "\n",
    "race_pivot = create_pivot(cdc_df, race1)\n",
    "race_pivot.columns = race_pivot.columns.droplevel(1)\n",
    "race_pivot.head()"
   ]
  },
  {
   "cell_type": "markdown",
   "metadata": {
    "id": "TAoZFi-Nopr-"
   },
   "source": [
    "## Low birth weight percent by ethnicity"
   ]
  },
  {
   "cell_type": "markdown",
   "metadata": {
    "id": "_jYl8pt9opr_"
   },
   "source": [
    "Used https://wonder.cdc.gov/controller/datarequest/D149;jsessionid=007BD96F2FDB2F19A7F3DE2DB56D"
   ]
  },
  {
   "cell_type": "markdown",
   "metadata": {
    "id": "OTtdHjBkopr_"
   },
   "source": [
    "See screenshot for specific selections"
   ]
  },
  {
   "cell_type": "markdown",
   "metadata": {
    "id": "bSq8IBMtopsA"
   },
   "source": []
  },
  {
   "cell_type": "code",
   "execution_count": 5,
   "metadata": {
    "colab": {
     "base_uri": "https://localhost:8080/",
     "height": 206
    },
    "executionInfo": {
     "elapsed": 30,
     "status": "ok",
     "timestamp": 1660838887909,
     "user": {
      "displayName": "Elizabeth Giancola",
      "userId": "12599460371540732383"
     },
     "user_tz": 240
    },
    "id": "Atovva7ropsA",
    "outputId": "58f543e2-7b3b-4baa-993d-b582725c3775"
   },
   "outputs": [
    {
     "data": {
      "text/html": [
       "<div>\n",
       "<style scoped>\n",
       "    .dataframe tbody tr th:only-of-type {\n",
       "        vertical-align: middle;\n",
       "    }\n",
       "\n",
       "    .dataframe tbody tr th {\n",
       "        vertical-align: top;\n",
       "    }\n",
       "\n",
       "    .dataframe thead th {\n",
       "        text-align: right;\n",
       "    }\n",
       "</style>\n",
       "<table border=\"1\" class=\"dataframe\">\n",
       "  <thead>\n",
       "    <tr style=\"text-align: right;\">\n",
       "      <th></th>\n",
       "      <th>County of Residence</th>\n",
       "      <th>County of Residence Code</th>\n",
       "      <th>Mother's Hispanic Origin</th>\n",
       "      <th>Year</th>\n",
       "      <th>Births</th>\n",
       "      <th>low_birth_weight</th>\n",
       "    </tr>\n",
       "  </thead>\n",
       "  <tbody>\n",
       "    <tr>\n",
       "      <th>0</th>\n",
       "      <td>Jefferson County, AL</td>\n",
       "      <td>1073.0</td>\n",
       "      <td>Not Hispanic or Latino</td>\n",
       "      <td>2019.0</td>\n",
       "      <td>24.0</td>\n",
       "      <td>low</td>\n",
       "    </tr>\n",
       "    <tr>\n",
       "      <th>1</th>\n",
       "      <td>Mobile County, AL</td>\n",
       "      <td>1097.0</td>\n",
       "      <td>Not Hispanic or Latino</td>\n",
       "      <td>2019.0</td>\n",
       "      <td>27.0</td>\n",
       "      <td>low</td>\n",
       "    </tr>\n",
       "    <tr>\n",
       "      <th>2</th>\n",
       "      <td>Montgomery County, AL</td>\n",
       "      <td>1101.0</td>\n",
       "      <td>Not Hispanic or Latino</td>\n",
       "      <td>2019.0</td>\n",
       "      <td>11.0</td>\n",
       "      <td>low</td>\n",
       "    </tr>\n",
       "    <tr>\n",
       "      <th>3</th>\n",
       "      <td>Tuscaloosa County, AL</td>\n",
       "      <td>1125.0</td>\n",
       "      <td>Not Hispanic or Latino</td>\n",
       "      <td>2019.0</td>\n",
       "      <td>13.0</td>\n",
       "      <td>low</td>\n",
       "    </tr>\n",
       "    <tr>\n",
       "      <th>4</th>\n",
       "      <td>Unidentified Counties, AL</td>\n",
       "      <td>1999.0</td>\n",
       "      <td>Not Hispanic or Latino</td>\n",
       "      <td>2019.0</td>\n",
       "      <td>36.0</td>\n",
       "      <td>low</td>\n",
       "    </tr>\n",
       "  </tbody>\n",
       "</table>\n",
       "</div>"
      ],
      "text/plain": [
       "         County of Residence  County of Residence Code  \\\n",
       "0       Jefferson County, AL                    1073.0   \n",
       "1          Mobile County, AL                    1097.0   \n",
       "2      Montgomery County, AL                    1101.0   \n",
       "3      Tuscaloosa County, AL                    1125.0   \n",
       "4  Unidentified Counties, AL                    1999.0   \n",
       "\n",
       "  Mother's Hispanic Origin    Year  Births low_birth_weight  \n",
       "0   Not Hispanic or Latino  2019.0    24.0              low  \n",
       "1   Not Hispanic or Latino  2019.0    27.0              low  \n",
       "2   Not Hispanic or Latino  2019.0    11.0              low  \n",
       "3   Not Hispanic or Latino  2019.0    13.0              low  \n",
       "4   Not Hispanic or Latino  2019.0    36.0              low  "
      ]
     },
     "execution_count": 5,
     "metadata": {},
     "output_type": "execute_result"
    }
   ],
   "source": [
    "data1 = f'{data_path}/external/natality_2019_ethnicity.csv'\n",
    "\n",
    "to_drop = ['Notes','Infant Birth Weight 12 Code', # 'Year',\n",
    " 'Year Code','Average Birth Weight (grams)',\"Mother's Hispanic Origin Code\"]\n",
    "\n",
    "\n",
    "low_weight = ['499 grams or less', '500 - 999 grams', '1000 - 1499 grams', '1500 - 1999 grams',\n",
    "       '2000 - 2499 grams']\n",
    "\n",
    "\n",
    "eth_df = clean_input(data1, to_drop, low_weight)\n",
    "\n",
    "eth_df.head()"
   ]
  },
  {
   "cell_type": "code",
   "execution_count": 6,
   "metadata": {
    "colab": {
     "base_uri": "https://localhost:8080/",
     "height": 268
    },
    "executionInfo": {
     "elapsed": 171,
     "status": "ok",
     "timestamp": 1660838888059,
     "user": {
      "displayName": "Elizabeth Giancola",
      "userId": "12599460371540732383"
     },
     "user_tz": 240
    },
    "id": "camm0ZxlopsA",
    "outputId": "ee2f7fad-7bcc-4e4a-f226-2b0b8a05d3c9"
   },
   "outputs": [
    {
     "data": {
      "text/html": [
       "<div>\n",
       "<style scoped>\n",
       "    .dataframe tbody tr th:only-of-type {\n",
       "        vertical-align: middle;\n",
       "    }\n",
       "\n",
       "    .dataframe tbody tr th {\n",
       "        vertical-align: top;\n",
       "    }\n",
       "\n",
       "    .dataframe thead th {\n",
       "        text-align: right;\n",
       "    }\n",
       "</style>\n",
       "<table border=\"1\" class=\"dataframe\">\n",
       "  <thead>\n",
       "    <tr style=\"text-align: right;\">\n",
       "      <th>low_birth_weight</th>\n",
       "      <th>County of Residence</th>\n",
       "      <th>County of Residence Code</th>\n",
       "      <th>Not Hispanic or Latino_low_birth_rate</th>\n",
       "      <th>Hispanic or Latino_low_birth_rate</th>\n",
       "      <th>Unknown or Not Stated_low_birth_rate</th>\n",
       "    </tr>\n",
       "  </thead>\n",
       "  <tbody>\n",
       "    <tr>\n",
       "      <th>0</th>\n",
       "      <td>Ada County, ID</td>\n",
       "      <td>16001.0</td>\n",
       "      <td>0.056522</td>\n",
       "      <td>0.042308</td>\n",
       "      <td>NaN</td>\n",
       "    </tr>\n",
       "    <tr>\n",
       "      <th>1</th>\n",
       "      <td>Adams County, CO</td>\n",
       "      <td>8001.0</td>\n",
       "      <td>0.097646</td>\n",
       "      <td>0.088296</td>\n",
       "      <td>0.1</td>\n",
       "    </tr>\n",
       "    <tr>\n",
       "      <th>2</th>\n",
       "      <td>Adams County, PA</td>\n",
       "      <td>42001.0</td>\n",
       "      <td>0.058215</td>\n",
       "      <td>NaN</td>\n",
       "      <td>NaN</td>\n",
       "    </tr>\n",
       "    <tr>\n",
       "      <th>3</th>\n",
       "      <td>Aiken County, SC</td>\n",
       "      <td>45003.0</td>\n",
       "      <td>0.103023</td>\n",
       "      <td>NaN</td>\n",
       "      <td>NaN</td>\n",
       "    </tr>\n",
       "    <tr>\n",
       "      <th>4</th>\n",
       "      <td>Alachua County, FL</td>\n",
       "      <td>12001.0</td>\n",
       "      <td>0.109038</td>\n",
       "      <td>0.070632</td>\n",
       "      <td>NaN</td>\n",
       "    </tr>\n",
       "  </tbody>\n",
       "</table>\n",
       "</div>"
      ],
      "text/plain": [
       "low_birth_weight County of Residence  County of Residence Code  \\\n",
       "0                     Ada County, ID                   16001.0   \n",
       "1                   Adams County, CO                    8001.0   \n",
       "2                   Adams County, PA                   42001.0   \n",
       "3                   Aiken County, SC                   45003.0   \n",
       "4                 Alachua County, FL                   12001.0   \n",
       "\n",
       "low_birth_weight  Not Hispanic or Latino_low_birth_rate  \\\n",
       "0                                              0.056522   \n",
       "1                                              0.097646   \n",
       "2                                              0.058215   \n",
       "3                                              0.103023   \n",
       "4                                              0.109038   \n",
       "\n",
       "low_birth_weight  Hispanic or Latino_low_birth_rate  \\\n",
       "0                                          0.042308   \n",
       "1                                          0.088296   \n",
       "2                                               NaN   \n",
       "3                                               NaN   \n",
       "4                                          0.070632   \n",
       "\n",
       "low_birth_weight  Unknown or Not Stated_low_birth_rate  \n",
       "0                                                  NaN  \n",
       "1                                                  0.1  \n",
       "2                                                  NaN  \n",
       "3                                                  NaN  \n",
       "4                                                  NaN  "
      ]
     },
     "execution_count": 6,
     "metadata": {},
     "output_type": "execute_result"
    }
   ],
   "source": [
    "ethnicity = \"Mother's Hispanic Origin\"\n",
    "\n",
    "#one row per county broken down by race\n",
    "\n",
    "\n",
    "\n",
    "ethnicity_pivot = create_pivot(eth_df, ethnicity)\n",
    "\n",
    "ethnicity_pivot.columns = ethnicity_pivot.columns.droplevel(1)\n",
    "\n",
    "ethnicity_pivot.head()"
   ]
  },
  {
   "cell_type": "markdown",
   "metadata": {
    "id": "rI5M7iP5opsB"
   },
   "source": [
    "### Overall Low Birth Weight Rate by County"
   ]
  },
  {
   "cell_type": "code",
   "execution_count": 7,
   "metadata": {
    "id": "bI4_4Se0opsB"
   },
   "outputs": [],
   "source": [
    "data3 = f'{data_path}/external/natality_2019_all.csv'"
   ]
  },
  {
   "cell_type": "code",
   "execution_count": 8,
   "metadata": {
    "colab": {
     "base_uri": "https://localhost:8080/",
     "height": 206
    },
    "executionInfo": {
     "elapsed": 164,
     "status": "ok",
     "timestamp": 1660838888208,
     "user": {
      "displayName": "Elizabeth Giancola",
      "userId": "12599460371540732383"
     },
     "user_tz": 240
    },
    "id": "SnpBpPfMopsC",
    "outputId": "e049b45f-805a-4aeb-b806-c643d98d82c9"
   },
   "outputs": [
    {
     "data": {
      "text/html": [
       "<div>\n",
       "<style scoped>\n",
       "    .dataframe tbody tr th:only-of-type {\n",
       "        vertical-align: middle;\n",
       "    }\n",
       "\n",
       "    .dataframe tbody tr th {\n",
       "        vertical-align: top;\n",
       "    }\n",
       "\n",
       "    .dataframe thead th {\n",
       "        text-align: right;\n",
       "    }\n",
       "</style>\n",
       "<table border=\"1\" class=\"dataframe\">\n",
       "  <thead>\n",
       "    <tr style=\"text-align: right;\">\n",
       "      <th></th>\n",
       "      <th>County of Residence</th>\n",
       "      <th>County of Residence Code</th>\n",
       "      <th>Year</th>\n",
       "      <th>Births</th>\n",
       "      <th>low_birth_weight</th>\n",
       "    </tr>\n",
       "  </thead>\n",
       "  <tbody>\n",
       "    <tr>\n",
       "      <th>0</th>\n",
       "      <td>Jefferson County, AL</td>\n",
       "      <td>1073.0</td>\n",
       "      <td>2019.0</td>\n",
       "      <td>25.0</td>\n",
       "      <td>low</td>\n",
       "    </tr>\n",
       "    <tr>\n",
       "      <th>1</th>\n",
       "      <td>Mobile County, AL</td>\n",
       "      <td>1097.0</td>\n",
       "      <td>2019.0</td>\n",
       "      <td>27.0</td>\n",
       "      <td>low</td>\n",
       "    </tr>\n",
       "    <tr>\n",
       "      <th>2</th>\n",
       "      <td>Montgomery County, AL</td>\n",
       "      <td>1101.0</td>\n",
       "      <td>2019.0</td>\n",
       "      <td>11.0</td>\n",
       "      <td>low</td>\n",
       "    </tr>\n",
       "    <tr>\n",
       "      <th>3</th>\n",
       "      <td>Tuscaloosa County, AL</td>\n",
       "      <td>1125.0</td>\n",
       "      <td>2019.0</td>\n",
       "      <td>13.0</td>\n",
       "      <td>low</td>\n",
       "    </tr>\n",
       "    <tr>\n",
       "      <th>4</th>\n",
       "      <td>Unidentified Counties, AL</td>\n",
       "      <td>1999.0</td>\n",
       "      <td>2019.0</td>\n",
       "      <td>36.0</td>\n",
       "      <td>low</td>\n",
       "    </tr>\n",
       "  </tbody>\n",
       "</table>\n",
       "</div>"
      ],
      "text/plain": [
       "         County of Residence  County of Residence Code    Year  Births  \\\n",
       "0       Jefferson County, AL                    1073.0  2019.0    25.0   \n",
       "1          Mobile County, AL                    1097.0  2019.0    27.0   \n",
       "2      Montgomery County, AL                    1101.0  2019.0    11.0   \n",
       "3      Tuscaloosa County, AL                    1125.0  2019.0    13.0   \n",
       "4  Unidentified Counties, AL                    1999.0  2019.0    36.0   \n",
       "\n",
       "  low_birth_weight  \n",
       "0              low  \n",
       "1              low  \n",
       "2              low  \n",
       "3              low  \n",
       "4              low  "
      ]
     },
     "execution_count": 8,
     "metadata": {},
     "output_type": "execute_result"
    }
   ],
   "source": [
    "\n",
    "to_drop = ['Notes','Infant Birth Weight 12 Code', # 'Year',\n",
    " 'Year Code','Average Birth Weight (grams)']\n",
    "\n",
    "\n",
    "low_weight = ['499 grams or less', '500 - 999 grams', '1000 - 1499 grams', '1500 - 1999 grams',\n",
    "       '2000 - 2499 grams']\n",
    "\n",
    "\n",
    "overall_df = clean_input(data3, to_drop, low_weight)\n",
    "\n",
    "overall_df.head()"
   ]
  },
  {
   "cell_type": "code",
   "execution_count": 9,
   "metadata": {
    "colab": {
     "base_uri": "https://localhost:8080/"
    },
    "executionInfo": {
     "elapsed": 13,
     "status": "ok",
     "timestamp": 1660838888209,
     "user": {
      "displayName": "Elizabeth Giancola",
      "userId": "12599460371540732383"
     },
     "user_tz": 240
    },
    "id": "aY7TjHWNeg6G",
    "outputId": "f87e0a7b-4f3f-4d6b-f5b7-9940b221eb6f"
   },
   "outputs": [
    {
     "data": {
      "text/plain": [
       "626"
      ]
     },
     "execution_count": 9,
     "metadata": {},
     "output_type": "execute_result"
    }
   ],
   "source": [
    "len(overall_df['County of Residence Code'].unique())"
   ]
  },
  {
   "cell_type": "code",
   "execution_count": 10,
   "metadata": {
    "id": "s3MhdfhtopsC"
   },
   "outputs": [],
   "source": [
    "\n",
    "overall_pivot = create_pivot(overall_df)\n",
    "\n",
    "overall_pivot\n",
    "two_dfs = pd.merge(overall_pivot,ethnicity_pivot,how='outer',on=['County of Residence Code','County of Residence'])\n",
    "all_df = pd.merge(two_dfs,race_pivot,how='outer',on=['County of Residence Code','County of Residence'])"
   ]
  },
  {
   "cell_type": "code",
   "execution_count": 11,
   "metadata": {
    "colab": {
     "base_uri": "https://localhost:8080/",
     "height": 696
    },
    "executionInfo": {
     "elapsed": 60,
     "status": "ok",
     "timestamp": 1660838888455,
     "user": {
      "displayName": "Elizabeth Giancola",
      "userId": "12599460371540732383"
     },
     "user_tz": 240
    },
    "id": "FPzV14ZSsMBY",
    "outputId": "b2adf5b9-176e-4819-ace3-240e0fda6763"
   },
   "outputs": [
    {
     "data": {
      "text/html": [
       "<div>\n",
       "<style scoped>\n",
       "    .dataframe tbody tr th:only-of-type {\n",
       "        vertical-align: middle;\n",
       "    }\n",
       "\n",
       "    .dataframe tbody tr th {\n",
       "        vertical-align: top;\n",
       "    }\n",
       "\n",
       "    .dataframe thead th {\n",
       "        text-align: right;\n",
       "    }\n",
       "</style>\n",
       "<table border=\"1\" class=\"dataframe\">\n",
       "  <thead>\n",
       "    <tr style=\"text-align: right;\">\n",
       "      <th>low_birth_weight</th>\n",
       "      <th>County of Residence</th>\n",
       "      <th>County of Residence Code</th>\n",
       "      <th>low_birth_rate</th>\n",
       "      <th>Not Hispanic or Latino_low_birth_rate</th>\n",
       "      <th>Hispanic or Latino_low_birth_rate</th>\n",
       "      <th>Unknown or Not Stated_low_birth_rate</th>\n",
       "      <th>Black or African American_low_birth_rate</th>\n",
       "      <th>White_low_birth_rate</th>\n",
       "      <th>Asian_low_birth_rate</th>\n",
       "      <th>More than one race_low_birth_rate</th>\n",
       "      <th>American Indian or Alaska Native_low_birth_rate</th>\n",
       "      <th>Native Hawaiian or Other Pacific Islander_low_birth_rate</th>\n",
       "    </tr>\n",
       "  </thead>\n",
       "  <tbody>\n",
       "    <tr>\n",
       "      <th>0</th>\n",
       "      <td>Ada County, ID</td>\n",
       "      <td>16001.0</td>\n",
       "      <td>0.057352</td>\n",
       "      <td>0.056522</td>\n",
       "      <td>0.042308</td>\n",
       "      <td>NaN</td>\n",
       "      <td>NaN</td>\n",
       "      <td>0.055351</td>\n",
       "      <td>0.057803</td>\n",
       "      <td>0.075758</td>\n",
       "      <td>NaN</td>\n",
       "      <td>NaN</td>\n",
       "    </tr>\n",
       "    <tr>\n",
       "      <th>1</th>\n",
       "      <td>Adams County, CO</td>\n",
       "      <td>8001.0</td>\n",
       "      <td>0.094523</td>\n",
       "      <td>0.097646</td>\n",
       "      <td>0.088296</td>\n",
       "      <td>0.1</td>\n",
       "      <td>0.106618</td>\n",
       "      <td>0.089228</td>\n",
       "      <td>0.101266</td>\n",
       "      <td>0.076433</td>\n",
       "      <td>NaN</td>\n",
       "      <td>NaN</td>\n",
       "    </tr>\n",
       "    <tr>\n",
       "      <th>2</th>\n",
       "      <td>Adams County, PA</td>\n",
       "      <td>42001.0</td>\n",
       "      <td>0.059977</td>\n",
       "      <td>0.058215</td>\n",
       "      <td>NaN</td>\n",
       "      <td>NaN</td>\n",
       "      <td>NaN</td>\n",
       "      <td>0.057953</td>\n",
       "      <td>NaN</td>\n",
       "      <td>NaN</td>\n",
       "      <td>NaN</td>\n",
       "      <td>NaN</td>\n",
       "    </tr>\n",
       "    <tr>\n",
       "      <th>3</th>\n",
       "      <td>Aiken County, SC</td>\n",
       "      <td>45003.0</td>\n",
       "      <td>0.103391</td>\n",
       "      <td>0.103023</td>\n",
       "      <td>NaN</td>\n",
       "      <td>NaN</td>\n",
       "      <td>0.145228</td>\n",
       "      <td>0.065343</td>\n",
       "      <td>NaN</td>\n",
       "      <td>NaN</td>\n",
       "      <td>NaN</td>\n",
       "      <td>NaN</td>\n",
       "    </tr>\n",
       "    <tr>\n",
       "      <th>4</th>\n",
       "      <td>Alachua County, FL</td>\n",
       "      <td>12001.0</td>\n",
       "      <td>0.106652</td>\n",
       "      <td>0.109038</td>\n",
       "      <td>0.070632</td>\n",
       "      <td>NaN</td>\n",
       "      <td>0.176259</td>\n",
       "      <td>0.072773</td>\n",
       "      <td>NaN</td>\n",
       "      <td>NaN</td>\n",
       "      <td>NaN</td>\n",
       "      <td>NaN</td>\n",
       "    </tr>\n",
       "    <tr>\n",
       "      <th>...</th>\n",
       "      <td>...</td>\n",
       "      <td>...</td>\n",
       "      <td>...</td>\n",
       "      <td>...</td>\n",
       "      <td>...</td>\n",
       "      <td>...</td>\n",
       "      <td>...</td>\n",
       "      <td>...</td>\n",
       "      <td>...</td>\n",
       "      <td>...</td>\n",
       "      <td>...</td>\n",
       "      <td>...</td>\n",
       "    </tr>\n",
       "    <tr>\n",
       "      <th>621</th>\n",
       "      <td>Yolo County, CA</td>\n",
       "      <td>6113.0</td>\n",
       "      <td>0.057617</td>\n",
       "      <td>0.046888</td>\n",
       "      <td>0.046936</td>\n",
       "      <td>NaN</td>\n",
       "      <td>NaN</td>\n",
       "      <td>0.051249</td>\n",
       "      <td>0.040956</td>\n",
       "      <td>NaN</td>\n",
       "      <td>NaN</td>\n",
       "      <td>NaN</td>\n",
       "    </tr>\n",
       "    <tr>\n",
       "      <th>622</th>\n",
       "      <td>York County, ME</td>\n",
       "      <td>23031.0</td>\n",
       "      <td>0.070667</td>\n",
       "      <td>0.071054</td>\n",
       "      <td>NaN</td>\n",
       "      <td>NaN</td>\n",
       "      <td>NaN</td>\n",
       "      <td>0.062350</td>\n",
       "      <td>NaN</td>\n",
       "      <td>NaN</td>\n",
       "      <td>NaN</td>\n",
       "      <td>NaN</td>\n",
       "    </tr>\n",
       "    <tr>\n",
       "      <th>623</th>\n",
       "      <td>York County, PA</td>\n",
       "      <td>42133.0</td>\n",
       "      <td>0.087653</td>\n",
       "      <td>0.084101</td>\n",
       "      <td>0.103506</td>\n",
       "      <td>NaN</td>\n",
       "      <td>0.122407</td>\n",
       "      <td>0.080314</td>\n",
       "      <td>NaN</td>\n",
       "      <td>0.087432</td>\n",
       "      <td>NaN</td>\n",
       "      <td>NaN</td>\n",
       "    </tr>\n",
       "    <tr>\n",
       "      <th>624</th>\n",
       "      <td>York County, SC</td>\n",
       "      <td>45091.0</td>\n",
       "      <td>0.094486</td>\n",
       "      <td>0.095652</td>\n",
       "      <td>0.053922</td>\n",
       "      <td>NaN</td>\n",
       "      <td>0.158967</td>\n",
       "      <td>0.062941</td>\n",
       "      <td>NaN</td>\n",
       "      <td>NaN</td>\n",
       "      <td>NaN</td>\n",
       "      <td>NaN</td>\n",
       "    </tr>\n",
       "    <tr>\n",
       "      <th>625</th>\n",
       "      <td>Yuma County, AZ</td>\n",
       "      <td>4027.0</td>\n",
       "      <td>0.060627</td>\n",
       "      <td>0.044983</td>\n",
       "      <td>0.061049</td>\n",
       "      <td>NaN</td>\n",
       "      <td>NaN</td>\n",
       "      <td>0.059718</td>\n",
       "      <td>NaN</td>\n",
       "      <td>NaN</td>\n",
       "      <td>NaN</td>\n",
       "      <td>NaN</td>\n",
       "    </tr>\n",
       "  </tbody>\n",
       "</table>\n",
       "<p>626 rows × 12 columns</p>\n",
       "</div>"
      ],
      "text/plain": [
       "low_birth_weight County of Residence  County of Residence Code  \\\n",
       "0                     Ada County, ID                   16001.0   \n",
       "1                   Adams County, CO                    8001.0   \n",
       "2                   Adams County, PA                   42001.0   \n",
       "3                   Aiken County, SC                   45003.0   \n",
       "4                 Alachua County, FL                   12001.0   \n",
       "..                               ...                       ...   \n",
       "621                  Yolo County, CA                    6113.0   \n",
       "622                  York County, ME                   23031.0   \n",
       "623                  York County, PA                   42133.0   \n",
       "624                  York County, SC                   45091.0   \n",
       "625                  Yuma County, AZ                    4027.0   \n",
       "\n",
       "low_birth_weight  low_birth_rate  Not Hispanic or Latino_low_birth_rate  \\\n",
       "0                       0.057352                               0.056522   \n",
       "1                       0.094523                               0.097646   \n",
       "2                       0.059977                               0.058215   \n",
       "3                       0.103391                               0.103023   \n",
       "4                       0.106652                               0.109038   \n",
       "..                           ...                                    ...   \n",
       "621                     0.057617                               0.046888   \n",
       "622                     0.070667                               0.071054   \n",
       "623                     0.087653                               0.084101   \n",
       "624                     0.094486                               0.095652   \n",
       "625                     0.060627                               0.044983   \n",
       "\n",
       "low_birth_weight  Hispanic or Latino_low_birth_rate  \\\n",
       "0                                          0.042308   \n",
       "1                                          0.088296   \n",
       "2                                               NaN   \n",
       "3                                               NaN   \n",
       "4                                          0.070632   \n",
       "..                                              ...   \n",
       "621                                        0.046936   \n",
       "622                                             NaN   \n",
       "623                                        0.103506   \n",
       "624                                        0.053922   \n",
       "625                                        0.061049   \n",
       "\n",
       "low_birth_weight  Unknown or Not Stated_low_birth_rate  \\\n",
       "0                                                  NaN   \n",
       "1                                                  0.1   \n",
       "2                                                  NaN   \n",
       "3                                                  NaN   \n",
       "4                                                  NaN   \n",
       "..                                                 ...   \n",
       "621                                                NaN   \n",
       "622                                                NaN   \n",
       "623                                                NaN   \n",
       "624                                                NaN   \n",
       "625                                                NaN   \n",
       "\n",
       "low_birth_weight  Black or African American_low_birth_rate  \\\n",
       "0                                                      NaN   \n",
       "1                                                 0.106618   \n",
       "2                                                      NaN   \n",
       "3                                                 0.145228   \n",
       "4                                                 0.176259   \n",
       "..                                                     ...   \n",
       "621                                                    NaN   \n",
       "622                                                    NaN   \n",
       "623                                               0.122407   \n",
       "624                                               0.158967   \n",
       "625                                                    NaN   \n",
       "\n",
       "low_birth_weight  White_low_birth_rate  Asian_low_birth_rate  \\\n",
       "0                             0.055351              0.057803   \n",
       "1                             0.089228              0.101266   \n",
       "2                             0.057953                   NaN   \n",
       "3                             0.065343                   NaN   \n",
       "4                             0.072773                   NaN   \n",
       "..                                 ...                   ...   \n",
       "621                           0.051249              0.040956   \n",
       "622                           0.062350                   NaN   \n",
       "623                           0.080314                   NaN   \n",
       "624                           0.062941                   NaN   \n",
       "625                           0.059718                   NaN   \n",
       "\n",
       "low_birth_weight  More than one race_low_birth_rate  \\\n",
       "0                                          0.075758   \n",
       "1                                          0.076433   \n",
       "2                                               NaN   \n",
       "3                                               NaN   \n",
       "4                                               NaN   \n",
       "..                                              ...   \n",
       "621                                             NaN   \n",
       "622                                             NaN   \n",
       "623                                        0.087432   \n",
       "624                                             NaN   \n",
       "625                                             NaN   \n",
       "\n",
       "low_birth_weight  American Indian or Alaska Native_low_birth_rate  \\\n",
       "0                                                             NaN   \n",
       "1                                                             NaN   \n",
       "2                                                             NaN   \n",
       "3                                                             NaN   \n",
       "4                                                             NaN   \n",
       "..                                                            ...   \n",
       "621                                                           NaN   \n",
       "622                                                           NaN   \n",
       "623                                                           NaN   \n",
       "624                                                           NaN   \n",
       "625                                                           NaN   \n",
       "\n",
       "low_birth_weight  Native Hawaiian or Other Pacific Islander_low_birth_rate  \n",
       "0                                                               NaN         \n",
       "1                                                               NaN         \n",
       "2                                                               NaN         \n",
       "3                                                               NaN         \n",
       "4                                                               NaN         \n",
       "..                                                              ...         \n",
       "621                                                             NaN         \n",
       "622                                                             NaN         \n",
       "623                                                             NaN         \n",
       "624                                                             NaN         \n",
       "625                                                             NaN         \n",
       "\n",
       "[626 rows x 12 columns]"
      ]
     },
     "execution_count": 11,
     "metadata": {},
     "output_type": "execute_result"
    }
   ],
   "source": [
    "all_df"
   ]
  },
  {
   "cell_type": "code",
   "execution_count": 12,
   "metadata": {
    "id": "W-2RCZYTopsD"
   },
   "outputs": [],
   "source": [
    "\n",
    "\n",
    "all_df = all_df.reset_index()\n",
    "\n",
    "\n",
    "all_df.to_csv(f'{data_path}/interim/county_low_birth.csv', index=False)\n",
    "\n"
   ]
  },
  {
   "cell_type": "markdown",
   "metadata": {
    "id": "Qgmbg0fkopsD"
   },
   "source": [
    "<a style='text-decoration:none;line-height:16px;display:flex;color:#5B5B62;padding:10px;justify-content:end;' href='https://deepnote.com?utm_source=created-in-deepnote-cell&projectId=96aa4e71-9142-4f1e-8c2a-54e13d3b1860' target=\"_blank\">\n",
    "<img alt='Created in deepnote.com' style='display:inline;max-height:16px;margin:0px;margin-right:7.5px;' src='data:image/svg+xml;base64,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' > </img>\n",
    "Created in <span style='font-weight:600;margin-left:4px;'>Deepnote</span></a>"
   ]
  }
 ],
 "metadata": {
  "colab": {
   "collapsed_sections": [],
   "name": "low_birth_weight.ipynb",
   "provenance": []
  },
  "deepnote": {},
  "deepnote_execution_queue": [],
  "deepnote_notebook_id": "020c69f9-dc15-41ed-8373-c4ed76092ba4",
  "gpuClass": "standard",
  "kernelspec": {
   "display_name": "Python 3 (ipykernel)",
   "language": "python",
   "name": "python3"
  },
  "language_info": {
   "codemirror_mode": {
    "name": "ipython",
    "version": 3
   },
   "file_extension": ".py",
   "mimetype": "text/x-python",
   "name": "python",
   "nbconvert_exporter": "python",
   "pygments_lexer": "ipython3",
   "version": "3.9.13"
  }
 },
 "nbformat": 4,
 "nbformat_minor": 1
}
